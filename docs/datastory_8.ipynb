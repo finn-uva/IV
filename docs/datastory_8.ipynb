{
 "cells": [
  {
   "cell_type": "markdown",
   "id": "5013a8be",
   "metadata": {},
   "source": [
    "## Data Story\n",
    "20-06-23\n",
    "- Maurits van der Does Willebois\n",
    "- Luc buijs\n",
    "- Lucas Woudstra\n",
    "- Finn Govers\n"
   ]
  },
  {
   "attachments": {},
   "cell_type": "markdown",
   "id": "9ad1ad45",
   "metadata": {},
   "source": [
    "## Table of contents ##\n",
    "\n",
    "- ### [Introduction](#Introduction)\n",
    "- ### [Dataset and preprocessing](#dataset-and-preprocessing) \n",
    "- ### [Link to Github Online Repository](#link-to-github-online-repository)\n",
    "- ### [Load Data](#load-data)\n",
    "- ### [Reflection](#reflection)\n",
    "- ### [Work distribution](#work-distribution)\n",
    "- ### [First Pespective](#first-perspective)\n",
    "    - ##### [Argument 1](#argument-11)\n",
    "    - ##### [Argument 2](#argument-12)\n",
    "    - ##### [Argument 3](#argument-13)\n",
    "- ### [Second Pespective](#second-perspective)\n",
    "    - ##### [Argument 1](#argument-21)\n",
    "    - ##### [Argument 2](#argument-22)\n",
    "    - ##### [Argument 3](#argument-23)\n",
    "- ### [Use of generative AI](#use-of-generative-ai)"
   ]
  },
  {
   "attachments": {},
   "cell_type": "markdown",
   "id": "bcfd86fd",
   "metadata": {},
   "source": [
    "<a id=\"Introduction\"></a>\n",
    "\n",
    "## Introduction\n",
    "\n",
    "Climate change is one of the most pressing debates of todays society, (most) scientists have come to the conclusion that if we don't do something quickly, humanity is in serious danger from the consequences. We decided to look at what the root of this problem is, more specificly, which industrial sector is currently the biggest threat in the context of climate change. There are a few obvious contenders: many may think the biggest threat is fossil energy, or more generally the energy sector. We will try to see wether this is accurate or not by comparing the CO2 gas emissions of different\n",
    "industries throughout the years. We have found two different perspectives: \n",
    "\n",
    "Our first perspective on the topic is that it should be our priority to focus on the switch from fossil energy to\n",
    "renewable energy sources. Fossil energy has a massive impact on climate change due to it's large\n",
    "amount of CO2 gas emission. Immediate action is required to look for greener energy\n",
    "with lower amounts of CO2 gas emission. This would help slow down the climate change drastically.\n",
    "\n",
    "Our second perspective is that our priority should not be to focus on the energy sector, but something\n",
    "entirely different. For instance a while ago it came to light how big of an impact the meat\n",
    "industry has on CO2 gas emissions across the world, because of how many acres of land\n",
    "espescially cows need to be fed and kept. Examples like this lead us to believe that our priority should not be to focus on the energy sector in the endeavour to reduce CO2 gas emissions to fight the rapid climate change\n",
    "happening right now."
   ]
  },
  {
   "attachments": {},
   "cell_type": "markdown",
   "id": "9e036439",
   "metadata": {},
   "source": [
    "<a id=\"dataset-and-preprocessing\"></a>\n",
    "\n",
    "## Dataset and Preprocessing\n",
    "\n",
    "The dataset \"Energy data 1990 - 2020.csv\" contains information about different aspects of the energy production and consumption for different countries from 1990 to 2020, such as the share of wind/solar energy in the total energy production of a country in a certain year.\n",
    "\n",
    "The dataset \"historical_emissions.csv\" contains information about the CO2 emissions of different industry sectors from different countries from 1990 to 2019, such as the CO2 emissions of the energy sector of a country in a certain year.\n",
    "\n",
    "We did not preprocess the dataset \"Energy data 1990 - 2020.csv\" in any way.\n",
    "\n",
    "We did preprocess the dataset \"historical_emissions.csv\" and saved the result as \"historical_emissions (cleanest).csv\". The preprocessing of this dataset went as follows:\n",
    "\n",
    "We removed all columns that only had one unique value. We also merged all rows that contained data about the same year but about different countries by summing up the CO2 emissions, so that we now had data about the global CO2 emissions instead of emissions of individual countries. Furthermore, we reorganised the data in a way that resembles a transposition: The original data had a unique column for every year, and had one column for all sectors with the value of that column for any row being the name of the sector about which that row contained data. But after our transformation, the dataset had one unique column for every sector, and had one column for all years with the value of that column for any row being the year about which that row contained data. Lastly, We merged the sectors \"Energy\" and \"Electricity/Heat\" by summing up their CO2 emission, because those sectors both belong to the energy production sector, which is the sector that we are interested in.\n",
    "\n",
    "We did all this preprocessing with the code in the file \"clean.ipynb\", which can be found in the table of contents to the left of this page or our GitHub online repository."
   ]
  },
  {
   "attachments": {},
   "cell_type": "markdown",
   "id": "40d52f81",
   "metadata": {},
   "source": [
    "<a id=\"link-to-github-online-repository\"></a>\n",
    "\n",
    "## Link to GitHub Online Repository\n",
    "https://github.com/finn-uva/IV"
   ]
  },
  {
   "attachments": {},
   "cell_type": "markdown",
   "id": "d73cdeb7",
   "metadata": {},
   "source": [
    "<a id=\"load-data\"></a>\n",
    "\n",
    "## Load Data"
   ]
  },
  {
   "cell_type": "code",
   "execution_count": 12,
   "id": "f96c07ca",
   "metadata": {},
   "outputs": [],
   "source": [
    "\n",
    "import pandas as pd\n",
    "import plotly.graph_objects as go\n",
    "import plotly.express as px\n",
    "import matplotlib.pyplot as plt\n",
    "import numpy as np\n",
    "\n",
    "df = pd.read_csv('historical_emissions (cleanest).csv')\n",
    "df1 = pd.read_csv('Energy data 1990 - 2020.csv')"
   ]
  },
  {
   "attachments": {},
   "cell_type": "markdown",
   "id": "6db814da",
   "metadata": {},
   "source": [
    "<a id=\"reflection\"></a>\n",
    "\n",
    "## Reflection"
   ]
  },
  {
   "attachments": {},
   "cell_type": "markdown",
   "id": "6a5cf1cb",
   "metadata": {},
   "source": [
    "<a id=\"work-distribution\"></a>\n",
    "\n",
    "## Work Distribution\n",
    "\n",
    "### Maurits ###\n",
    "\n",
    "\n",
    "### Luc ###\n",
    "Luc worked together with Maurits on all the three visualisations and arguments of the first perspective. He also wrote the reflection of the feedback on the draft version together with Maurits.\n",
    "\n",
    "### Finn ###\n",
    "\n",
    "\n",
    "### Lucas ###\n",
    "Lucas has written most of the introduction, he has helped with finding the correct datasets and has worked out argument 1 of the second perspective, of which both the visualisation and the argument itself. After this he made sure the table of contents is functional."
   ]
  },
  {
   "attachments": {},
   "cell_type": "markdown",
   "id": "e33db339",
   "metadata": {},
   "source": [
    "<a id=\"first-perspective\"></a>\n",
    "\n",
    "## First Perspective"
   ]
  },
  {
   "cell_type": "code",
   "execution_count": 13,
   "id": "f405e4d1",
   "metadata": {
    "scrolled": false,
    "tags": [
     "hide-input"
    ]
   },
   "outputs": [
    {
     "data": {
      "application/vnd.plotly.v1+json": {
       "config": {
        "plotlyServerURL": "https://plot.ly"
       },
       "data": [
        {
         "hovertemplate": "Year=%{x}<br>Average MtCO₂e=%{y}<extra></extra>",
         "legendgroup": "",
         "line": {
          "color": "#636efa",
          "dash": "solid"
         },
         "marker": {
          "symbol": "circle"
         },
         "mode": "lines",
         "name": "",
         "orientation": "v",
         "showlegend": false,
         "type": "scatter",
         "x": [
          1990,
          1991,
          1992,
          1993,
          1994,
          1995,
          1996,
          1997,
          1998,
          1999,
          2000,
          2001,
          2002,
          2003,
          2004,
          2005,
          2006,
          2007,
          2008,
          2009,
          2010,
          2011,
          2012,
          2013,
          2014,
          2015,
          2016,
          2017,
          2018,
          2019
         ],
         "xaxis": "x",
         "y": [
          3549.2200000000007,
          3587.621818181818,
          3599.670909090909,
          3625.1381818181817,
          3646.724545454545,
          3743.0509090909104,
          3797.5018181818186,
          3918.6018181818176,
          3893.6263636363637,
          3907.38,
          4017.044545454546,
          4043.3281818181817,
          4127.548181818181,
          4283.03,
          4500.169090909089,
          4647.462727272727,
          4809.896363636363,
          4945.570000000001,
          4978.012727272729,
          4943.6672727272735,
          5211.709090909092,
          5255.956363636364,
          5318.503636363635,
          5430.632727272728,
          5457.1281818181815,
          5412.731818181818,
          5433.0881818181815,
          5492.591818181818,
          5628.823636363638,
          5634.4063636363635
         ],
         "yaxis": "y"
        }
       ],
       "layout": {
        "annotations": [
         {
          "font": {
           "color": "black",
           "size": 13
          },
          "showarrow": false,
          "text": "Fig.1. This graph shows the average MtCO₂e for all countries per year",
          "x": 0.5,
          "xref": "paper",
          "y": -0.24,
          "yref": "paper"
         }
        ],
        "legend": {
         "tracegroupgap": 0
        },
        "template": {
         "data": {
          "bar": [
           {
            "error_x": {
             "color": "#2a3f5f"
            },
            "error_y": {
             "color": "#2a3f5f"
            },
            "marker": {
             "line": {
              "color": "#E5ECF6",
              "width": 0.5
             },
             "pattern": {
              "fillmode": "overlay",
              "size": 10,
              "solidity": 0.2
             }
            },
            "type": "bar"
           }
          ],
          "barpolar": [
           {
            "marker": {
             "line": {
              "color": "#E5ECF6",
              "width": 0.5
             },
             "pattern": {
              "fillmode": "overlay",
              "size": 10,
              "solidity": 0.2
             }
            },
            "type": "barpolar"
           }
          ],
          "carpet": [
           {
            "aaxis": {
             "endlinecolor": "#2a3f5f",
             "gridcolor": "white",
             "linecolor": "white",
             "minorgridcolor": "white",
             "startlinecolor": "#2a3f5f"
            },
            "baxis": {
             "endlinecolor": "#2a3f5f",
             "gridcolor": "white",
             "linecolor": "white",
             "minorgridcolor": "white",
             "startlinecolor": "#2a3f5f"
            },
            "type": "carpet"
           }
          ],
          "choropleth": [
           {
            "colorbar": {
             "outlinewidth": 0,
             "ticks": ""
            },
            "type": "choropleth"
           }
          ],
          "contour": [
           {
            "colorbar": {
             "outlinewidth": 0,
             "ticks": ""
            },
            "colorscale": [
             [
              0,
              "#0d0887"
             ],
             [
              0.1111111111111111,
              "#46039f"
             ],
             [
              0.2222222222222222,
              "#7201a8"
             ],
             [
              0.3333333333333333,
              "#9c179e"
             ],
             [
              0.4444444444444444,
              "#bd3786"
             ],
             [
              0.5555555555555556,
              "#d8576b"
             ],
             [
              0.6666666666666666,
              "#ed7953"
             ],
             [
              0.7777777777777778,
              "#fb9f3a"
             ],
             [
              0.8888888888888888,
              "#fdca26"
             ],
             [
              1,
              "#f0f921"
             ]
            ],
            "type": "contour"
           }
          ],
          "contourcarpet": [
           {
            "colorbar": {
             "outlinewidth": 0,
             "ticks": ""
            },
            "type": "contourcarpet"
           }
          ],
          "heatmap": [
           {
            "colorbar": {
             "outlinewidth": 0,
             "ticks": ""
            },
            "colorscale": [
             [
              0,
              "#0d0887"
             ],
             [
              0.1111111111111111,
              "#46039f"
             ],
             [
              0.2222222222222222,
              "#7201a8"
             ],
             [
              0.3333333333333333,
              "#9c179e"
             ],
             [
              0.4444444444444444,
              "#bd3786"
             ],
             [
              0.5555555555555556,
              "#d8576b"
             ],
             [
              0.6666666666666666,
              "#ed7953"
             ],
             [
              0.7777777777777778,
              "#fb9f3a"
             ],
             [
              0.8888888888888888,
              "#fdca26"
             ],
             [
              1,
              "#f0f921"
             ]
            ],
            "type": "heatmap"
           }
          ],
          "heatmapgl": [
           {
            "colorbar": {
             "outlinewidth": 0,
             "ticks": ""
            },
            "colorscale": [
             [
              0,
              "#0d0887"
             ],
             [
              0.1111111111111111,
              "#46039f"
             ],
             [
              0.2222222222222222,
              "#7201a8"
             ],
             [
              0.3333333333333333,
              "#9c179e"
             ],
             [
              0.4444444444444444,
              "#bd3786"
             ],
             [
              0.5555555555555556,
              "#d8576b"
             ],
             [
              0.6666666666666666,
              "#ed7953"
             ],
             [
              0.7777777777777778,
              "#fb9f3a"
             ],
             [
              0.8888888888888888,
              "#fdca26"
             ],
             [
              1,
              "#f0f921"
             ]
            ],
            "type": "heatmapgl"
           }
          ],
          "histogram": [
           {
            "marker": {
             "pattern": {
              "fillmode": "overlay",
              "size": 10,
              "solidity": 0.2
             }
            },
            "type": "histogram"
           }
          ],
          "histogram2d": [
           {
            "colorbar": {
             "outlinewidth": 0,
             "ticks": ""
            },
            "colorscale": [
             [
              0,
              "#0d0887"
             ],
             [
              0.1111111111111111,
              "#46039f"
             ],
             [
              0.2222222222222222,
              "#7201a8"
             ],
             [
              0.3333333333333333,
              "#9c179e"
             ],
             [
              0.4444444444444444,
              "#bd3786"
             ],
             [
              0.5555555555555556,
              "#d8576b"
             ],
             [
              0.6666666666666666,
              "#ed7953"
             ],
             [
              0.7777777777777778,
              "#fb9f3a"
             ],
             [
              0.8888888888888888,
              "#fdca26"
             ],
             [
              1,
              "#f0f921"
             ]
            ],
            "type": "histogram2d"
           }
          ],
          "histogram2dcontour": [
           {
            "colorbar": {
             "outlinewidth": 0,
             "ticks": ""
            },
            "colorscale": [
             [
              0,
              "#0d0887"
             ],
             [
              0.1111111111111111,
              "#46039f"
             ],
             [
              0.2222222222222222,
              "#7201a8"
             ],
             [
              0.3333333333333333,
              "#9c179e"
             ],
             [
              0.4444444444444444,
              "#bd3786"
             ],
             [
              0.5555555555555556,
              "#d8576b"
             ],
             [
              0.6666666666666666,
              "#ed7953"
             ],
             [
              0.7777777777777778,
              "#fb9f3a"
             ],
             [
              0.8888888888888888,
              "#fdca26"
             ],
             [
              1,
              "#f0f921"
             ]
            ],
            "type": "histogram2dcontour"
           }
          ],
          "mesh3d": [
           {
            "colorbar": {
             "outlinewidth": 0,
             "ticks": ""
            },
            "type": "mesh3d"
           }
          ],
          "parcoords": [
           {
            "line": {
             "colorbar": {
              "outlinewidth": 0,
              "ticks": ""
             }
            },
            "type": "parcoords"
           }
          ],
          "pie": [
           {
            "automargin": true,
            "type": "pie"
           }
          ],
          "scatter": [
           {
            "fillpattern": {
             "fillmode": "overlay",
             "size": 10,
             "solidity": 0.2
            },
            "type": "scatter"
           }
          ],
          "scatter3d": [
           {
            "line": {
             "colorbar": {
              "outlinewidth": 0,
              "ticks": ""
             }
            },
            "marker": {
             "colorbar": {
              "outlinewidth": 0,
              "ticks": ""
             }
            },
            "type": "scatter3d"
           }
          ],
          "scattercarpet": [
           {
            "marker": {
             "colorbar": {
              "outlinewidth": 0,
              "ticks": ""
             }
            },
            "type": "scattercarpet"
           }
          ],
          "scattergeo": [
           {
            "marker": {
             "colorbar": {
              "outlinewidth": 0,
              "ticks": ""
             }
            },
            "type": "scattergeo"
           }
          ],
          "scattergl": [
           {
            "marker": {
             "colorbar": {
              "outlinewidth": 0,
              "ticks": ""
             }
            },
            "type": "scattergl"
           }
          ],
          "scattermapbox": [
           {
            "marker": {
             "colorbar": {
              "outlinewidth": 0,
              "ticks": ""
             }
            },
            "type": "scattermapbox"
           }
          ],
          "scatterpolar": [
           {
            "marker": {
             "colorbar": {
              "outlinewidth": 0,
              "ticks": ""
             }
            },
            "type": "scatterpolar"
           }
          ],
          "scatterpolargl": [
           {
            "marker": {
             "colorbar": {
              "outlinewidth": 0,
              "ticks": ""
             }
            },
            "type": "scatterpolargl"
           }
          ],
          "scatterternary": [
           {
            "marker": {
             "colorbar": {
              "outlinewidth": 0,
              "ticks": ""
             }
            },
            "type": "scatterternary"
           }
          ],
          "surface": [
           {
            "colorbar": {
             "outlinewidth": 0,
             "ticks": ""
            },
            "colorscale": [
             [
              0,
              "#0d0887"
             ],
             [
              0.1111111111111111,
              "#46039f"
             ],
             [
              0.2222222222222222,
              "#7201a8"
             ],
             [
              0.3333333333333333,
              "#9c179e"
             ],
             [
              0.4444444444444444,
              "#bd3786"
             ],
             [
              0.5555555555555556,
              "#d8576b"
             ],
             [
              0.6666666666666666,
              "#ed7953"
             ],
             [
              0.7777777777777778,
              "#fb9f3a"
             ],
             [
              0.8888888888888888,
              "#fdca26"
             ],
             [
              1,
              "#f0f921"
             ]
            ],
            "type": "surface"
           }
          ],
          "table": [
           {
            "cells": {
             "fill": {
              "color": "#EBF0F8"
             },
             "line": {
              "color": "white"
             }
            },
            "header": {
             "fill": {
              "color": "#C8D4E3"
             },
             "line": {
              "color": "white"
             }
            },
            "type": "table"
           }
          ]
         },
         "layout": {
          "annotationdefaults": {
           "arrowcolor": "#2a3f5f",
           "arrowhead": 0,
           "arrowwidth": 1
          },
          "autotypenumbers": "strict",
          "coloraxis": {
           "colorbar": {
            "outlinewidth": 0,
            "ticks": ""
           }
          },
          "colorscale": {
           "diverging": [
            [
             0,
             "#8e0152"
            ],
            [
             0.1,
             "#c51b7d"
            ],
            [
             0.2,
             "#de77ae"
            ],
            [
             0.3,
             "#f1b6da"
            ],
            [
             0.4,
             "#fde0ef"
            ],
            [
             0.5,
             "#f7f7f7"
            ],
            [
             0.6,
             "#e6f5d0"
            ],
            [
             0.7,
             "#b8e186"
            ],
            [
             0.8,
             "#7fbc41"
            ],
            [
             0.9,
             "#4d9221"
            ],
            [
             1,
             "#276419"
            ]
           ],
           "sequential": [
            [
             0,
             "#0d0887"
            ],
            [
             0.1111111111111111,
             "#46039f"
            ],
            [
             0.2222222222222222,
             "#7201a8"
            ],
            [
             0.3333333333333333,
             "#9c179e"
            ],
            [
             0.4444444444444444,
             "#bd3786"
            ],
            [
             0.5555555555555556,
             "#d8576b"
            ],
            [
             0.6666666666666666,
             "#ed7953"
            ],
            [
             0.7777777777777778,
             "#fb9f3a"
            ],
            [
             0.8888888888888888,
             "#fdca26"
            ],
            [
             1,
             "#f0f921"
            ]
           ],
           "sequentialminus": [
            [
             0,
             "#0d0887"
            ],
            [
             0.1111111111111111,
             "#46039f"
            ],
            [
             0.2222222222222222,
             "#7201a8"
            ],
            [
             0.3333333333333333,
             "#9c179e"
            ],
            [
             0.4444444444444444,
             "#bd3786"
            ],
            [
             0.5555555555555556,
             "#d8576b"
            ],
            [
             0.6666666666666666,
             "#ed7953"
            ],
            [
             0.7777777777777778,
             "#fb9f3a"
            ],
            [
             0.8888888888888888,
             "#fdca26"
            ],
            [
             1,
             "#f0f921"
            ]
           ]
          },
          "colorway": [
           "#636efa",
           "#EF553B",
           "#00cc96",
           "#ab63fa",
           "#FFA15A",
           "#19d3f3",
           "#FF6692",
           "#B6E880",
           "#FF97FF",
           "#FECB52"
          ],
          "font": {
           "color": "#2a3f5f"
          },
          "geo": {
           "bgcolor": "white",
           "lakecolor": "white",
           "landcolor": "#E5ECF6",
           "showlakes": true,
           "showland": true,
           "subunitcolor": "white"
          },
          "hoverlabel": {
           "align": "left"
          },
          "hovermode": "closest",
          "mapbox": {
           "style": "light"
          },
          "paper_bgcolor": "white",
          "plot_bgcolor": "#E5ECF6",
          "polar": {
           "angularaxis": {
            "gridcolor": "white",
            "linecolor": "white",
            "ticks": ""
           },
           "bgcolor": "#E5ECF6",
           "radialaxis": {
            "gridcolor": "white",
            "linecolor": "white",
            "ticks": ""
           }
          },
          "scene": {
           "xaxis": {
            "backgroundcolor": "#E5ECF6",
            "gridcolor": "white",
            "gridwidth": 2,
            "linecolor": "white",
            "showbackground": true,
            "ticks": "",
            "zerolinecolor": "white"
           },
           "yaxis": {
            "backgroundcolor": "#E5ECF6",
            "gridcolor": "white",
            "gridwidth": 2,
            "linecolor": "white",
            "showbackground": true,
            "ticks": "",
            "zerolinecolor": "white"
           },
           "zaxis": {
            "backgroundcolor": "#E5ECF6",
            "gridcolor": "white",
            "gridwidth": 2,
            "linecolor": "white",
            "showbackground": true,
            "ticks": "",
            "zerolinecolor": "white"
           }
          },
          "shapedefaults": {
           "line": {
            "color": "#2a3f5f"
           }
          },
          "ternary": {
           "aaxis": {
            "gridcolor": "white",
            "linecolor": "white",
            "ticks": ""
           },
           "baxis": {
            "gridcolor": "white",
            "linecolor": "white",
            "ticks": ""
           },
           "bgcolor": "#E5ECF6",
           "caxis": {
            "gridcolor": "white",
            "linecolor": "white",
            "ticks": ""
           }
          },
          "title": {
           "x": 0.05
          },
          "xaxis": {
           "automargin": true,
           "gridcolor": "white",
           "linecolor": "white",
           "ticks": "",
           "title": {
            "standoff": 15
           },
           "zerolinecolor": "white",
           "zerolinewidth": 2
          },
          "yaxis": {
           "automargin": true,
           "gridcolor": "white",
           "linecolor": "white",
           "ticks": "",
           "title": {
            "standoff": 15
           },
           "zerolinecolor": "white",
           "zerolinewidth": 2
          }
         }
        },
        "title": {
         "text": "Average MtCO₂e for All Sectors per Year"
        },
        "xaxis": {
         "anchor": "y",
         "domain": [
          0,
          1
         ],
         "title": {
          "text": "Year"
         }
        },
        "yaxis": {
         "anchor": "x",
         "domain": [
          0,
          1
         ],
         "title": {
          "text": "Average MtCO₂e"
         }
        }
       }
      }
     },
     "metadata": {},
     "output_type": "display_data"
    }
   ],
   "source": [
    "# Calculate the average MtCO₂e for all sectors per year\n",
    "df['Average MtCO₂e'] = df.mean(axis=1)\n",
    "\n",
    "# Create the plot using Plotly\n",
    "import plotly.express as px\n",
    "from IPython.display import display\n",
    "\n",
    "fig = px.line(df, x='Year', y='Average MtCO₂e', title='Average MtCO₂e for All Sectors per Year')\n",
    "\n",
    "# Add a caption annotation\n",
    "caption_text = \"Fig.1. This graph shows the average MtCO₂e for all countries per year\"\n",
    "fig.add_annotation(\n",
    "    x=0.5,  # x-coordinate for the annotation (0.5 = center of x-axis)\n",
    "    y=-0.24,  # y-coordinate for the annotation (negative value to position it below the graph)\n",
    "    xref=\"paper\",\n",
    "    yref=\"paper\",\n",
    "    text=caption_text,\n",
    "    showarrow=False,\n",
    "    font=dict(\n",
    "        size=13,\n",
    "        color=\"black\"))\n",
    "\n",
    "#fig.write_image(\"figure1.png\")\n",
    "fig.show()"
   ]
  },
  {
   "attachments": {},
   "cell_type": "markdown",
   "id": "563d367b",
   "metadata": {},
   "source": [
    "<a id=\"argument-11\"></a>\n",
    "\n",
    "### Argument 1\n",
    "Figure 1 shows an increasing trend of CO2 production per year of all the countries combined. The most shocking aspect of this graph is the fact that the increasing trend stays the same. In other words, the total emission of CO2 keeps rising at the same rate, with no sign of slowing down.This shows the urgency of developing a more efficient, more renewable and greener form of energy source to reduce the total emissions. \n"
   ]
  },
  {
   "cell_type": "code",
   "execution_count": 14,
   "id": "f30bb0e5",
   "metadata": {
    "tags": [
     "hide-input"
    ]
   },
   "outputs": [
    {
     "data": {
      "application/vnd.plotly.v1+json": {
       "config": {
        "plotlyServerURL": "https://plot.ly"
       },
       "data": [
        {
         "mode": "markers+lines",
         "name": "Bunker Fuels",
         "type": "scatter",
         "x": [
          1990,
          1991,
          1992,
          1993,
          1994,
          1995,
          1996,
          1997,
          1998,
          1999,
          2000,
          2001,
          2002,
          2003,
          2004,
          2005,
          2006,
          2007,
          2008,
          2009,
          2010,
          2011,
          2012,
          2013,
          2014,
          2015,
          2016,
          2017,
          2018,
          2019
         ],
         "y": [
          486.39,
          501.49,
          522.09,
          511.67,
          530.25,
          547.8399999999999,
          561.3100000000001,
          575.86,
          588.53,
          613.3100000000001,
          630.05,
          595.39,
          623.57,
          624.01,
          676.44,
          715.28,
          747.41,
          779.85,
          775.6400000000001,
          717.24,
          755.15,
          771.55,
          732.75,
          733,
          769.7199999999999,
          800.07,
          818.1600000000001,
          844.9,
          860.66,
          858.61
         ]
        },
        {
         "mode": "markers+lines",
         "name": "Energy",
         "type": "scatter",
         "x": [
          1990,
          1991,
          1992,
          1993,
          1994,
          1995,
          1996,
          1997,
          1998,
          1999,
          2000,
          2001,
          2002,
          2003,
          2004,
          2005,
          2006,
          2007,
          2008,
          2009,
          2010,
          2011,
          2012,
          2013,
          2014,
          2015,
          2016,
          2017,
          2018,
          2019
         ],
         "y": [
          25532.47,
          25864.67,
          26048.75,
          26218.17,
          26394.04,
          27057.08,
          27739.42,
          28271.28,
          28638.960000000003,
          28814.66,
          29778.81,
          30311.8,
          30728.35,
          32252,
          33625.34,
          34849.34,
          35971.06,
          37413.4,
          37609.9,
          37094.11,
          39478.850000000006,
          40905.86,
          41542.99,
          42413.28,
          42289.58,
          41748.71,
          41583.27,
          42204.95,
          43280.54,
          43136.98
         ]
        },
        {
         "mode": "markers+lines",
         "name": "Fugitive Emissions",
         "type": "scatter",
         "x": [
          1990,
          1991,
          1992,
          1993,
          1994,
          1995,
          1996,
          1997,
          1998,
          1999,
          2000,
          2001,
          2002,
          2003,
          2004,
          2005,
          2006,
          2007,
          2008,
          2009,
          2010,
          2011,
          2012,
          2013,
          2014,
          2015,
          2016,
          2017,
          2018,
          2019
         ],
         "y": [
          151.18,
          169.04,
          209.78,
          219.53,
          230.07,
          240.24,
          252.55,
          245.5,
          234.63,
          222.4,
          241.63,
          235.39000000000004,
          225.96,
          257.36,
          241.54,
          259.2699999999999,
          241.95,
          232.67,
          216.73,
          221.28,
          199.87,
          207.24,
          198.26,
          193.76,
          202.48,
          202.89,
          203.64,
          188.55,
          199.43,
          208.06
         ]
        },
        {
         "mode": "markers+lines",
         "name": "Industrial Processes",
         "type": "scatter",
         "x": [
          1990,
          1991,
          1992,
          1993,
          1994,
          1995,
          1996,
          1997,
          1998,
          1999,
          2000,
          2001,
          2002,
          2003,
          2004,
          2005,
          2006,
          2007,
          2008,
          2009,
          2010,
          2011,
          2012,
          2013,
          2014,
          2015,
          2016,
          2017,
          2018,
          2019
         ],
         "y": [
          361.22,
          381.3,
          447.53,
          468.3200000000001,
          502,
          533.15,
          543.01,
          563.64,
          559.99,
          589.33,
          616.89,
          645.8299999999999,
          680.5999999999999,
          736.73,
          788.5300000000001,
          832.1,
          913.96,
          978.92,
          987.36,
          1019.91,
          1087.6999999999998,
          1175.75,
          1203.04,
          1253.7800000000002,
          1301.93,
          1241.67,
          1272.52,
          1280.97,
          1334.23,
          1379.0199999999998
         ]
        },
        {
         "mode": "markers+lines",
         "name": "Land-Use Change and Forestry",
         "type": "scatter",
         "x": [
          1990,
          1991,
          1992,
          1993,
          1994,
          1995,
          1996,
          1997,
          1998,
          1999,
          2000,
          2001,
          2002,
          2003,
          2004,
          2005,
          2006,
          2007,
          2008,
          2009,
          2010,
          2011,
          2012,
          2013,
          2014,
          2015,
          2016,
          2017,
          2018,
          2019
         ],
         "y": [
          533.38,
          533.38,
          533.47,
          533.47,
          533.2299999999998,
          535.3799999999999,
          382.81,
          1073.0500000000002,
          512.3299999999998,
          416.1700000000001,
          362.0300000000002,
          16.689999999999806,
          388.4999999999999,
          118.99000000000002,
          389.0200000000001,
          187.13999999999987,
          481.4800000000001,
          56.90999999999976,
          50.71999999999993,
          352.4699999999999,
          61.86999999999991,
          -1243.84,
          -1233.67,
          -1253.91,
          -986.3,
          -963.76,
          -546.46,
          -577.4800000000001,
          -433.39,
          -263.21000000000004
         ]
        },
        {
         "mode": "markers+lines",
         "name": "Manufacturing/Construction",
         "type": "scatter",
         "x": [
          1990,
          1991,
          1992,
          1993,
          1994,
          1995,
          1996,
          1997,
          1998,
          1999,
          2000,
          2001,
          2002,
          2003,
          2004,
          2005,
          2006,
          2007,
          2008,
          2009,
          2010,
          2011,
          2012,
          2013,
          2014,
          2015,
          2016,
          2017,
          2018,
          2019
         ],
         "y": [
          3460.37,
          3408.2,
          3318.01,
          3292.9000000000005,
          3325.15,
          3546.2899999999995,
          3431.7200000000003,
          3443.29,
          3447.13,
          3294.51,
          3441.3300000000004,
          3474.06,
          3462.03,
          3635.170000000001,
          4051.49,
          4460.139999999999,
          4674.250000000001,
          4936.83,
          5083.11,
          5094.92,
          5610.680000000001,
          5838.86,
          5852.06,
          5888.3,
          5917.920000000001,
          5816.36,
          5653.32,
          5540.61,
          5612.75,
          5663.300000000001
         ]
        },
        {
         "mode": "markers+lines",
         "name": "Other Fuel Combustion",
         "type": "scatter",
         "x": [
          1990,
          1991,
          1992,
          1993,
          1994,
          1995,
          1996,
          1997,
          1998,
          1999,
          2000,
          2001,
          2002,
          2003,
          2004,
          2005,
          2006,
          2007,
          2008,
          2009,
          2010,
          2011,
          2012,
          2013,
          2014,
          2015,
          2016,
          2017,
          2018,
          2019
         ],
         "y": [
          616.23,
          629.47,
          562.0600000000001,
          583.7,
          563.34,
          518.66,
          451.54,
          499.88000000000005,
          476.15,
          480.82,
          422.05,
          431,
          434.68,
          448.99000000000007,
          482.45,
          502.71,
          511.74,
          511.15,
          514.1500000000001,
          511.98,
          529.1100000000001,
          514.41,
          539.56,
          550.2599999999999,
          545.0899999999999,
          542.69,
          534.69,
          531.7800000000001,
          517.11,
          491.43000000000006
         ]
        },
        {
         "mode": "markers+lines",
         "name": "Transportation",
         "type": "scatter",
         "x": [
          1990,
          1991,
          1992,
          1993,
          1994,
          1995,
          1996,
          1997,
          1998,
          1999,
          2000,
          2001,
          2002,
          2003,
          2004,
          2005,
          2006,
          2007,
          2008,
          2009,
          2010,
          2011,
          2012,
          2013,
          2014,
          2015,
          2016,
          2017,
          2018,
          2019
         ],
         "y": [
          3574.7200000000003,
          3616.04,
          3675.39,
          3710.05,
          3775.52,
          3864.26,
          4020.460000000001,
          4061.89,
          4144.05,
          4253.56,
          4397.950000000001,
          4445.67,
          4539.7,
          4647.24,
          4819.18,
          4893.48,
          4974.7,
          5098.41,
          5079.37,
          4975.81,
          5166.280000000001,
          5256.679999999999,
          5336.14,
          5501.78,
          5569.889999999999,
          5712.39,
          5773.27,
          5883.280000000001,
          5978.05,
          5981.719999999999
         ]
        },
        {
         "mode": "markers+lines",
         "name": "Average MtCO₂e",
         "type": "scatter",
         "x": [
          1990,
          1991,
          1992,
          1993,
          1994,
          1995,
          1996,
          1997,
          1998,
          1999,
          2000,
          2001,
          2002,
          2003,
          2004,
          2005,
          2006,
          2007,
          2008,
          2009,
          2010,
          2011,
          2012,
          2013,
          2014,
          2015,
          2016,
          2017,
          2018,
          2019
         ],
         "y": [
          3549.2200000000007,
          3587.621818181818,
          3599.670909090909,
          3625.1381818181817,
          3646.724545454545,
          3743.0509090909104,
          3797.5018181818186,
          3918.6018181818176,
          3893.6263636363637,
          3907.38,
          4017.044545454546,
          4043.3281818181817,
          4127.548181818181,
          4283.03,
          4500.169090909089,
          4647.462727272727,
          4809.896363636363,
          4945.570000000001,
          4978.012727272729,
          4943.6672727272735,
          5211.709090909092,
          5255.956363636364,
          5318.503636363635,
          5430.632727272728,
          5457.1281818181815,
          5412.731818181818,
          5433.0881818181815,
          5492.591818181818,
          5628.823636363638,
          5634.4063636363635
         ]
        }
       ],
       "layout": {
        "annotations": [
         {
          "font": {
           "color": "black",
           "size": 13
          },
          "showarrow": false,
          "text": "Fig.2. This graph shows the average MtCO₂e for each Sector per year",
          "x": 0.5,
          "xref": "paper",
          "y": -0.24,
          "yref": "paper"
         }
        ],
        "template": {
         "data": {
          "bar": [
           {
            "error_x": {
             "color": "#2a3f5f"
            },
            "error_y": {
             "color": "#2a3f5f"
            },
            "marker": {
             "line": {
              "color": "#E5ECF6",
              "width": 0.5
             },
             "pattern": {
              "fillmode": "overlay",
              "size": 10,
              "solidity": 0.2
             }
            },
            "type": "bar"
           }
          ],
          "barpolar": [
           {
            "marker": {
             "line": {
              "color": "#E5ECF6",
              "width": 0.5
             },
             "pattern": {
              "fillmode": "overlay",
              "size": 10,
              "solidity": 0.2
             }
            },
            "type": "barpolar"
           }
          ],
          "carpet": [
           {
            "aaxis": {
             "endlinecolor": "#2a3f5f",
             "gridcolor": "white",
             "linecolor": "white",
             "minorgridcolor": "white",
             "startlinecolor": "#2a3f5f"
            },
            "baxis": {
             "endlinecolor": "#2a3f5f",
             "gridcolor": "white",
             "linecolor": "white",
             "minorgridcolor": "white",
             "startlinecolor": "#2a3f5f"
            },
            "type": "carpet"
           }
          ],
          "choropleth": [
           {
            "colorbar": {
             "outlinewidth": 0,
             "ticks": ""
            },
            "type": "choropleth"
           }
          ],
          "contour": [
           {
            "colorbar": {
             "outlinewidth": 0,
             "ticks": ""
            },
            "colorscale": [
             [
              0,
              "#0d0887"
             ],
             [
              0.1111111111111111,
              "#46039f"
             ],
             [
              0.2222222222222222,
              "#7201a8"
             ],
             [
              0.3333333333333333,
              "#9c179e"
             ],
             [
              0.4444444444444444,
              "#bd3786"
             ],
             [
              0.5555555555555556,
              "#d8576b"
             ],
             [
              0.6666666666666666,
              "#ed7953"
             ],
             [
              0.7777777777777778,
              "#fb9f3a"
             ],
             [
              0.8888888888888888,
              "#fdca26"
             ],
             [
              1,
              "#f0f921"
             ]
            ],
            "type": "contour"
           }
          ],
          "contourcarpet": [
           {
            "colorbar": {
             "outlinewidth": 0,
             "ticks": ""
            },
            "type": "contourcarpet"
           }
          ],
          "heatmap": [
           {
            "colorbar": {
             "outlinewidth": 0,
             "ticks": ""
            },
            "colorscale": [
             [
              0,
              "#0d0887"
             ],
             [
              0.1111111111111111,
              "#46039f"
             ],
             [
              0.2222222222222222,
              "#7201a8"
             ],
             [
              0.3333333333333333,
              "#9c179e"
             ],
             [
              0.4444444444444444,
              "#bd3786"
             ],
             [
              0.5555555555555556,
              "#d8576b"
             ],
             [
              0.6666666666666666,
              "#ed7953"
             ],
             [
              0.7777777777777778,
              "#fb9f3a"
             ],
             [
              0.8888888888888888,
              "#fdca26"
             ],
             [
              1,
              "#f0f921"
             ]
            ],
            "type": "heatmap"
           }
          ],
          "heatmapgl": [
           {
            "colorbar": {
             "outlinewidth": 0,
             "ticks": ""
            },
            "colorscale": [
             [
              0,
              "#0d0887"
             ],
             [
              0.1111111111111111,
              "#46039f"
             ],
             [
              0.2222222222222222,
              "#7201a8"
             ],
             [
              0.3333333333333333,
              "#9c179e"
             ],
             [
              0.4444444444444444,
              "#bd3786"
             ],
             [
              0.5555555555555556,
              "#d8576b"
             ],
             [
              0.6666666666666666,
              "#ed7953"
             ],
             [
              0.7777777777777778,
              "#fb9f3a"
             ],
             [
              0.8888888888888888,
              "#fdca26"
             ],
             [
              1,
              "#f0f921"
             ]
            ],
            "type": "heatmapgl"
           }
          ],
          "histogram": [
           {
            "marker": {
             "pattern": {
              "fillmode": "overlay",
              "size": 10,
              "solidity": 0.2
             }
            },
            "type": "histogram"
           }
          ],
          "histogram2d": [
           {
            "colorbar": {
             "outlinewidth": 0,
             "ticks": ""
            },
            "colorscale": [
             [
              0,
              "#0d0887"
             ],
             [
              0.1111111111111111,
              "#46039f"
             ],
             [
              0.2222222222222222,
              "#7201a8"
             ],
             [
              0.3333333333333333,
              "#9c179e"
             ],
             [
              0.4444444444444444,
              "#bd3786"
             ],
             [
              0.5555555555555556,
              "#d8576b"
             ],
             [
              0.6666666666666666,
              "#ed7953"
             ],
             [
              0.7777777777777778,
              "#fb9f3a"
             ],
             [
              0.8888888888888888,
              "#fdca26"
             ],
             [
              1,
              "#f0f921"
             ]
            ],
            "type": "histogram2d"
           }
          ],
          "histogram2dcontour": [
           {
            "colorbar": {
             "outlinewidth": 0,
             "ticks": ""
            },
            "colorscale": [
             [
              0,
              "#0d0887"
             ],
             [
              0.1111111111111111,
              "#46039f"
             ],
             [
              0.2222222222222222,
              "#7201a8"
             ],
             [
              0.3333333333333333,
              "#9c179e"
             ],
             [
              0.4444444444444444,
              "#bd3786"
             ],
             [
              0.5555555555555556,
              "#d8576b"
             ],
             [
              0.6666666666666666,
              "#ed7953"
             ],
             [
              0.7777777777777778,
              "#fb9f3a"
             ],
             [
              0.8888888888888888,
              "#fdca26"
             ],
             [
              1,
              "#f0f921"
             ]
            ],
            "type": "histogram2dcontour"
           }
          ],
          "mesh3d": [
           {
            "colorbar": {
             "outlinewidth": 0,
             "ticks": ""
            },
            "type": "mesh3d"
           }
          ],
          "parcoords": [
           {
            "line": {
             "colorbar": {
              "outlinewidth": 0,
              "ticks": ""
             }
            },
            "type": "parcoords"
           }
          ],
          "pie": [
           {
            "automargin": true,
            "type": "pie"
           }
          ],
          "scatter": [
           {
            "fillpattern": {
             "fillmode": "overlay",
             "size": 10,
             "solidity": 0.2
            },
            "type": "scatter"
           }
          ],
          "scatter3d": [
           {
            "line": {
             "colorbar": {
              "outlinewidth": 0,
              "ticks": ""
             }
            },
            "marker": {
             "colorbar": {
              "outlinewidth": 0,
              "ticks": ""
             }
            },
            "type": "scatter3d"
           }
          ],
          "scattercarpet": [
           {
            "marker": {
             "colorbar": {
              "outlinewidth": 0,
              "ticks": ""
             }
            },
            "type": "scattercarpet"
           }
          ],
          "scattergeo": [
           {
            "marker": {
             "colorbar": {
              "outlinewidth": 0,
              "ticks": ""
             }
            },
            "type": "scattergeo"
           }
          ],
          "scattergl": [
           {
            "marker": {
             "colorbar": {
              "outlinewidth": 0,
              "ticks": ""
             }
            },
            "type": "scattergl"
           }
          ],
          "scattermapbox": [
           {
            "marker": {
             "colorbar": {
              "outlinewidth": 0,
              "ticks": ""
             }
            },
            "type": "scattermapbox"
           }
          ],
          "scatterpolar": [
           {
            "marker": {
             "colorbar": {
              "outlinewidth": 0,
              "ticks": ""
             }
            },
            "type": "scatterpolar"
           }
          ],
          "scatterpolargl": [
           {
            "marker": {
             "colorbar": {
              "outlinewidth": 0,
              "ticks": ""
             }
            },
            "type": "scatterpolargl"
           }
          ],
          "scatterternary": [
           {
            "marker": {
             "colorbar": {
              "outlinewidth": 0,
              "ticks": ""
             }
            },
            "type": "scatterternary"
           }
          ],
          "surface": [
           {
            "colorbar": {
             "outlinewidth": 0,
             "ticks": ""
            },
            "colorscale": [
             [
              0,
              "#0d0887"
             ],
             [
              0.1111111111111111,
              "#46039f"
             ],
             [
              0.2222222222222222,
              "#7201a8"
             ],
             [
              0.3333333333333333,
              "#9c179e"
             ],
             [
              0.4444444444444444,
              "#bd3786"
             ],
             [
              0.5555555555555556,
              "#d8576b"
             ],
             [
              0.6666666666666666,
              "#ed7953"
             ],
             [
              0.7777777777777778,
              "#fb9f3a"
             ],
             [
              0.8888888888888888,
              "#fdca26"
             ],
             [
              1,
              "#f0f921"
             ]
            ],
            "type": "surface"
           }
          ],
          "table": [
           {
            "cells": {
             "fill": {
              "color": "#EBF0F8"
             },
             "line": {
              "color": "white"
             }
            },
            "header": {
             "fill": {
              "color": "#C8D4E3"
             },
             "line": {
              "color": "white"
             }
            },
            "type": "table"
           }
          ]
         },
         "layout": {
          "annotationdefaults": {
           "arrowcolor": "#2a3f5f",
           "arrowhead": 0,
           "arrowwidth": 1
          },
          "autotypenumbers": "strict",
          "coloraxis": {
           "colorbar": {
            "outlinewidth": 0,
            "ticks": ""
           }
          },
          "colorscale": {
           "diverging": [
            [
             0,
             "#8e0152"
            ],
            [
             0.1,
             "#c51b7d"
            ],
            [
             0.2,
             "#de77ae"
            ],
            [
             0.3,
             "#f1b6da"
            ],
            [
             0.4,
             "#fde0ef"
            ],
            [
             0.5,
             "#f7f7f7"
            ],
            [
             0.6,
             "#e6f5d0"
            ],
            [
             0.7,
             "#b8e186"
            ],
            [
             0.8,
             "#7fbc41"
            ],
            [
             0.9,
             "#4d9221"
            ],
            [
             1,
             "#276419"
            ]
           ],
           "sequential": [
            [
             0,
             "#0d0887"
            ],
            [
             0.1111111111111111,
             "#46039f"
            ],
            [
             0.2222222222222222,
             "#7201a8"
            ],
            [
             0.3333333333333333,
             "#9c179e"
            ],
            [
             0.4444444444444444,
             "#bd3786"
            ],
            [
             0.5555555555555556,
             "#d8576b"
            ],
            [
             0.6666666666666666,
             "#ed7953"
            ],
            [
             0.7777777777777778,
             "#fb9f3a"
            ],
            [
             0.8888888888888888,
             "#fdca26"
            ],
            [
             1,
             "#f0f921"
            ]
           ],
           "sequentialminus": [
            [
             0,
             "#0d0887"
            ],
            [
             0.1111111111111111,
             "#46039f"
            ],
            [
             0.2222222222222222,
             "#7201a8"
            ],
            [
             0.3333333333333333,
             "#9c179e"
            ],
            [
             0.4444444444444444,
             "#bd3786"
            ],
            [
             0.5555555555555556,
             "#d8576b"
            ],
            [
             0.6666666666666666,
             "#ed7953"
            ],
            [
             0.7777777777777778,
             "#fb9f3a"
            ],
            [
             0.8888888888888888,
             "#fdca26"
            ],
            [
             1,
             "#f0f921"
            ]
           ]
          },
          "colorway": [
           "#636efa",
           "#EF553B",
           "#00cc96",
           "#ab63fa",
           "#FFA15A",
           "#19d3f3",
           "#FF6692",
           "#B6E880",
           "#FF97FF",
           "#FECB52"
          ],
          "font": {
           "color": "#2a3f5f"
          },
          "geo": {
           "bgcolor": "white",
           "lakecolor": "white",
           "landcolor": "#E5ECF6",
           "showlakes": true,
           "showland": true,
           "subunitcolor": "white"
          },
          "hoverlabel": {
           "align": "left"
          },
          "hovermode": "closest",
          "mapbox": {
           "style": "light"
          },
          "paper_bgcolor": "white",
          "plot_bgcolor": "#E5ECF6",
          "polar": {
           "angularaxis": {
            "gridcolor": "white",
            "linecolor": "white",
            "ticks": ""
           },
           "bgcolor": "#E5ECF6",
           "radialaxis": {
            "gridcolor": "white",
            "linecolor": "white",
            "ticks": ""
           }
          },
          "scene": {
           "xaxis": {
            "backgroundcolor": "#E5ECF6",
            "gridcolor": "white",
            "gridwidth": 2,
            "linecolor": "white",
            "showbackground": true,
            "ticks": "",
            "zerolinecolor": "white"
           },
           "yaxis": {
            "backgroundcolor": "#E5ECF6",
            "gridcolor": "white",
            "gridwidth": 2,
            "linecolor": "white",
            "showbackground": true,
            "ticks": "",
            "zerolinecolor": "white"
           },
           "zaxis": {
            "backgroundcolor": "#E5ECF6",
            "gridcolor": "white",
            "gridwidth": 2,
            "linecolor": "white",
            "showbackground": true,
            "ticks": "",
            "zerolinecolor": "white"
           }
          },
          "shapedefaults": {
           "line": {
            "color": "#2a3f5f"
           }
          },
          "ternary": {
           "aaxis": {
            "gridcolor": "white",
            "linecolor": "white",
            "ticks": ""
           },
           "baxis": {
            "gridcolor": "white",
            "linecolor": "white",
            "ticks": ""
           },
           "bgcolor": "#E5ECF6",
           "caxis": {
            "gridcolor": "white",
            "linecolor": "white",
            "ticks": ""
           }
          },
          "title": {
           "x": 0.05
          },
          "xaxis": {
           "automargin": true,
           "gridcolor": "white",
           "linecolor": "white",
           "ticks": "",
           "title": {
            "standoff": 15
           },
           "zerolinecolor": "white",
           "zerolinewidth": 2
          },
          "yaxis": {
           "automargin": true,
           "gridcolor": "white",
           "linecolor": "white",
           "ticks": "",
           "title": {
            "standoff": 15
           },
           "zerolinecolor": "white",
           "zerolinewidth": 2
          }
         }
        },
        "title": {
         "text": "Average MtCO₂e per Year for each Sector"
        },
        "xaxis": {
         "title": {
          "text": "Year"
         }
        },
        "yaxis": {
         "title": {
          "text": "MtCO₂e"
         }
        }
       }
      }
     },
     "metadata": {},
     "output_type": "display_data"
    }
   ],
   "source": [
    "sectors = df.columns[3:]  # Assuming the sector columns start from the fourth column\n",
    "\n",
    "fig = go.Figure()\n",
    "\n",
    "for sector in sectors:\n",
    "    average_values = df[sector].mean(axis=0)\n",
    "    fig.add_trace(go.Scatter(x=df['Year'], y=df[sector], mode='markers+lines', name=sector))\n",
    "\n",
    "fig.update_layout(title='Average MtCO₂e per Year for each Sector',\n",
    "                  xaxis_title='Year',\n",
    "                  yaxis_title='MtCO₂e')\n",
    "\n",
    "# Add a caption annotation\n",
    "caption_text = \"Fig.2. This graph shows the average MtCO₂e for each Sector per year\"\n",
    "fig.add_annotation(\n",
    "    x=0.5,  # x-coordinate for the annotation (0.5 = center of x-axis)\n",
    "    y=-0.24,  # y-coordinate for the annotation (negative value to position it below the graph)\n",
    "    xref=\"paper\",\n",
    "    yref=\"paper\",\n",
    "    text=caption_text,\n",
    "    showarrow=False,\n",
    "    font=dict(\n",
    "        size=13,\n",
    "        color=\"black\"\n",
    "    )\n",
    ")\n",
    "\n",
    "\n",
    "#fig.write_image(\"figure2.png\")\n",
    "fig.show()"
   ]
  },
  {
   "attachments": {},
   "cell_type": "markdown",
   "id": "b535092d",
   "metadata": {},
   "source": [
    "<a id=\"argument-12\"></a>\n",
    "\n",
    "### Argument 2\n",
    "Figure 2 shows the average emission of each sector per year, with every sector given a different color. The energy sector shows to have the highest average emissions of CO2 per year, followed by the electricity/heat sector. Only using this graph already gives the implication that the energy sector is the biggest cause of CO2 emissions. (Furthermore, if the energy sector is to be compared with the electricity/heat sector, there could be a correlation between the two sectors based on the growth trend of the two sectors.)\n"
   ]
  },
  {
   "cell_type": "code",
   "execution_count": 15,
   "id": "a4ad45c2",
   "metadata": {
    "tags": [
     "hide-input"
    ]
   },
   "outputs": [
    {
     "data": {
      "application/vnd.plotly.v1+json": {
       "config": {
        "plotlyServerURL": "https://plot.ly"
       },
       "data": [
        {
         "hole": 0.5,
         "labels": [
          "Bunker Fuels",
          "Energy",
          "Fugitive Emissions",
          "Industrial Processes",
          "Land-Use Change and Forestry",
          "Manufacturing/Construction",
          "Other Fuel Combustion",
          "Transportation",
          "Average MtCO₂e"
         ],
         "type": "pie",
         "values": [
          675.6063333333334,
          34293.28733333333,
          218.42933333333337,
          856.0310000000002,
          18.348999999999975,
          4455.835333333333,
          514.9626666666668,
          4757.564333333333,
          4561.327909090909
         ]
        }
       ],
       "layout": {
        "annotations": [
         {
          "font": {
           "color": "black",
           "size": 13
          },
          "showarrow": false,
          "text": "Fig.3. This pie chart shows the percentage of MtCO₂e for each Sector from 1990 till 2019",
          "x": 0.5,
          "xref": "paper",
          "y": -0.24,
          "yref": "paper"
         }
        ],
        "template": {
         "data": {
          "bar": [
           {
            "error_x": {
             "color": "#2a3f5f"
            },
            "error_y": {
             "color": "#2a3f5f"
            },
            "marker": {
             "line": {
              "color": "#E5ECF6",
              "width": 0.5
             },
             "pattern": {
              "fillmode": "overlay",
              "size": 10,
              "solidity": 0.2
             }
            },
            "type": "bar"
           }
          ],
          "barpolar": [
           {
            "marker": {
             "line": {
              "color": "#E5ECF6",
              "width": 0.5
             },
             "pattern": {
              "fillmode": "overlay",
              "size": 10,
              "solidity": 0.2
             }
            },
            "type": "barpolar"
           }
          ],
          "carpet": [
           {
            "aaxis": {
             "endlinecolor": "#2a3f5f",
             "gridcolor": "white",
             "linecolor": "white",
             "minorgridcolor": "white",
             "startlinecolor": "#2a3f5f"
            },
            "baxis": {
             "endlinecolor": "#2a3f5f",
             "gridcolor": "white",
             "linecolor": "white",
             "minorgridcolor": "white",
             "startlinecolor": "#2a3f5f"
            },
            "type": "carpet"
           }
          ],
          "choropleth": [
           {
            "colorbar": {
             "outlinewidth": 0,
             "ticks": ""
            },
            "type": "choropleth"
           }
          ],
          "contour": [
           {
            "colorbar": {
             "outlinewidth": 0,
             "ticks": ""
            },
            "colorscale": [
             [
              0,
              "#0d0887"
             ],
             [
              0.1111111111111111,
              "#46039f"
             ],
             [
              0.2222222222222222,
              "#7201a8"
             ],
             [
              0.3333333333333333,
              "#9c179e"
             ],
             [
              0.4444444444444444,
              "#bd3786"
             ],
             [
              0.5555555555555556,
              "#d8576b"
             ],
             [
              0.6666666666666666,
              "#ed7953"
             ],
             [
              0.7777777777777778,
              "#fb9f3a"
             ],
             [
              0.8888888888888888,
              "#fdca26"
             ],
             [
              1,
              "#f0f921"
             ]
            ],
            "type": "contour"
           }
          ],
          "contourcarpet": [
           {
            "colorbar": {
             "outlinewidth": 0,
             "ticks": ""
            },
            "type": "contourcarpet"
           }
          ],
          "heatmap": [
           {
            "colorbar": {
             "outlinewidth": 0,
             "ticks": ""
            },
            "colorscale": [
             [
              0,
              "#0d0887"
             ],
             [
              0.1111111111111111,
              "#46039f"
             ],
             [
              0.2222222222222222,
              "#7201a8"
             ],
             [
              0.3333333333333333,
              "#9c179e"
             ],
             [
              0.4444444444444444,
              "#bd3786"
             ],
             [
              0.5555555555555556,
              "#d8576b"
             ],
             [
              0.6666666666666666,
              "#ed7953"
             ],
             [
              0.7777777777777778,
              "#fb9f3a"
             ],
             [
              0.8888888888888888,
              "#fdca26"
             ],
             [
              1,
              "#f0f921"
             ]
            ],
            "type": "heatmap"
           }
          ],
          "heatmapgl": [
           {
            "colorbar": {
             "outlinewidth": 0,
             "ticks": ""
            },
            "colorscale": [
             [
              0,
              "#0d0887"
             ],
             [
              0.1111111111111111,
              "#46039f"
             ],
             [
              0.2222222222222222,
              "#7201a8"
             ],
             [
              0.3333333333333333,
              "#9c179e"
             ],
             [
              0.4444444444444444,
              "#bd3786"
             ],
             [
              0.5555555555555556,
              "#d8576b"
             ],
             [
              0.6666666666666666,
              "#ed7953"
             ],
             [
              0.7777777777777778,
              "#fb9f3a"
             ],
             [
              0.8888888888888888,
              "#fdca26"
             ],
             [
              1,
              "#f0f921"
             ]
            ],
            "type": "heatmapgl"
           }
          ],
          "histogram": [
           {
            "marker": {
             "pattern": {
              "fillmode": "overlay",
              "size": 10,
              "solidity": 0.2
             }
            },
            "type": "histogram"
           }
          ],
          "histogram2d": [
           {
            "colorbar": {
             "outlinewidth": 0,
             "ticks": ""
            },
            "colorscale": [
             [
              0,
              "#0d0887"
             ],
             [
              0.1111111111111111,
              "#46039f"
             ],
             [
              0.2222222222222222,
              "#7201a8"
             ],
             [
              0.3333333333333333,
              "#9c179e"
             ],
             [
              0.4444444444444444,
              "#bd3786"
             ],
             [
              0.5555555555555556,
              "#d8576b"
             ],
             [
              0.6666666666666666,
              "#ed7953"
             ],
             [
              0.7777777777777778,
              "#fb9f3a"
             ],
             [
              0.8888888888888888,
              "#fdca26"
             ],
             [
              1,
              "#f0f921"
             ]
            ],
            "type": "histogram2d"
           }
          ],
          "histogram2dcontour": [
           {
            "colorbar": {
             "outlinewidth": 0,
             "ticks": ""
            },
            "colorscale": [
             [
              0,
              "#0d0887"
             ],
             [
              0.1111111111111111,
              "#46039f"
             ],
             [
              0.2222222222222222,
              "#7201a8"
             ],
             [
              0.3333333333333333,
              "#9c179e"
             ],
             [
              0.4444444444444444,
              "#bd3786"
             ],
             [
              0.5555555555555556,
              "#d8576b"
             ],
             [
              0.6666666666666666,
              "#ed7953"
             ],
             [
              0.7777777777777778,
              "#fb9f3a"
             ],
             [
              0.8888888888888888,
              "#fdca26"
             ],
             [
              1,
              "#f0f921"
             ]
            ],
            "type": "histogram2dcontour"
           }
          ],
          "mesh3d": [
           {
            "colorbar": {
             "outlinewidth": 0,
             "ticks": ""
            },
            "type": "mesh3d"
           }
          ],
          "parcoords": [
           {
            "line": {
             "colorbar": {
              "outlinewidth": 0,
              "ticks": ""
             }
            },
            "type": "parcoords"
           }
          ],
          "pie": [
           {
            "automargin": true,
            "type": "pie"
           }
          ],
          "scatter": [
           {
            "fillpattern": {
             "fillmode": "overlay",
             "size": 10,
             "solidity": 0.2
            },
            "type": "scatter"
           }
          ],
          "scatter3d": [
           {
            "line": {
             "colorbar": {
              "outlinewidth": 0,
              "ticks": ""
             }
            },
            "marker": {
             "colorbar": {
              "outlinewidth": 0,
              "ticks": ""
             }
            },
            "type": "scatter3d"
           }
          ],
          "scattercarpet": [
           {
            "marker": {
             "colorbar": {
              "outlinewidth": 0,
              "ticks": ""
             }
            },
            "type": "scattercarpet"
           }
          ],
          "scattergeo": [
           {
            "marker": {
             "colorbar": {
              "outlinewidth": 0,
              "ticks": ""
             }
            },
            "type": "scattergeo"
           }
          ],
          "scattergl": [
           {
            "marker": {
             "colorbar": {
              "outlinewidth": 0,
              "ticks": ""
             }
            },
            "type": "scattergl"
           }
          ],
          "scattermapbox": [
           {
            "marker": {
             "colorbar": {
              "outlinewidth": 0,
              "ticks": ""
             }
            },
            "type": "scattermapbox"
           }
          ],
          "scatterpolar": [
           {
            "marker": {
             "colorbar": {
              "outlinewidth": 0,
              "ticks": ""
             }
            },
            "type": "scatterpolar"
           }
          ],
          "scatterpolargl": [
           {
            "marker": {
             "colorbar": {
              "outlinewidth": 0,
              "ticks": ""
             }
            },
            "type": "scatterpolargl"
           }
          ],
          "scatterternary": [
           {
            "marker": {
             "colorbar": {
              "outlinewidth": 0,
              "ticks": ""
             }
            },
            "type": "scatterternary"
           }
          ],
          "surface": [
           {
            "colorbar": {
             "outlinewidth": 0,
             "ticks": ""
            },
            "colorscale": [
             [
              0,
              "#0d0887"
             ],
             [
              0.1111111111111111,
              "#46039f"
             ],
             [
              0.2222222222222222,
              "#7201a8"
             ],
             [
              0.3333333333333333,
              "#9c179e"
             ],
             [
              0.4444444444444444,
              "#bd3786"
             ],
             [
              0.5555555555555556,
              "#d8576b"
             ],
             [
              0.6666666666666666,
              "#ed7953"
             ],
             [
              0.7777777777777778,
              "#fb9f3a"
             ],
             [
              0.8888888888888888,
              "#fdca26"
             ],
             [
              1,
              "#f0f921"
             ]
            ],
            "type": "surface"
           }
          ],
          "table": [
           {
            "cells": {
             "fill": {
              "color": "#EBF0F8"
             },
             "line": {
              "color": "white"
             }
            },
            "header": {
             "fill": {
              "color": "#C8D4E3"
             },
             "line": {
              "color": "white"
             }
            },
            "type": "table"
           }
          ]
         },
         "layout": {
          "annotationdefaults": {
           "arrowcolor": "#2a3f5f",
           "arrowhead": 0,
           "arrowwidth": 1
          },
          "autotypenumbers": "strict",
          "coloraxis": {
           "colorbar": {
            "outlinewidth": 0,
            "ticks": ""
           }
          },
          "colorscale": {
           "diverging": [
            [
             0,
             "#8e0152"
            ],
            [
             0.1,
             "#c51b7d"
            ],
            [
             0.2,
             "#de77ae"
            ],
            [
             0.3,
             "#f1b6da"
            ],
            [
             0.4,
             "#fde0ef"
            ],
            [
             0.5,
             "#f7f7f7"
            ],
            [
             0.6,
             "#e6f5d0"
            ],
            [
             0.7,
             "#b8e186"
            ],
            [
             0.8,
             "#7fbc41"
            ],
            [
             0.9,
             "#4d9221"
            ],
            [
             1,
             "#276419"
            ]
           ],
           "sequential": [
            [
             0,
             "#0d0887"
            ],
            [
             0.1111111111111111,
             "#46039f"
            ],
            [
             0.2222222222222222,
             "#7201a8"
            ],
            [
             0.3333333333333333,
             "#9c179e"
            ],
            [
             0.4444444444444444,
             "#bd3786"
            ],
            [
             0.5555555555555556,
             "#d8576b"
            ],
            [
             0.6666666666666666,
             "#ed7953"
            ],
            [
             0.7777777777777778,
             "#fb9f3a"
            ],
            [
             0.8888888888888888,
             "#fdca26"
            ],
            [
             1,
             "#f0f921"
            ]
           ],
           "sequentialminus": [
            [
             0,
             "#0d0887"
            ],
            [
             0.1111111111111111,
             "#46039f"
            ],
            [
             0.2222222222222222,
             "#7201a8"
            ],
            [
             0.3333333333333333,
             "#9c179e"
            ],
            [
             0.4444444444444444,
             "#bd3786"
            ],
            [
             0.5555555555555556,
             "#d8576b"
            ],
            [
             0.6666666666666666,
             "#ed7953"
            ],
            [
             0.7777777777777778,
             "#fb9f3a"
            ],
            [
             0.8888888888888888,
             "#fdca26"
            ],
            [
             1,
             "#f0f921"
            ]
           ]
          },
          "colorway": [
           "#636efa",
           "#EF553B",
           "#00cc96",
           "#ab63fa",
           "#FFA15A",
           "#19d3f3",
           "#FF6692",
           "#B6E880",
           "#FF97FF",
           "#FECB52"
          ],
          "font": {
           "color": "#2a3f5f"
          },
          "geo": {
           "bgcolor": "white",
           "lakecolor": "white",
           "landcolor": "#E5ECF6",
           "showlakes": true,
           "showland": true,
           "subunitcolor": "white"
          },
          "hoverlabel": {
           "align": "left"
          },
          "hovermode": "closest",
          "mapbox": {
           "style": "light"
          },
          "paper_bgcolor": "white",
          "plot_bgcolor": "#E5ECF6",
          "polar": {
           "angularaxis": {
            "gridcolor": "white",
            "linecolor": "white",
            "ticks": ""
           },
           "bgcolor": "#E5ECF6",
           "radialaxis": {
            "gridcolor": "white",
            "linecolor": "white",
            "ticks": ""
           }
          },
          "scene": {
           "xaxis": {
            "backgroundcolor": "#E5ECF6",
            "gridcolor": "white",
            "gridwidth": 2,
            "linecolor": "white",
            "showbackground": true,
            "ticks": "",
            "zerolinecolor": "white"
           },
           "yaxis": {
            "backgroundcolor": "#E5ECF6",
            "gridcolor": "white",
            "gridwidth": 2,
            "linecolor": "white",
            "showbackground": true,
            "ticks": "",
            "zerolinecolor": "white"
           },
           "zaxis": {
            "backgroundcolor": "#E5ECF6",
            "gridcolor": "white",
            "gridwidth": 2,
            "linecolor": "white",
            "showbackground": true,
            "ticks": "",
            "zerolinecolor": "white"
           }
          },
          "shapedefaults": {
           "line": {
            "color": "#2a3f5f"
           }
          },
          "ternary": {
           "aaxis": {
            "gridcolor": "white",
            "linecolor": "white",
            "ticks": ""
           },
           "baxis": {
            "gridcolor": "white",
            "linecolor": "white",
            "ticks": ""
           },
           "bgcolor": "#E5ECF6",
           "caxis": {
            "gridcolor": "white",
            "linecolor": "white",
            "ticks": ""
           }
          },
          "title": {
           "x": 0.05
          },
          "xaxis": {
           "automargin": true,
           "gridcolor": "white",
           "linecolor": "white",
           "ticks": "",
           "title": {
            "standoff": 15
           },
           "zerolinecolor": "white",
           "zerolinewidth": 2
          },
          "yaxis": {
           "automargin": true,
           "gridcolor": "white",
           "linecolor": "white",
           "ticks": "",
           "title": {
            "standoff": 15
           },
           "zerolinecolor": "white",
           "zerolinewidth": 2
          }
         }
        },
        "title": {
         "text": "Average MtCO₂e of Each Sector"
        }
       }
      }
     },
     "metadata": {},
     "output_type": "display_data"
    }
   ],
   "source": [
    "sectors = df.columns[3:]  # Assuming the sector columns start from the fourth column\n",
    "average_values_total = df[sectors].mean().values  # Use .values to convert to a numpy array\n",
    "\n",
    "fig = go.Figure(data=[go.Pie(labels=sectors, values=average_values_total, hole=0.5)])\n",
    "\n",
    "fig.update_layout(title='Average MtCO₂e of Each Sector')\n",
    "\n",
    "# Add a caption annotation\n",
    "caption_text = \"Fig.3. This pie chart shows the percentage of MtCO₂e for each Sector from 1990 till 2019\"\n",
    "fig.add_annotation(\n",
    "    x=0.5,  # x-coordinate for the annotation (0.5 = center of x-axis)\n",
    "    y=-0.24,  # y-coordinate for the annotation (negative value to position it below the graph)\n",
    "    xref=\"paper\",\n",
    "    yref=\"paper\",\n",
    "    text=caption_text,\n",
    "    showarrow=False,\n",
    "    font=dict(\n",
    "        size=13,\n",
    "        color=\"black\"\n",
    "    )\n",
    ")\n",
    "\n",
    "\n",
    "#fig.write_image(\"figure3.png\")\n",
    "fig.show()"
   ]
  },
  {
   "attachments": {},
   "cell_type": "markdown",
   "id": "4e4f3e75",
   "metadata": {},
   "source": [
    "<a id=\"argument-13\"></a>\n",
    "\n",
    "### Argument 3\n",
    "Figure 3 displays a donut chart where all the sectors are shown with their contribution of CO2 emission. Again, energy is the biggest polluter, being responsible for almost a half of the total CO2 emissions from all the sectors combined. Based on this chart, if the world wants to emit less CO2, everyone should start with searching for greener options in the energy sector.\n",
    "\n"
   ]
  },
  {
   "attachments": {},
   "cell_type": "markdown",
   "id": "32e547cf",
   "metadata": {},
   "source": [
    "<a id=\"second-perspective\"></a>\n",
    "\n",
    "## Second Perspective\n",
    "\n",
    "For our second perspective, we have explored the data and found evidence that contradicts our first perspective. We have visualized this evidence below and constructed three arguments that argue against our first perspective, supported by the evidence that we found and visualized below."
   ]
  },
  {
   "cell_type": "code",
   "execution_count": 16,
   "id": "0d5824f8",
   "metadata": {
    "tags": [
     "hide-input"
    ]
   },
   "outputs": [
    {
     "data": {
      "application/vnd.plotly.v1+json": {
       "config": {
        "plotlyServerURL": "https://plot.ly"
       },
       "data": [
        {
         "fillpattern": {
          "shape": ""
         },
         "hovertemplate": "Energy Type=Share of renewables in electricity production (%)<br>Year=%{x}<br>%=%{y}<extra></extra>",
         "legendgroup": "Share of renewables in electricity production (%)",
         "line": {
          "color": "#636efa"
         },
         "marker": {
          "symbol": "circle"
         },
         "mode": "lines",
         "name": "Share of renewables in electricity production (%)",
         "orientation": "v",
         "showlegend": true,
         "stackgroup": "1",
         "type": "scatter",
         "x": [
          1990,
          1991,
          1992,
          1993,
          1994,
          1995,
          1996,
          1997,
          1998,
          1999,
          2000,
          2001,
          2002,
          2003,
          2004,
          2005,
          2006,
          2007,
          2008,
          2009,
          2010,
          2011,
          2012,
          2013,
          2014,
          2015,
          2016,
          2017,
          2018,
          2019,
          2020
         ],
         "xaxis": "x",
         "y": [
          23.856879620136365,
          24.193030692931817,
          24.074530362863637,
          24.775091186772727,
          24.653788662454545,
          24.37626004765909,
          24.171123087045455,
          23.60555512825,
          23.41444307461364,
          22.553045571363636,
          22.603994895772725,
          22.479862860954544,
          22.14469978715909,
          22.03334667856818,
          22.110675845636365,
          22.282050835045453,
          22.417412482136363,
          21.93139114593182,
          22.042600171863636,
          22.73022530765909,
          23.334994115431815,
          23.51412304025,
          23.511182226977272,
          24.56684584840909,
          25.165711363272727,
          25.289250849795454,
          26.292231789386367,
          26.42138218088636,
          27.491067429068185,
          28.34894516440909,
          30.00110794581818
         ],
         "yaxis": "y"
        },
        {
         "fillpattern": {
          "shape": ""
         },
         "hovertemplate": "Energy Type=Productiojn that is not green (%)<br>Year=%{x}<br>%=%{y}<extra></extra>",
         "legendgroup": "Productiojn that is not green (%)",
         "line": {
          "color": "#EF553B"
         },
         "marker": {
          "symbol": "circle"
         },
         "mode": "lines",
         "name": "Productiojn that is not green (%)",
         "orientation": "v",
         "showlegend": true,
         "stackgroup": "1",
         "type": "scatter",
         "x": [
          1990,
          1991,
          1992,
          1993,
          1994,
          1995,
          1996,
          1997,
          1998,
          1999,
          2000,
          2001,
          2002,
          2003,
          2004,
          2005,
          2006,
          2007,
          2008,
          2009,
          2010,
          2011,
          2012,
          2013,
          2014,
          2015,
          2016,
          2017,
          2018,
          2019,
          2020
         ],
         "xaxis": "x",
         "y": [
          76.14312037986363,
          75.80696930706819,
          75.92546963713636,
          75.22490881322727,
          75.34621133754545,
          75.6237399523409,
          75.82887691295456,
          76.39444487175,
          76.58555692538636,
          77.44695442863636,
          77.39600510422727,
          77.52013713904545,
          77.8553002128409,
          77.96665332143182,
          77.88932415436363,
          77.71794916495455,
          77.58258751786364,
          78.06860885406819,
          77.95739982813636,
          77.2697746923409,
          76.66500588456819,
          76.48587695975,
          76.48881777302273,
          75.43315415159091,
          74.83428863672727,
          74.71074915020455,
          73.70776821061364,
          73.57861781911363,
          72.50893257093182,
          71.65105483559091,
          69.99889205418182
         ],
         "yaxis": "y"
        }
       ],
       "layout": {
        "annotations": [
         {
          "font": {
           "color": "black",
           "size": 13
          },
          "showarrow": false,
          "text": "This figure displays the fact that the percentage of renewable energy being produces is already growing",
          "x": 0,
          "xref": "paper",
          "y": -0.24,
          "yref": "paper"
         }
        ],
        "legend": {
         "title": {
          "text": "Energy Type"
         },
         "tracegroupgap": 0
        },
        "template": {
         "data": {
          "bar": [
           {
            "error_x": {
             "color": "#2a3f5f"
            },
            "error_y": {
             "color": "#2a3f5f"
            },
            "marker": {
             "line": {
              "color": "#E5ECF6",
              "width": 0.5
             },
             "pattern": {
              "fillmode": "overlay",
              "size": 10,
              "solidity": 0.2
             }
            },
            "type": "bar"
           }
          ],
          "barpolar": [
           {
            "marker": {
             "line": {
              "color": "#E5ECF6",
              "width": 0.5
             },
             "pattern": {
              "fillmode": "overlay",
              "size": 10,
              "solidity": 0.2
             }
            },
            "type": "barpolar"
           }
          ],
          "carpet": [
           {
            "aaxis": {
             "endlinecolor": "#2a3f5f",
             "gridcolor": "white",
             "linecolor": "white",
             "minorgridcolor": "white",
             "startlinecolor": "#2a3f5f"
            },
            "baxis": {
             "endlinecolor": "#2a3f5f",
             "gridcolor": "white",
             "linecolor": "white",
             "minorgridcolor": "white",
             "startlinecolor": "#2a3f5f"
            },
            "type": "carpet"
           }
          ],
          "choropleth": [
           {
            "colorbar": {
             "outlinewidth": 0,
             "ticks": ""
            },
            "type": "choropleth"
           }
          ],
          "contour": [
           {
            "colorbar": {
             "outlinewidth": 0,
             "ticks": ""
            },
            "colorscale": [
             [
              0,
              "#0d0887"
             ],
             [
              0.1111111111111111,
              "#46039f"
             ],
             [
              0.2222222222222222,
              "#7201a8"
             ],
             [
              0.3333333333333333,
              "#9c179e"
             ],
             [
              0.4444444444444444,
              "#bd3786"
             ],
             [
              0.5555555555555556,
              "#d8576b"
             ],
             [
              0.6666666666666666,
              "#ed7953"
             ],
             [
              0.7777777777777778,
              "#fb9f3a"
             ],
             [
              0.8888888888888888,
              "#fdca26"
             ],
             [
              1,
              "#f0f921"
             ]
            ],
            "type": "contour"
           }
          ],
          "contourcarpet": [
           {
            "colorbar": {
             "outlinewidth": 0,
             "ticks": ""
            },
            "type": "contourcarpet"
           }
          ],
          "heatmap": [
           {
            "colorbar": {
             "outlinewidth": 0,
             "ticks": ""
            },
            "colorscale": [
             [
              0,
              "#0d0887"
             ],
             [
              0.1111111111111111,
              "#46039f"
             ],
             [
              0.2222222222222222,
              "#7201a8"
             ],
             [
              0.3333333333333333,
              "#9c179e"
             ],
             [
              0.4444444444444444,
              "#bd3786"
             ],
             [
              0.5555555555555556,
              "#d8576b"
             ],
             [
              0.6666666666666666,
              "#ed7953"
             ],
             [
              0.7777777777777778,
              "#fb9f3a"
             ],
             [
              0.8888888888888888,
              "#fdca26"
             ],
             [
              1,
              "#f0f921"
             ]
            ],
            "type": "heatmap"
           }
          ],
          "heatmapgl": [
           {
            "colorbar": {
             "outlinewidth": 0,
             "ticks": ""
            },
            "colorscale": [
             [
              0,
              "#0d0887"
             ],
             [
              0.1111111111111111,
              "#46039f"
             ],
             [
              0.2222222222222222,
              "#7201a8"
             ],
             [
              0.3333333333333333,
              "#9c179e"
             ],
             [
              0.4444444444444444,
              "#bd3786"
             ],
             [
              0.5555555555555556,
              "#d8576b"
             ],
             [
              0.6666666666666666,
              "#ed7953"
             ],
             [
              0.7777777777777778,
              "#fb9f3a"
             ],
             [
              0.8888888888888888,
              "#fdca26"
             ],
             [
              1,
              "#f0f921"
             ]
            ],
            "type": "heatmapgl"
           }
          ],
          "histogram": [
           {
            "marker": {
             "pattern": {
              "fillmode": "overlay",
              "size": 10,
              "solidity": 0.2
             }
            },
            "type": "histogram"
           }
          ],
          "histogram2d": [
           {
            "colorbar": {
             "outlinewidth": 0,
             "ticks": ""
            },
            "colorscale": [
             [
              0,
              "#0d0887"
             ],
             [
              0.1111111111111111,
              "#46039f"
             ],
             [
              0.2222222222222222,
              "#7201a8"
             ],
             [
              0.3333333333333333,
              "#9c179e"
             ],
             [
              0.4444444444444444,
              "#bd3786"
             ],
             [
              0.5555555555555556,
              "#d8576b"
             ],
             [
              0.6666666666666666,
              "#ed7953"
             ],
             [
              0.7777777777777778,
              "#fb9f3a"
             ],
             [
              0.8888888888888888,
              "#fdca26"
             ],
             [
              1,
              "#f0f921"
             ]
            ],
            "type": "histogram2d"
           }
          ],
          "histogram2dcontour": [
           {
            "colorbar": {
             "outlinewidth": 0,
             "ticks": ""
            },
            "colorscale": [
             [
              0,
              "#0d0887"
             ],
             [
              0.1111111111111111,
              "#46039f"
             ],
             [
              0.2222222222222222,
              "#7201a8"
             ],
             [
              0.3333333333333333,
              "#9c179e"
             ],
             [
              0.4444444444444444,
              "#bd3786"
             ],
             [
              0.5555555555555556,
              "#d8576b"
             ],
             [
              0.6666666666666666,
              "#ed7953"
             ],
             [
              0.7777777777777778,
              "#fb9f3a"
             ],
             [
              0.8888888888888888,
              "#fdca26"
             ],
             [
              1,
              "#f0f921"
             ]
            ],
            "type": "histogram2dcontour"
           }
          ],
          "mesh3d": [
           {
            "colorbar": {
             "outlinewidth": 0,
             "ticks": ""
            },
            "type": "mesh3d"
           }
          ],
          "parcoords": [
           {
            "line": {
             "colorbar": {
              "outlinewidth": 0,
              "ticks": ""
             }
            },
            "type": "parcoords"
           }
          ],
          "pie": [
           {
            "automargin": true,
            "type": "pie"
           }
          ],
          "scatter": [
           {
            "fillpattern": {
             "fillmode": "overlay",
             "size": 10,
             "solidity": 0.2
            },
            "type": "scatter"
           }
          ],
          "scatter3d": [
           {
            "line": {
             "colorbar": {
              "outlinewidth": 0,
              "ticks": ""
             }
            },
            "marker": {
             "colorbar": {
              "outlinewidth": 0,
              "ticks": ""
             }
            },
            "type": "scatter3d"
           }
          ],
          "scattercarpet": [
           {
            "marker": {
             "colorbar": {
              "outlinewidth": 0,
              "ticks": ""
             }
            },
            "type": "scattercarpet"
           }
          ],
          "scattergeo": [
           {
            "marker": {
             "colorbar": {
              "outlinewidth": 0,
              "ticks": ""
             }
            },
            "type": "scattergeo"
           }
          ],
          "scattergl": [
           {
            "marker": {
             "colorbar": {
              "outlinewidth": 0,
              "ticks": ""
             }
            },
            "type": "scattergl"
           }
          ],
          "scattermapbox": [
           {
            "marker": {
             "colorbar": {
              "outlinewidth": 0,
              "ticks": ""
             }
            },
            "type": "scattermapbox"
           }
          ],
          "scatterpolar": [
           {
            "marker": {
             "colorbar": {
              "outlinewidth": 0,
              "ticks": ""
             }
            },
            "type": "scatterpolar"
           }
          ],
          "scatterpolargl": [
           {
            "marker": {
             "colorbar": {
              "outlinewidth": 0,
              "ticks": ""
             }
            },
            "type": "scatterpolargl"
           }
          ],
          "scatterternary": [
           {
            "marker": {
             "colorbar": {
              "outlinewidth": 0,
              "ticks": ""
             }
            },
            "type": "scatterternary"
           }
          ],
          "surface": [
           {
            "colorbar": {
             "outlinewidth": 0,
             "ticks": ""
            },
            "colorscale": [
             [
              0,
              "#0d0887"
             ],
             [
              0.1111111111111111,
              "#46039f"
             ],
             [
              0.2222222222222222,
              "#7201a8"
             ],
             [
              0.3333333333333333,
              "#9c179e"
             ],
             [
              0.4444444444444444,
              "#bd3786"
             ],
             [
              0.5555555555555556,
              "#d8576b"
             ],
             [
              0.6666666666666666,
              "#ed7953"
             ],
             [
              0.7777777777777778,
              "#fb9f3a"
             ],
             [
              0.8888888888888888,
              "#fdca26"
             ],
             [
              1,
              "#f0f921"
             ]
            ],
            "type": "surface"
           }
          ],
          "table": [
           {
            "cells": {
             "fill": {
              "color": "#EBF0F8"
             },
             "line": {
              "color": "white"
             }
            },
            "header": {
             "fill": {
              "color": "#C8D4E3"
             },
             "line": {
              "color": "white"
             }
            },
            "type": "table"
           }
          ]
         },
         "layout": {
          "annotationdefaults": {
           "arrowcolor": "#2a3f5f",
           "arrowhead": 0,
           "arrowwidth": 1
          },
          "autotypenumbers": "strict",
          "coloraxis": {
           "colorbar": {
            "outlinewidth": 0,
            "ticks": ""
           }
          },
          "colorscale": {
           "diverging": [
            [
             0,
             "#8e0152"
            ],
            [
             0.1,
             "#c51b7d"
            ],
            [
             0.2,
             "#de77ae"
            ],
            [
             0.3,
             "#f1b6da"
            ],
            [
             0.4,
             "#fde0ef"
            ],
            [
             0.5,
             "#f7f7f7"
            ],
            [
             0.6,
             "#e6f5d0"
            ],
            [
             0.7,
             "#b8e186"
            ],
            [
             0.8,
             "#7fbc41"
            ],
            [
             0.9,
             "#4d9221"
            ],
            [
             1,
             "#276419"
            ]
           ],
           "sequential": [
            [
             0,
             "#0d0887"
            ],
            [
             0.1111111111111111,
             "#46039f"
            ],
            [
             0.2222222222222222,
             "#7201a8"
            ],
            [
             0.3333333333333333,
             "#9c179e"
            ],
            [
             0.4444444444444444,
             "#bd3786"
            ],
            [
             0.5555555555555556,
             "#d8576b"
            ],
            [
             0.6666666666666666,
             "#ed7953"
            ],
            [
             0.7777777777777778,
             "#fb9f3a"
            ],
            [
             0.8888888888888888,
             "#fdca26"
            ],
            [
             1,
             "#f0f921"
            ]
           ],
           "sequentialminus": [
            [
             0,
             "#0d0887"
            ],
            [
             0.1111111111111111,
             "#46039f"
            ],
            [
             0.2222222222222222,
             "#7201a8"
            ],
            [
             0.3333333333333333,
             "#9c179e"
            ],
            [
             0.4444444444444444,
             "#bd3786"
            ],
            [
             0.5555555555555556,
             "#d8576b"
            ],
            [
             0.6666666666666666,
             "#ed7953"
            ],
            [
             0.7777777777777778,
             "#fb9f3a"
            ],
            [
             0.8888888888888888,
             "#fdca26"
            ],
            [
             1,
             "#f0f921"
            ]
           ]
          },
          "colorway": [
           "#636efa",
           "#EF553B",
           "#00cc96",
           "#ab63fa",
           "#FFA15A",
           "#19d3f3",
           "#FF6692",
           "#B6E880",
           "#FF97FF",
           "#FECB52"
          ],
          "font": {
           "color": "#2a3f5f"
          },
          "geo": {
           "bgcolor": "white",
           "lakecolor": "white",
           "landcolor": "#E5ECF6",
           "showlakes": true,
           "showland": true,
           "subunitcolor": "white"
          },
          "hoverlabel": {
           "align": "left"
          },
          "hovermode": "closest",
          "mapbox": {
           "style": "light"
          },
          "paper_bgcolor": "white",
          "plot_bgcolor": "#E5ECF6",
          "polar": {
           "angularaxis": {
            "gridcolor": "white",
            "linecolor": "white",
            "ticks": ""
           },
           "bgcolor": "#E5ECF6",
           "radialaxis": {
            "gridcolor": "white",
            "linecolor": "white",
            "ticks": ""
           }
          },
          "scene": {
           "xaxis": {
            "backgroundcolor": "#E5ECF6",
            "gridcolor": "white",
            "gridwidth": 2,
            "linecolor": "white",
            "showbackground": true,
            "ticks": "",
            "zerolinecolor": "white"
           },
           "yaxis": {
            "backgroundcolor": "#E5ECF6",
            "gridcolor": "white",
            "gridwidth": 2,
            "linecolor": "white",
            "showbackground": true,
            "ticks": "",
            "zerolinecolor": "white"
           },
           "zaxis": {
            "backgroundcolor": "#E5ECF6",
            "gridcolor": "white",
            "gridwidth": 2,
            "linecolor": "white",
            "showbackground": true,
            "ticks": "",
            "zerolinecolor": "white"
           }
          },
          "shapedefaults": {
           "line": {
            "color": "#2a3f5f"
           }
          },
          "ternary": {
           "aaxis": {
            "gridcolor": "white",
            "linecolor": "white",
            "ticks": ""
           },
           "baxis": {
            "gridcolor": "white",
            "linecolor": "white",
            "ticks": ""
           },
           "bgcolor": "#E5ECF6",
           "caxis": {
            "gridcolor": "white",
            "linecolor": "white",
            "ticks": ""
           }
          },
          "title": {
           "x": 0.05
          },
          "xaxis": {
           "automargin": true,
           "gridcolor": "white",
           "linecolor": "white",
           "ticks": "",
           "title": {
            "standoff": 15
           },
           "zerolinecolor": "white",
           "zerolinewidth": 2
          },
          "yaxis": {
           "automargin": true,
           "gridcolor": "white",
           "linecolor": "white",
           "ticks": "",
           "title": {
            "standoff": 15
           },
           "zerolinecolor": "white",
           "zerolinewidth": 2
          }
         }
        },
        "title": {
         "text": "Percentages of non-renewable vs renewable energy being produced"
        },
        "width": 800,
        "xaxis": {
         "anchor": "y",
         "domain": [
          0,
          1
         ],
         "title": {
          "text": "Year"
         }
        },
        "yaxis": {
         "anchor": "x",
         "domain": [
          0,
          1
         ],
         "title": {
          "text": "%"
         }
        }
       }
      }
     },
     "metadata": {},
     "output_type": "display_data"
    }
   ],
   "source": [
    "\n",
    "total_electricity = df1['Electricity production (TWh)']\n",
    "renewable_electricity = df1['Share of renewables in electricity production (%)']\n",
    "\n",
    "df1['Productiojn that is not green (%)'] = 100 - renewable_electricity\n",
    "average_df = df1.groupby('Year').mean().reset_index()\n",
    "\n",
    "fig = px.area(average_df, x='Year', y=['Share of renewables in electricity production (%)', 'Productiojn that is not green (%)'],\n",
    "              labels={'value': '%', 'variable': 'Energy Type'},\n",
    "              title='Percentages of non-renewable vs renewable energy being produced')\n",
    "\n",
    "\n",
    "fig.update_layout(legend_title_text='Energy Type', width=800)\n",
    "\n",
    "\n",
    "# Add a caption annotation\n",
    "caption_text = \"This figure displays the fact that the percentage of renewable energy being produces is already growing\"\n",
    "fig.add_annotation(\n",
    "    x=0,  # x-coordinate for the annotation (0.5 = center of x-axis)\n",
    "    y=-0.24,  # y-coordinate for the annotation (negative value to position it below the graph)\n",
    "    xref=\"paper\",\n",
    "    yref=\"paper\",\n",
    "    text=caption_text,\n",
    "    showarrow=False,\n",
    "    font=dict(\n",
    "        size=13,\n",
    "        color=\"black\"\n",
    "    )\n",
    ")\n",
    "fig.show()\n"
   ]
  },
  {
   "cell_type": "code",
   "execution_count": 17,
   "id": "74aed50e",
   "metadata": {
    "tags": [
     "hide-input"
    ]
   },
   "outputs": [
    {
     "data": {
      "application/vnd.plotly.v1+json": {
       "config": {
        "plotlyServerURL": "https://plot.ly"
       },
       "data": [
        {
         "hoverinfo": "x+y",
         "line": {
          "color": "green",
          "width": 0
         },
         "mode": "lines",
         "name": "Energy Need",
         "stackgroup": "one",
         "type": "scatter",
         "x": [
          1990,
          1991,
          1992,
          1993,
          1994,
          1995,
          1996,
          1997,
          1998,
          1999,
          2000,
          2001,
          2002,
          2003,
          2004,
          2005,
          2006,
          2007,
          2008,
          2009,
          2010,
          2011,
          2012,
          2013,
          2014,
          2015,
          2016,
          2017,
          2018,
          2019,
          2020
         ],
         "y": [
          97.24677353080988,
          97.00133459007573,
          96.5818071077563,
          97.53533988991876,
          96.61363606979751,
          96.758008613932,
          96.74143963307618,
          96.66345880187181,
          96.4394206820355,
          99.08683188132393,
          98.87443109403164,
          97.93759599523301,
          99.52546027731285,
          98.54169436638432,
          98.61836847277992,
          98.56780547008222,
          98.69978953271524,
          99.89873138008426,
          99.18943563900098,
          99.37703452509672,
          100.31157428181847,
          99.01743157177873,
          99.41243598950287,
          99.54676564660477,
          98.59123454831114,
          98.21862155472317,
          99.5609302101371,
          99.12466972150352,
          97.9619783273283,
          96.98695760412427,
          96.71089928521357
         ]
        },
        {
         "hoverinfo": "x+y",
         "line": {
          "color": "red",
          "width": 0
         },
         "mode": "lines",
         "name": "Energy Surplus",
         "stackgroup": "one",
         "type": "scatter",
         "x": [
          1990,
          1991,
          1992,
          1993,
          1994,
          1995,
          1996,
          1997,
          1998,
          1999,
          2000,
          2001,
          2002,
          2003,
          2004,
          2005,
          2006,
          2007,
          2008,
          2009,
          2010,
          2011,
          2012,
          2013,
          2014,
          2015,
          2016,
          2017,
          2018,
          2019,
          2020
         ],
         "y": [
          2.8311751323223566,
          3.091365106053979,
          3.53916849829701,
          2.5269406072331657,
          3.5050579482962885,
          3.350618137464633,
          3.368319077411894,
          3.451708887188686,
          3.692037232060799,
          0.9215837274621534,
          1.1383821818382256,
          2.105834826563818,
          0.4768023391852958,
          1.479886907762718,
          1.400988019388516,
          1.4530043791555,
          1.3173386422002327,
          0.1013712772091634,
          0.8171881972885358,
          0.6268706627042215,
          -0.3106065118100277,
          0.9923186378642892,
          0.5910367296091382,
          0.4552979199788701,
          1.4288952340875134,
          1.8136870759118917,
          0.44100611448304894,
          0.8830599697893229,
          2.0804211056884676,
          3.106646986674431,
          3.4009617727640293
         ]
        }
       ],
       "layout": {
        "annotations": [
         {
          "font": {
           "color": "black",
           "size": 13
          },
          "showarrow": false,
          "text": "Fig.5. This area plot shows that we need almost all of the energy that we produce.",
          "x": 0.5,
          "xref": "paper",
          "y": -0.24,
          "yref": "paper"
         }
        ],
        "height": 500,
        "template": {
         "data": {
          "bar": [
           {
            "error_x": {
             "color": "#2a3f5f"
            },
            "error_y": {
             "color": "#2a3f5f"
            },
            "marker": {
             "line": {
              "color": "#E5ECF6",
              "width": 0.5
             },
             "pattern": {
              "fillmode": "overlay",
              "size": 10,
              "solidity": 0.2
             }
            },
            "type": "bar"
           }
          ],
          "barpolar": [
           {
            "marker": {
             "line": {
              "color": "#E5ECF6",
              "width": 0.5
             },
             "pattern": {
              "fillmode": "overlay",
              "size": 10,
              "solidity": 0.2
             }
            },
            "type": "barpolar"
           }
          ],
          "carpet": [
           {
            "aaxis": {
             "endlinecolor": "#2a3f5f",
             "gridcolor": "white",
             "linecolor": "white",
             "minorgridcolor": "white",
             "startlinecolor": "#2a3f5f"
            },
            "baxis": {
             "endlinecolor": "#2a3f5f",
             "gridcolor": "white",
             "linecolor": "white",
             "minorgridcolor": "white",
             "startlinecolor": "#2a3f5f"
            },
            "type": "carpet"
           }
          ],
          "choropleth": [
           {
            "colorbar": {
             "outlinewidth": 0,
             "ticks": ""
            },
            "type": "choropleth"
           }
          ],
          "contour": [
           {
            "colorbar": {
             "outlinewidth": 0,
             "ticks": ""
            },
            "colorscale": [
             [
              0,
              "#0d0887"
             ],
             [
              0.1111111111111111,
              "#46039f"
             ],
             [
              0.2222222222222222,
              "#7201a8"
             ],
             [
              0.3333333333333333,
              "#9c179e"
             ],
             [
              0.4444444444444444,
              "#bd3786"
             ],
             [
              0.5555555555555556,
              "#d8576b"
             ],
             [
              0.6666666666666666,
              "#ed7953"
             ],
             [
              0.7777777777777778,
              "#fb9f3a"
             ],
             [
              0.8888888888888888,
              "#fdca26"
             ],
             [
              1,
              "#f0f921"
             ]
            ],
            "type": "contour"
           }
          ],
          "contourcarpet": [
           {
            "colorbar": {
             "outlinewidth": 0,
             "ticks": ""
            },
            "type": "contourcarpet"
           }
          ],
          "heatmap": [
           {
            "colorbar": {
             "outlinewidth": 0,
             "ticks": ""
            },
            "colorscale": [
             [
              0,
              "#0d0887"
             ],
             [
              0.1111111111111111,
              "#46039f"
             ],
             [
              0.2222222222222222,
              "#7201a8"
             ],
             [
              0.3333333333333333,
              "#9c179e"
             ],
             [
              0.4444444444444444,
              "#bd3786"
             ],
             [
              0.5555555555555556,
              "#d8576b"
             ],
             [
              0.6666666666666666,
              "#ed7953"
             ],
             [
              0.7777777777777778,
              "#fb9f3a"
             ],
             [
              0.8888888888888888,
              "#fdca26"
             ],
             [
              1,
              "#f0f921"
             ]
            ],
            "type": "heatmap"
           }
          ],
          "heatmapgl": [
           {
            "colorbar": {
             "outlinewidth": 0,
             "ticks": ""
            },
            "colorscale": [
             [
              0,
              "#0d0887"
             ],
             [
              0.1111111111111111,
              "#46039f"
             ],
             [
              0.2222222222222222,
              "#7201a8"
             ],
             [
              0.3333333333333333,
              "#9c179e"
             ],
             [
              0.4444444444444444,
              "#bd3786"
             ],
             [
              0.5555555555555556,
              "#d8576b"
             ],
             [
              0.6666666666666666,
              "#ed7953"
             ],
             [
              0.7777777777777778,
              "#fb9f3a"
             ],
             [
              0.8888888888888888,
              "#fdca26"
             ],
             [
              1,
              "#f0f921"
             ]
            ],
            "type": "heatmapgl"
           }
          ],
          "histogram": [
           {
            "marker": {
             "pattern": {
              "fillmode": "overlay",
              "size": 10,
              "solidity": 0.2
             }
            },
            "type": "histogram"
           }
          ],
          "histogram2d": [
           {
            "colorbar": {
             "outlinewidth": 0,
             "ticks": ""
            },
            "colorscale": [
             [
              0,
              "#0d0887"
             ],
             [
              0.1111111111111111,
              "#46039f"
             ],
             [
              0.2222222222222222,
              "#7201a8"
             ],
             [
              0.3333333333333333,
              "#9c179e"
             ],
             [
              0.4444444444444444,
              "#bd3786"
             ],
             [
              0.5555555555555556,
              "#d8576b"
             ],
             [
              0.6666666666666666,
              "#ed7953"
             ],
             [
              0.7777777777777778,
              "#fb9f3a"
             ],
             [
              0.8888888888888888,
              "#fdca26"
             ],
             [
              1,
              "#f0f921"
             ]
            ],
            "type": "histogram2d"
           }
          ],
          "histogram2dcontour": [
           {
            "colorbar": {
             "outlinewidth": 0,
             "ticks": ""
            },
            "colorscale": [
             [
              0,
              "#0d0887"
             ],
             [
              0.1111111111111111,
              "#46039f"
             ],
             [
              0.2222222222222222,
              "#7201a8"
             ],
             [
              0.3333333333333333,
              "#9c179e"
             ],
             [
              0.4444444444444444,
              "#bd3786"
             ],
             [
              0.5555555555555556,
              "#d8576b"
             ],
             [
              0.6666666666666666,
              "#ed7953"
             ],
             [
              0.7777777777777778,
              "#fb9f3a"
             ],
             [
              0.8888888888888888,
              "#fdca26"
             ],
             [
              1,
              "#f0f921"
             ]
            ],
            "type": "histogram2dcontour"
           }
          ],
          "mesh3d": [
           {
            "colorbar": {
             "outlinewidth": 0,
             "ticks": ""
            },
            "type": "mesh3d"
           }
          ],
          "parcoords": [
           {
            "line": {
             "colorbar": {
              "outlinewidth": 0,
              "ticks": ""
             }
            },
            "type": "parcoords"
           }
          ],
          "pie": [
           {
            "automargin": true,
            "type": "pie"
           }
          ],
          "scatter": [
           {
            "fillpattern": {
             "fillmode": "overlay",
             "size": 10,
             "solidity": 0.2
            },
            "type": "scatter"
           }
          ],
          "scatter3d": [
           {
            "line": {
             "colorbar": {
              "outlinewidth": 0,
              "ticks": ""
             }
            },
            "marker": {
             "colorbar": {
              "outlinewidth": 0,
              "ticks": ""
             }
            },
            "type": "scatter3d"
           }
          ],
          "scattercarpet": [
           {
            "marker": {
             "colorbar": {
              "outlinewidth": 0,
              "ticks": ""
             }
            },
            "type": "scattercarpet"
           }
          ],
          "scattergeo": [
           {
            "marker": {
             "colorbar": {
              "outlinewidth": 0,
              "ticks": ""
             }
            },
            "type": "scattergeo"
           }
          ],
          "scattergl": [
           {
            "marker": {
             "colorbar": {
              "outlinewidth": 0,
              "ticks": ""
             }
            },
            "type": "scattergl"
           }
          ],
          "scattermapbox": [
           {
            "marker": {
             "colorbar": {
              "outlinewidth": 0,
              "ticks": ""
             }
            },
            "type": "scattermapbox"
           }
          ],
          "scatterpolar": [
           {
            "marker": {
             "colorbar": {
              "outlinewidth": 0,
              "ticks": ""
             }
            },
            "type": "scatterpolar"
           }
          ],
          "scatterpolargl": [
           {
            "marker": {
             "colorbar": {
              "outlinewidth": 0,
              "ticks": ""
             }
            },
            "type": "scatterpolargl"
           }
          ],
          "scatterternary": [
           {
            "marker": {
             "colorbar": {
              "outlinewidth": 0,
              "ticks": ""
             }
            },
            "type": "scatterternary"
           }
          ],
          "surface": [
           {
            "colorbar": {
             "outlinewidth": 0,
             "ticks": ""
            },
            "colorscale": [
             [
              0,
              "#0d0887"
             ],
             [
              0.1111111111111111,
              "#46039f"
             ],
             [
              0.2222222222222222,
              "#7201a8"
             ],
             [
              0.3333333333333333,
              "#9c179e"
             ],
             [
              0.4444444444444444,
              "#bd3786"
             ],
             [
              0.5555555555555556,
              "#d8576b"
             ],
             [
              0.6666666666666666,
              "#ed7953"
             ],
             [
              0.7777777777777778,
              "#fb9f3a"
             ],
             [
              0.8888888888888888,
              "#fdca26"
             ],
             [
              1,
              "#f0f921"
             ]
            ],
            "type": "surface"
           }
          ],
          "table": [
           {
            "cells": {
             "fill": {
              "color": "#EBF0F8"
             },
             "line": {
              "color": "white"
             }
            },
            "header": {
             "fill": {
              "color": "#C8D4E3"
             },
             "line": {
              "color": "white"
             }
            },
            "type": "table"
           }
          ]
         },
         "layout": {
          "annotationdefaults": {
           "arrowcolor": "#2a3f5f",
           "arrowhead": 0,
           "arrowwidth": 1
          },
          "autotypenumbers": "strict",
          "coloraxis": {
           "colorbar": {
            "outlinewidth": 0,
            "ticks": ""
           }
          },
          "colorscale": {
           "diverging": [
            [
             0,
             "#8e0152"
            ],
            [
             0.1,
             "#c51b7d"
            ],
            [
             0.2,
             "#de77ae"
            ],
            [
             0.3,
             "#f1b6da"
            ],
            [
             0.4,
             "#fde0ef"
            ],
            [
             0.5,
             "#f7f7f7"
            ],
            [
             0.6,
             "#e6f5d0"
            ],
            [
             0.7,
             "#b8e186"
            ],
            [
             0.8,
             "#7fbc41"
            ],
            [
             0.9,
             "#4d9221"
            ],
            [
             1,
             "#276419"
            ]
           ],
           "sequential": [
            [
             0,
             "#0d0887"
            ],
            [
             0.1111111111111111,
             "#46039f"
            ],
            [
             0.2222222222222222,
             "#7201a8"
            ],
            [
             0.3333333333333333,
             "#9c179e"
            ],
            [
             0.4444444444444444,
             "#bd3786"
            ],
            [
             0.5555555555555556,
             "#d8576b"
            ],
            [
             0.6666666666666666,
             "#ed7953"
            ],
            [
             0.7777777777777778,
             "#fb9f3a"
            ],
            [
             0.8888888888888888,
             "#fdca26"
            ],
            [
             1,
             "#f0f921"
            ]
           ],
           "sequentialminus": [
            [
             0,
             "#0d0887"
            ],
            [
             0.1111111111111111,
             "#46039f"
            ],
            [
             0.2222222222222222,
             "#7201a8"
            ],
            [
             0.3333333333333333,
             "#9c179e"
            ],
            [
             0.4444444444444444,
             "#bd3786"
            ],
            [
             0.5555555555555556,
             "#d8576b"
            ],
            [
             0.6666666666666666,
             "#ed7953"
            ],
            [
             0.7777777777777778,
             "#fb9f3a"
            ],
            [
             0.8888888888888888,
             "#fdca26"
            ],
            [
             1,
             "#f0f921"
            ]
           ]
          },
          "colorway": [
           "#636efa",
           "#EF553B",
           "#00cc96",
           "#ab63fa",
           "#FFA15A",
           "#19d3f3",
           "#FF6692",
           "#B6E880",
           "#FF97FF",
           "#FECB52"
          ],
          "font": {
           "color": "#2a3f5f"
          },
          "geo": {
           "bgcolor": "white",
           "lakecolor": "white",
           "landcolor": "#E5ECF6",
           "showlakes": true,
           "showland": true,
           "subunitcolor": "white"
          },
          "hoverlabel": {
           "align": "left"
          },
          "hovermode": "closest",
          "mapbox": {
           "style": "light"
          },
          "paper_bgcolor": "white",
          "plot_bgcolor": "#E5ECF6",
          "polar": {
           "angularaxis": {
            "gridcolor": "white",
            "linecolor": "white",
            "ticks": ""
           },
           "bgcolor": "#E5ECF6",
           "radialaxis": {
            "gridcolor": "white",
            "linecolor": "white",
            "ticks": ""
           }
          },
          "scene": {
           "xaxis": {
            "backgroundcolor": "#E5ECF6",
            "gridcolor": "white",
            "gridwidth": 2,
            "linecolor": "white",
            "showbackground": true,
            "ticks": "",
            "zerolinecolor": "white"
           },
           "yaxis": {
            "backgroundcolor": "#E5ECF6",
            "gridcolor": "white",
            "gridwidth": 2,
            "linecolor": "white",
            "showbackground": true,
            "ticks": "",
            "zerolinecolor": "white"
           },
           "zaxis": {
            "backgroundcolor": "#E5ECF6",
            "gridcolor": "white",
            "gridwidth": 2,
            "linecolor": "white",
            "showbackground": true,
            "ticks": "",
            "zerolinecolor": "white"
           }
          },
          "shapedefaults": {
           "line": {
            "color": "#2a3f5f"
           }
          },
          "ternary": {
           "aaxis": {
            "gridcolor": "white",
            "linecolor": "white",
            "ticks": ""
           },
           "baxis": {
            "gridcolor": "white",
            "linecolor": "white",
            "ticks": ""
           },
           "bgcolor": "#E5ECF6",
           "caxis": {
            "gridcolor": "white",
            "linecolor": "white",
            "ticks": ""
           }
          },
          "title": {
           "x": 0.05
          },
          "xaxis": {
           "automargin": true,
           "gridcolor": "white",
           "linecolor": "white",
           "ticks": "",
           "title": {
            "standoff": 15
           },
           "zerolinecolor": "white",
           "zerolinewidth": 2
          },
          "yaxis": {
           "automargin": true,
           "gridcolor": "white",
           "linecolor": "white",
           "ticks": "",
           "title": {
            "standoff": 15
           },
           "zerolinecolor": "white",
           "zerolinewidth": 2
          }
         }
        },
        "title": {
         "text": "Share of Needed and Unutilized Energy of Total Energy Production"
        },
        "width": 800,
        "xaxis": {
         "title": {
          "text": "Year"
         }
        },
        "yaxis": {
         "range": [
          0,
          100
         ],
         "title": {
          "text": "Percentage of Produced Energy"
         }
        }
       }
      }
     },
     "metadata": {},
     "output_type": "display_data"
    }
   ],
   "source": [
    "X = np.array(range(1990, 2021))\n",
    "\n",
    "Y_prod = np.array(\n",
    "    [df1[df1['Year'] == x]['Total energy production (Mtoe)'].sum()\n",
    "    for x in X]\n",
    ")\n",
    "Y_cons = np.array(\n",
    "    [df1[df1['Year'] == x]['Total energy consumption (Mtoe)'].sum()\n",
    "    for x in X]\n",
    ")\n",
    "\n",
    "prod = Y_prod / Y_prod * 100\n",
    "cons = Y_cons / Y_prod * 100\n",
    "diff = (Y_prod - Y_cons) / Y_cons * 100\n",
    "    \n",
    "fig = go.Figure()\n",
    "fig.add_trace(go.Scatter(\n",
    "    name='Energy Need',\n",
    "    x=X, y=cons,\n",
    "    hoverinfo='x+y',\n",
    "    mode='lines',\n",
    "    line=dict(width=0, color='green'),\n",
    "    stackgroup='one' # define stack group\n",
    "))\n",
    "fig.add_trace(go.Scatter(\n",
    "    name='Energy Surplus',\n",
    "    x=X, y=diff,\n",
    "    hoverinfo='x+y',\n",
    "    mode='lines',\n",
    "    line=dict(width=0, color='red'),\n",
    "    stackgroup='one'\n",
    "))\n",
    "\n",
    "fig.update_xaxes(title_text=\"Year\")\n",
    "fig.update_yaxes(title_text=\"Percentage of Produced Energy\")\n",
    "fig.update_layout(yaxis_range=(0, 100), height=500, width=800,\n",
    "                  title='Share of Needed and Unutilized Energy of Total Energy Production')\n",
    "\n",
    "caption_text = 'Fig.5. This area plot shows that we need almost all of the energy that we produce.'\n",
    "fig.add_annotation(\n",
    "    x=0.5,  # x-coordinate for the annotation (0.5 = center of x-axis)\n",
    "    y=-0.24,  # y-coordinate for the annotation (negative value to position it below the graph)\n",
    "    xref=\"paper\",\n",
    "    yref=\"paper\",\n",
    "    text=caption_text,\n",
    "    showarrow=False,\n",
    "    font=dict(\n",
    "        size=13,\n",
    "        color=\"black\"\n",
    "    )\n",
    ")\n",
    "\n",
    "#fig.write_image('figure5.png')\n",
    "fig.show()"
   ]
  },
  {
   "cell_type": "code",
   "execution_count": 18,
   "id": "863c0aaf",
   "metadata": {
    "tags": [
     "hide-input"
    ]
   },
   "outputs": [
    {
     "data": {
      "application/vnd.plotly.v1+json": {
       "config": {
        "plotlyServerURL": "https://plot.ly"
       },
       "data": [
        {
         "line": {
          "color": "rgba(0,0,0,0)"
         },
         "showlegend": false,
         "type": "scatter",
         "x": [
          2010,
          2010.01,
          2010.02,
          2010.03,
          2010.04,
          2010.05,
          2010.06,
          2010.0700000000002,
          2010.08,
          2010.0900000000001,
          2010.1,
          2010.1100000000001,
          2010.12,
          2010.13,
          2010.1399999999999,
          2010.15,
          2010.1599999999999,
          2010.17,
          2010.1799999999998,
          2010.19,
          2010.2,
          2010.21,
          2010.22,
          2010.23,
          2010.2399999999998,
          2010.25,
          2010.2600000000002,
          2010.27,
          2010.2800000000002,
          2010.29,
          2010.3,
          2010.31,
          2010.3200000000002,
          2010.33,
          2010.3400000000001,
          2010.35,
          2010.3600000000001,
          2010.37,
          2010.38,
          2010.3899999999999,
          2010.4,
          2010.4099999999999,
          2010.42,
          2010.4299999999998,
          2010.44,
          2010.45,
          2010.46,
          2010.4699999999998,
          2010.48,
          2010.4899999999998,
          2010.5,
          2010.5100000000002,
          2010.52,
          2010.5300000000002,
          2010.54,
          2010.5500000000002,
          2010.56,
          2010.57,
          2010.58,
          2010.59,
          2010.6,
          2010.6100000000001,
          2010.62,
          2010.63,
          2010.6399999999999,
          2010.65,
          2010.66,
          2010.67,
          2010.68,
          2010.69,
          2010.6999999999998,
          2010.71,
          2010.7199999999998,
          2010.73,
          2010.7399999999998,
          2010.75,
          2010.7600000000002,
          2010.77,
          2010.7800000000002,
          2010.79,
          2010.8000000000002,
          2010.81,
          2010.82,
          2010.83,
          2010.8400000000001,
          2010.85,
          2010.8600000000001,
          2010.87,
          2010.88,
          2010.8899999999999,
          2010.9,
          2010.91,
          2010.92,
          2010.93,
          2010.9399999999998,
          2010.9499999999998,
          2010.96,
          2010.9699999999998,
          2010.98,
          2010.9899999999998,
          2011,
          2011.0099999999998,
          2011.02,
          2011.0299999999997,
          2011.04,
          2011.0499999999997,
          2011.06,
          2011.07,
          2011.0800000000002,
          2011.09,
          2011.1000000000001,
          2011.11,
          2011.1200000000001,
          2011.1299999999999,
          2011.14,
          2011.1499999999999,
          2011.16,
          2011.1699999999998,
          2011.1799999999998,
          2011.19,
          2011.2000000000003,
          2011.21,
          2011.2200000000003,
          2011.23,
          2011.2400000000002,
          2011.25,
          2011.2599999999998,
          2011.27,
          2011.2799999999997,
          2011.29,
          2011.2999999999997,
          2011.31,
          2011.3200000000002,
          2011.3300000000002,
          2011.3400000000001,
          2011.35,
          2011.36,
          2011.37,
          2011.38,
          2011.39,
          2011.4,
          2011.4099999999999,
          2011.4199999999998,
          2011.4299999999998,
          2011.44,
          2011.4500000000003,
          2011.46,
          2011.4700000000003,
          2011.48,
          2011.4900000000002,
          2011.5,
          2011.5100000000002,
          2011.52,
          2011.5300000000002,
          2011.54,
          2011.5500000000002,
          2011.56,
          2011.57,
          2011.58,
          2011.59,
          2011.6000000000001,
          2011.6100000000001,
          2011.6200000000001,
          2011.6299999999999,
          2011.6399999999999,
          2011.6499999999999,
          2011.66,
          2011.67,
          2011.68,
          2011.69,
          2011.6999999999998,
          2011.71,
          2011.7199999999998,
          2011.73,
          2011.7399999999998,
          2011.75,
          2011.7600000000002,
          2011.77,
          2011.7800000000002,
          2011.79,
          2011.8000000000002,
          2011.81,
          2011.82,
          2011.83,
          2011.84,
          2011.85,
          2011.86,
          2011.8700000000001,
          2011.8799999999999,
          2011.89,
          2011.9
         ],
         "y": [
          0.03297116902885211,
          0.03278866668484254,
          0.03260616434083297,
          0.0324236619968234,
          0.032241159652813836,
          0.03205865730880426,
          0.03187615496479469,
          0.03169365262078513,
          0.031511150276775556,
          0.031328647932765984,
          0.031146145588756415,
          0.030963643244746843,
          0.030781140900737275,
          0.030598638556727703,
          0.030416136212718135,
          0.030233633868708563,
          0.030051131524698994,
          0.029868629180689426,
          0.029686126836679854,
          0.029503624492670286,
          0.029321122148660717,
          0.02913861980465115,
          0.02895611746064158,
          0.028773615116632005,
          0.028591112772622437,
          0.028408610428612868,
          0.0282261080846033,
          0.02804360574059373,
          0.02786110339658416,
          0.027678601052574588,
          0.02749609870856502,
          0.02731359636455545,
          0.027131094020545882,
          0.02694859167653631,
          0.026766089332526742,
          0.02658358698851717,
          0.026401084644507602,
          0.026218582300498033,
          0.02603607995648846,
          0.025853577612478893,
          0.025671075268469325,
          0.025488572924459753,
          0.025306070580450184,
          0.025123568236440613,
          0.024941065892431044,
          0.024758563548421476,
          0.024576061204411907,
          0.024393558860402335,
          0.024211056516392764,
          0.024028554172383195,
          0.023846051828373627,
          0.02366354948436406,
          0.02348104714035449,
          0.023298544796344918,
          0.023116042452335346,
          0.02293354010832578,
          0.02275103776431621,
          0.022568535420306637,
          0.02238603307629707,
          0.022203530732287497,
          0.02202102838827793,
          0.021838526044268364,
          0.021656023700258792,
          0.02147352135624922,
          0.021291019012239648,
          0.021108516668230083,
          0.020926014324220515,
          0.020743511980210943,
          0.020561009636201374,
          0.020378507292191803,
          0.02019600494818223,
          0.020013502604172666,
          0.019831000260163094,
          0.019648497916153525,
          0.019465995572143954,
          0.019283493228134385,
          0.019100990884124817,
          0.018918488540115245,
          0.018735986196105676,
          0.018553483852096105,
          0.01837098150808654,
          0.018188479164076968,
          0.018005976820067396,
          0.017823474476057827,
          0.01764097213204826,
          0.017458469788038687,
          0.01727596744402912,
          0.01709346510001955,
          0.01691096275600998,
          0.01672846041200041,
          0.01654595806799084,
          0.01636345572398127,
          0.0161809533799717,
          0.015998451035962133,
          0.01581594869195256,
          0.015633446347942993,
          0.015450944003933422,
          0.015268441659923852,
          0.015085939315914284,
          0.014903436971904712,
          0.014720934627895144,
          0.014774806414152892,
          0.014828678200410643,
          0.014882549986668393,
          0.014936421772926143,
          0.014990293559183892,
          0.01504416534544164,
          0.015098037131699393,
          0.015151908917957143,
          0.015205780704214893,
          0.015259652490472642,
          0.01531352427673039,
          0.015367396062988141,
          0.015421267849245891,
          0.015475139635503642,
          0.01552901142176139,
          0.015582883208019139,
          0.01563675499427689,
          0.01569062678053464,
          0.01574449856679239,
          0.01579837035305014,
          0.015852242139307887,
          0.01590611392556564,
          0.015959985711823388,
          0.016013857498081138,
          0.01606772928433889,
          0.01612160107059664,
          0.01617547285685439,
          0.01622934464311214,
          0.016283216429369887,
          0.016337088215627637,
          0.016390960001885384,
          0.016444831788143138,
          0.016498703574400888,
          0.01655257536065864,
          0.016606447146916385,
          0.016660318933174136,
          0.016714190719431886,
          0.016768062505689636,
          0.016821934291947387,
          0.016875806078205137,
          0.016929677864462884,
          0.016983549650720634,
          0.017037421436978385,
          0.01709129322323614,
          0.017145165009493885,
          0.017199036795751632,
          0.017252908582009382,
          0.017306780368267133,
          0.017360652154524883,
          0.017414523940782634,
          0.017468395727040384,
          0.017522267513298134,
          0.017576139299555885,
          0.017630011085813635,
          0.017683882872071385,
          0.017737754658329136,
          0.017791626444586883,
          0.01784549823084463,
          0.01789937001710238,
          0.01795324180336013,
          0.01800711358961788,
          0.01806098537587563,
          0.01811485716213338,
          0.01816872894839113,
          0.018222600734648882,
          0.018276472520906632,
          0.018330344307164383,
          0.01838421609342213,
          0.018438087879679876,
          0.018491959665937627,
          0.018545831452195377,
          0.018599703238453127,
          0.018653575024710878,
          0.018707446810968628,
          0.01876131859722638,
          0.01881519038348413,
          0.01886906216974188,
          0.01892293395599963,
          0.01897680574225738,
          0.019030677528515127,
          0.01908454931477288,
          0.019138421101030628,
          0.019192292887288378,
          0.019246164673546125,
          0.019300036459803875,
          0.01935390824606163,
          0.019407780032319376,
          0.019461651818577126,
          0.019515523604834873,
          0.019569395391092627
         ]
        },
        {
         "fill": "tonexty",
         "fillcolor": "rgba(250,0,0,0.23)",
         "line": {
          "color": "rgba(0,0,0,0)"
         },
         "showlegend": false,
         "type": "scatter",
         "x": [
          2010,
          2010.01,
          2010.02,
          2010.03,
          2010.04,
          2010.05,
          2010.06,
          2010.0700000000002,
          2010.08,
          2010.0900000000001,
          2010.1,
          2010.1100000000001,
          2010.12,
          2010.13,
          2010.1399999999999,
          2010.15,
          2010.1599999999999,
          2010.17,
          2010.1799999999998,
          2010.19,
          2010.2,
          2010.21,
          2010.22,
          2010.23,
          2010.2399999999998,
          2010.25,
          2010.2600000000002,
          2010.27,
          2010.2800000000002,
          2010.29,
          2010.3,
          2010.31,
          2010.3200000000002,
          2010.33,
          2010.3400000000001,
          2010.35,
          2010.3600000000001,
          2010.37,
          2010.38,
          2010.3899999999999,
          2010.4,
          2010.4099999999999,
          2010.42,
          2010.4299999999998,
          2010.44,
          2010.45,
          2010.46,
          2010.4699999999998,
          2010.48,
          2010.4899999999998,
          2010.5,
          2010.5100000000002,
          2010.52,
          2010.5300000000002,
          2010.54,
          2010.5500000000002,
          2010.56,
          2010.57,
          2010.58,
          2010.59,
          2010.6,
          2010.6100000000001,
          2010.62,
          2010.63,
          2010.6399999999999,
          2010.65,
          2010.66,
          2010.67,
          2010.68,
          2010.69,
          2010.6999999999998,
          2010.71,
          2010.7199999999998,
          2010.73,
          2010.7399999999998,
          2010.75,
          2010.7600000000002,
          2010.77,
          2010.7800000000002,
          2010.79,
          2010.8000000000002,
          2010.81,
          2010.82,
          2010.83,
          2010.8400000000001,
          2010.85,
          2010.8600000000001,
          2010.87,
          2010.88,
          2010.8899999999999,
          2010.9,
          2010.91,
          2010.92,
          2010.93,
          2010.9399999999998,
          2010.9499999999998,
          2010.96,
          2010.9699999999998,
          2010.98,
          2010.9899999999998,
          2011,
          2011.0099999999998,
          2011.02,
          2011.0299999999997,
          2011.04,
          2011.0499999999997,
          2011.06,
          2011.07,
          2011.0800000000002,
          2011.09,
          2011.1000000000001,
          2011.11,
          2011.1200000000001,
          2011.1299999999999,
          2011.14,
          2011.1499999999999,
          2011.16,
          2011.1699999999998,
          2011.1799999999998,
          2011.19,
          2011.2000000000003,
          2011.21,
          2011.2200000000003,
          2011.23,
          2011.2400000000002,
          2011.25,
          2011.2599999999998,
          2011.27,
          2011.2799999999997,
          2011.29,
          2011.2999999999997,
          2011.31,
          2011.3200000000002,
          2011.3300000000002,
          2011.3400000000001,
          2011.35,
          2011.36,
          2011.37,
          2011.38,
          2011.39,
          2011.4,
          2011.4099999999999,
          2011.4199999999998,
          2011.4299999999998,
          2011.44,
          2011.4500000000003,
          2011.46,
          2011.4700000000003,
          2011.48,
          2011.4900000000002,
          2011.5,
          2011.5100000000002,
          2011.52,
          2011.5300000000002,
          2011.54,
          2011.5500000000002,
          2011.56,
          2011.57,
          2011.58,
          2011.59,
          2011.6000000000001,
          2011.6100000000001,
          2011.6200000000001,
          2011.6299999999999,
          2011.6399999999999,
          2011.6499999999999,
          2011.66,
          2011.67,
          2011.68,
          2011.69,
          2011.6999999999998,
          2011.71,
          2011.7199999999998,
          2011.73,
          2011.7399999999998,
          2011.75,
          2011.7600000000002,
          2011.77,
          2011.7800000000002,
          2011.79,
          2011.8000000000002,
          2011.81,
          2011.82,
          2011.83,
          2011.84,
          2011.85,
          2011.86,
          2011.8700000000001,
          2011.8799999999999,
          2011.89,
          2011.9
         ],
         "y": [
          -0.0399450891497759,
          -0.039495570220867,
          -0.039046051291958095,
          -0.03859653236304919,
          -0.03814701343414029,
          -0.03769749450523139,
          -0.037247975576322485,
          -0.03679845664741358,
          -0.036348937718504684,
          -0.03589941878959578,
          -0.035449899860686876,
          -0.03500038093177797,
          -0.03455086200286907,
          -0.034101343073960164,
          -0.03365182414505126,
          -0.033202305216142355,
          -0.03275278628723345,
          -0.03230326735832455,
          -0.03185374842941565,
          -0.031404229500506746,
          -0.030954710571597842,
          -0.030505191642688945,
          -0.030055672713780037,
          -0.029606153784871136,
          -0.029156634855962232,
          -0.028707115927053328,
          -0.028257596998144424,
          -0.02780807806923552,
          -0.02735855914032662,
          -0.026909040211417715,
          -0.02645952128250881,
          -0.026010002353599907,
          -0.02556048342469101,
          -0.025110964495782106,
          -0.024661445566873202,
          -0.024211926637964298,
          -0.023762407709055397,
          -0.023312888780146493,
          -0.02286336985123759,
          -0.022413850922328685,
          -0.021964331993419784,
          -0.02151481306451088,
          -0.021065294135601976,
          -0.020615775206693072,
          -0.020166256277784175,
          -0.01971673734887527,
          -0.019267218419966366,
          -0.018817699491057462,
          -0.01836818056214856,
          -0.017918661633239658,
          -0.017469142704330753,
          -0.01701962377542185,
          -0.016570104846512945,
          -0.016120585917604045,
          -0.015671066988695144,
          -0.01522154805978624,
          -0.014772029130877336,
          -0.014322510201968432,
          -0.013872991273059528,
          -0.013423472344150627,
          -0.012973953415241723,
          -0.01252443448633282,
          -0.012074915557423918,
          -0.011625396628515014,
          -0.011175877699606112,
          -0.010726358770697208,
          -0.010276839841788307,
          -0.009827320912879403,
          -0.0093778019839705,
          -0.008928283055061596,
          -0.008478764126152694,
          -0.00802924519724379,
          -0.007579726268334889,
          -0.007130207339425985,
          -0.006680688410517083,
          -0.006231169481608179,
          -0.0057816505526992745,
          -0.005332131623790374,
          -0.00488261269488147,
          -0.004433093765972566,
          -0.003983574837063663,
          -0.003534055908154761,
          -0.0030845369792458577,
          -0.0026350180503369553,
          -0.002185499121428052,
          -0.0017359801925191489,
          -0.0012864612636102465,
          -0.0008369423347013433,
          -0.00038742340579243917,
          0.0000620955231164632,
          0.0005116144520253664,
          0.0009611333809342692,
          0.001410652309843172,
          0.0018601712387520748,
          0.0023096901676609785,
          0.0027592090965698813,
          0.003208728025478784,
          0.0036582469543876873,
          0.00410776588329659,
          0.004557284812205493,
          0.005006803741114396,
          0.005167922095281852,
          0.005329040449449307,
          0.005490158803616763,
          0.005651277157784218,
          0.0058123955119516735,
          0.005973513866119129,
          0.006134632220286584,
          0.00629575057445404,
          0.006456868928621495,
          0.006617987282788951,
          0.006779105636956407,
          0.0069402239911238615,
          0.007101342345291317,
          0.007262460699458772,
          0.007423579053626228,
          0.007584697407793684,
          0.00774581576196114,
          0.007906934116128594,
          0.00806805247029605,
          0.008229170824463505,
          0.00839028917863096,
          0.008551407532798417,
          0.008712525886965871,
          0.008873644241133327,
          0.009034762595300783,
          0.009195880949468238,
          0.009356999303635694,
          0.009518117657803148,
          0.009679236011970604,
          0.00984035436613806,
          0.010001472720305516,
          0.010162591074472972,
          0.010323709428640426,
          0.010484827782807883,
          0.010645946136975337,
          0.010807064491142791,
          0.010968182845310249,
          0.011129301199477703,
          0.011290419553645159,
          0.011451537907812614,
          0.01161265626198007,
          0.011773774616147524,
          0.01193489297031498,
          0.012096011324482436,
          0.012257129678649892,
          0.012418248032817348,
          0.012579366386984802,
          0.012740484741152257,
          0.012901603095319713,
          0.013062721449487169,
          0.013223839803654625,
          0.01338495815782208,
          0.013546076511989536,
          0.013707194866156992,
          0.013868313220324448,
          0.014029431574491902,
          0.014190549928659356,
          0.014351668282826812,
          0.014512786636994268,
          0.014673904991161724,
          0.01483502334532918,
          0.014996141699496635,
          0.01515726005366409,
          0.015318378407831545,
          0.015479496761999001,
          0.01564061511616646,
          0.015801733470333913,
          0.01596285182450137,
          0.016123970178668824,
          0.016285088532836278,
          0.016446206887003732,
          0.01660732524117119,
          0.016768443595338644,
          0.0169295619495061,
          0.017090680303673556,
          0.01725179865784101,
          0.017412917012008467,
          0.01757403536617592,
          0.01773515372034338,
          0.017896272074510833,
          0.01805739042867829,
          0.018218508782845744,
          0.0183796271370132,
          0.018540745491180653,
          0.01870186384534811,
          0.018862982199515564,
          0.01902410055368302,
          0.019185218907850476,
          0.019346337262017933,
          0.019507455616185387
         ]
        },
        {
         "line": {
          "color": "rgba(0,0,0,0)"
         },
         "showlegend": false,
         "type": "scatter",
         "x": [
          2011.91,
          2011.92,
          2011.93,
          2011.94,
          2011.9499999999998,
          2011.96,
          2011.9699999999998,
          2011.98,
          2011.9899999999998,
          2012,
          2012.01,
          2012.02,
          2012.03,
          2012.04,
          2012.05,
          2012.06,
          2012.0700000000002,
          2012.0800000000002,
          2012.0900000000001,
          2012.1,
          2012.1100000000001,
          2012.12,
          2012.13,
          2012.1399999999999,
          2012.15,
          2012.1599999999999,
          2012.1699999999998,
          2012.1799999999998,
          2012.19,
          2012.2000000000003,
          2012.21,
          2012.2200000000003,
          2012.23,
          2012.2400000000002,
          2012.25,
          2012.2599999999998,
          2012.27,
          2012.28,
          2012.29,
          2012.2999999999997,
          2012.31,
          2012.3200000000002,
          2012.3300000000004,
          2012.3400000000001,
          2012.35,
          2012.3600000000001,
          2012.37,
          2012.38,
          2012.3899999999999,
          2012.4,
          2012.4099999999999,
          2012.4199999999996,
          2012.4299999999998,
          2012.44,
          2012.4500000000003,
          2012.46,
          2012.47,
          2012.48,
          2012.4900000000002,
          2012.5,
          2012.5100000000002,
          2012.52,
          2012.5300000000002,
          2012.54,
          2012.5500000000002,
          2012.5600000000002,
          2012.5699999999997,
          2012.58,
          2012.5899999999997,
          2012.6,
          2012.6100000000001,
          2012.62,
          2012.63,
          2012.6399999999999,
          2012.65,
          2012.6600000000003,
          2012.67,
          2012.6800000000003,
          2012.6899999999998,
          2012.6999999999998,
          2012.71,
          2012.7199999999998,
          2012.73,
          2012.7399999999998,
          2012.75,
          2012.7600000000002,
          2012.77,
          2012.7800000000002,
          2012.79,
          2012.8000000000002,
          2012.8100000000002,
          2012.8199999999997,
          2012.83,
          2012.84,
          2012.85,
          2012.8600000000001,
          2012.87,
          2012.88,
          2012.8899999999999,
          2012.9,
          2012.91,
          2012.92,
          2012.93,
          2012.9399999999998,
          2012.9499999999998,
          2012.96,
          2012.9699999999998,
          2012.98,
          2012.9899999999998,
          2013,
          2013.01,
          2013.02,
          2013.03,
          2013.04,
          2013.05,
          2013.0599999999997,
          2013.0700000000002,
          2013.08,
          2013.0900000000001,
          2013.1000000000001,
          2013.11,
          2013.1200000000001,
          2013.1299999999999,
          2013.14,
          2013.1499999999999,
          2013.1599999999999,
          2013.17,
          2013.1799999999998,
          2013.1900000000003,
          2013.2,
          2013.21,
          2013.22,
          2013.23,
          2013.24,
          2013.25,
          2013.2599999999998,
          2013.27,
          2013.28,
          2013.29,
          2013.2999999999997,
          2013.31,
          2013.3200000000002,
          2013.33,
          2013.3400000000001,
          2013.35,
          2013.36,
          2013.37,
          2013.38,
          2013.39,
          2013.4,
          2013.4099999999999,
          2013.42,
          2013.4299999999998,
          2013.44,
          2013.4500000000003,
          2013.46,
          2013.47,
          2013.48,
          2013.4900000000002,
          2013.5,
          2013.5100000000002,
          2013.52,
          2013.53,
          2013.5400000000002,
          2013.5500000000002,
          2013.5600000000002,
          2013.5699999999997,
          2013.58,
          2013.59,
          2013.6,
          2013.6100000000001,
          2013.6200000000001,
          2013.6299999999999,
          2013.6399999999999,
          2013.65,
          2013.66,
          2013.67,
          2013.6800000000003,
          2013.6899999999998,
          2013.6999999999998,
          2013.7099999999998,
          2013.72,
          2013.73,
          2013.7399999999998,
          2013.75,
          2013.7600000000002,
          2013.77,
          2013.7800000000002,
          2013.7900000000002,
          2013.8000000000002,
          2013.8100000000002,
          2013.8199999999997,
          2013.83,
          2013.84,
          2013.85,
          2013.8600000000001,
          2013.8700000000001,
          2013.8799999999999,
          2013.89,
          2013.9,
          2013.91,
          2013.92,
          2013.9300000000003,
          2013.9399999999998,
          2013.95,
          2013.9599999999998,
          2013.97,
          2013.98,
          2013.99,
          2014,
          2014.01,
          2014.02,
          2014.03,
          2014.0399999999997,
          2014.05,
          2014.06,
          2014.0700000000002,
          2014.0800000000002,
          2014.09,
          2014.1000000000001,
          2014.1100000000001,
          2014.12,
          2014.13,
          2014.1399999999999,
          2014.1499999999999,
          2014.16,
          2014.1699999999998,
          2014.1799999999998,
          2014.19,
          2014.2,
          2014.21,
          2014.22,
          2014.23,
          2014.24,
          2014.25,
          2014.2599999999998,
          2014.27,
          2014.28,
          2014.2899999999997,
          2014.3,
          2014.31,
          2014.3200000000002,
          2014.3300000000002,
          2014.3400000000001,
          2014.3500000000001,
          2014.3600000000001,
          2014.37,
          2014.38,
          2014.3899999999999,
          2014.3999999999999,
          2014.4099999999999,
          2014.4199999999998,
          2014.4299999999998,
          2014.44,
          2014.45,
          2014.4600000000003,
          2014.47,
          2014.48,
          2014.4900000000002,
          2014.5,
          2014.5100000000002,
          2014.52,
          2014.53,
          2014.5400000000002,
          2014.5500000000002,
          2014.56,
          2014.57,
          2014.58,
          2014.5899999999997,
          2014.6,
          2014.61,
          2014.62,
          2014.63,
          2014.64,
          2014.65,
          2014.6600000000003,
          2014.67,
          2014.68,
          2014.69,
          2014.6999999999998,
          2014.7099999999998,
          2014.72,
          2014.73,
          2014.7399999999998,
          2014.75,
          2014.76,
          2014.77,
          2014.78,
          2014.7900000000002,
          2014.8,
          2014.8100000000002,
          2014.82,
          2014.83,
          2014.84,
          2014.85,
          2014.86,
          2014.87,
          2014.88,
          2014.89,
          2014.9,
          2014.91,
          2014.92,
          2014.93,
          2014.9399999999998,
          2014.95,
          2014.9599999999998,
          2014.97,
          2014.98,
          2014.99,
          2015,
          2015.01,
          2015.02,
          2015.03,
          2015.04,
          2015.05,
          2015.06,
          2015.0700000000002,
          2015.0800000000002,
          2015.0900000000001,
          2015.1,
          2015.1100000000001,
          2015.1200000000001,
          2015.1299999999999,
          2015.1399999999999,
          2015.15,
          2015.1599999999999,
          2015.1699999999998,
          2015.1799999999998,
          2015.19,
          2015.2,
          2015.21,
          2015.22,
          2015.23,
          2015.24,
          2015.25,
          2015.2599999999998,
          2015.27,
          2015.28,
          2015.29,
          2015.3,
          2015.31,
          2015.3200000000002,
          2015.3300000000004,
          2015.3400000000001,
          2015.35,
          2015.3600000000001,
          2015.37,
          2015.38,
          2015.3899999999999,
          2015.4,
          2015.4099999999999,
          2015.4199999999996,
          2015.4299999999998,
          2015.44,
          2015.45,
          2015.46,
          2015.47,
          2015.48,
          2015.4900000000002,
          2015.5,
          2015.5100000000002,
          2015.52,
          2015.53,
          2015.5400000000002,
          2015.5500000000002,
          2015.56,
          2015.5699999999997,
          2015.58,
          2015.5899999999997,
          2015.6,
          2015.6100000000001,
          2015.6200000000001,
          2015.6299999999999,
          2015.6399999999999,
          2015.65,
          2015.6600000000003,
          2015.67,
          2015.6800000000003
         ],
         "y": [
          0.019623267177350377,
          0.019677138963608124,
          0.019731010749865874,
          0.019784882536123625,
          0.019838754322381375,
          0.019892626108639122,
          0.019946497894896872,
          0.020000369681154626,
          0.020054241467412373,
          0.020108113253670123,
          0.019878451146866465,
          0.01964878904006281,
          0.01941912693325915,
          0.01918946482645549,
          0.018959802719651836,
          0.018730140612848178,
          0.018500478506044523,
          0.01827081639924086,
          0.018041154292437207,
          0.01781149218563355,
          0.01758183007882989,
          0.017352167972026235,
          0.017122505865222574,
          0.01689284375841892,
          0.01666318165161526,
          0.016433519544811603,
          0.016203857438007948,
          0.015974195331204286,
          0.01574453322440063,
          0.015514871117596973,
          0.015285209010793319,
          0.015055546903989659,
          0.014825884797186002,
          0.014596222690382342,
          0.014366560583578686,
          0.01413689847677503,
          0.01390723636997137,
          0.013677574263167713,
          0.013447912156364055,
          0.013218250049560397,
          0.01298858794275674,
          0.012758925835953084,
          0.012529263729149427,
          0.012299601622345769,
          0.01206993951554211,
          0.011840277408738454,
          0.011610615301934796,
          0.011380953195131138,
          0.01115129108832748,
          0.010921628981523823,
          0.010691966874720165,
          0.010462304767916507,
          0.01023264266111285,
          0.010002980554309194,
          0.009773318447505537,
          0.00954365634070188,
          0.009313994233898221,
          0.009084332127094565,
          0.008854670020290905,
          0.008625007913487248,
          0.008395345806683592,
          0.008165683699879932,
          0.007936021593076275,
          0.007706359486272618,
          0.007476697379468961,
          0.007247035272665303,
          0.007017373165861646,
          0.006787711059057988,
          0.00655804895225433,
          0.006328386845450673,
          0.006098724738647016,
          0.005869062631843358,
          0.0056394005250397,
          0.005409738418236043,
          0.005180076311432385,
          0.004950414204628728,
          0.004720752097825071,
          0.004491089991021413,
          0.004261427884217755,
          0.004031765777414098,
          0.0038021036706104403,
          0.003572441563806784,
          0.0033427794570031256,
          0.0031131173501994687,
          0.0028834552433958105,
          0.0026537931365921523,
          0.0024241310297884954,
          0.002194468922984838,
          0.00196480681618118,
          0.001735144709377523,
          0.0015054826025738652,
          0.0012758204957702079,
          0.0010461583889665505,
          0.0008164962821628932,
          0.0005868341753592354,
          0.0003571720685555781,
          0.00012750996175192077,
          -0.00010215214505173743,
          -0.00033181425185539433,
          -0.0005614763586590521,
          -0.0007911384654627099,
          -0.001020800572266367,
          -0.0012504626790700245,
          -0.001480124785873682,
          -0.0017097868926773396,
          -0.001939448999480997,
          -0.0021691111062846547,
          -0.002398773213088312,
          -0.0026284353198919694,
          -0.002858097426695627,
          -0.0029544848562424873,
          -0.003050872285789348,
          -0.003147259715336208,
          -0.003243647144883068,
          -0.0033400345744299285,
          -0.0034364220039767887,
          -0.0035328094335236493,
          -0.0036291968630705095,
          -0.00372558429261737,
          -0.0038219717221642303,
          -0.0039183591517110905,
          -0.004014746581257951,
          -0.004111134010804811,
          -0.0042075214403516715,
          -0.004303908869898532,
          -0.004400296299445392,
          -0.004496683728992252,
          -0.004593071158539113,
          -0.004689458588085973,
          -0.004785846017632833,
          -0.004882233447179694,
          -0.004978620876726554,
          -0.005075008306273414,
          -0.005171395735820275,
          -0.005267783165367135,
          -0.0053641705949139945,
          -0.005460558024460856,
          -0.005556945454007716,
          -0.0056533328835545755,
          -0.005749720313101436,
          -0.005846107742648297,
          -0.0059424951721951565,
          -0.006038882601742018,
          -0.006135270031288878,
          -0.0062316574608357374,
          -0.006328044890382598,
          -0.006424432319929459,
          -0.006520819749476318,
          -0.006617207179023179,
          -0.00671359460857004,
          -0.006809982038116899,
          -0.006906369467663759,
          -0.007002756897210621,
          -0.00709914432675748,
          -0.007195531756304341,
          -0.007291919185851202,
          -0.007388306615398061,
          -0.007484694044944922,
          -0.007581081474491782,
          -0.007677468904038642,
          -0.007773856333585503,
          -0.007870243763132364,
          -0.007966631192679223,
          -0.008063018622226083,
          -0.008159406051772945,
          -0.008255793481319804,
          -0.008352180910866664,
          -0.008448568340413524,
          -0.008544955769960385,
          -0.008641343199507245,
          -0.008737730629054107,
          -0.008834118058600966,
          -0.008930505488147826,
          -0.009026892917694686,
          -0.009123280347241547,
          -0.009219667776788409,
          -0.009316055206335268,
          -0.009412442635882128,
          -0.009508830065428986,
          -0.009605217494975848,
          -0.00970160492452271,
          -0.009797992354069569,
          -0.009894379783616429,
          -0.009990767213163288,
          -0.01008715464271015,
          -0.010183542072257011,
          -0.010279929501803871,
          -0.010376316931350731,
          -0.01047270436089759,
          -0.010569091790444452,
          -0.010665479219991314,
          -0.010761866649538172,
          -0.010858254079085031,
          -0.010954641508631891,
          -0.011051028938178753,
          -0.011147416367725614,
          -0.011243803797272474,
          -0.011340191226819334,
          -0.011436578656366193,
          -0.011532966085913055,
          -0.011629353515459916,
          -0.011725740945006776,
          -0.011822128374553636,
          -0.011918515804100494,
          -0.012014903233647355,
          -0.012111290663194217,
          -0.012207678092741077,
          -0.012304065522287936,
          -0.012400452951834796,
          -0.012496840381381658,
          -0.012410097008956083,
          -0.012323353636530506,
          -0.012236610264104933,
          -0.012149866891679358,
          -0.01206312351925378,
          -0.011976380146828206,
          -0.011889636774402633,
          -0.011802893401977058,
          -0.011716150029551483,
          -0.011629406657125908,
          -0.011542663284700331,
          -0.011455919912274756,
          -0.011369176539849183,
          -0.011282433167423608,
          -0.011195689794998031,
          -0.011108946422572456,
          -0.011022203050146881,
          -0.010935459677721306,
          -0.010848716305295733,
          -0.010761972932870158,
          -0.010675229560444581,
          -0.010588486188019006,
          -0.010501742815593433,
          -0.010414999443167856,
          -0.010328256070742281,
          -0.010241512698316706,
          -0.01015476932589113,
          -0.010068025953465556,
          -0.009981282581039981,
          -0.009894539208614404,
          -0.00980779583618883,
          -0.009721052463763256,
          -0.009634309091337681,
          -0.009547565718912106,
          -0.009460822346486531,
          -0.009374078974060954,
          -0.00928733560163538,
          -0.009200592229209804,
          -0.009113848856784231,
          -0.009027105484358654,
          -0.00894036211193308,
          -0.008853618739507504,
          -0.00876687536708193,
          -0.008680131994656354,
          -0.008593388622230781,
          -0.008506645249805204,
          -0.00841990187737963,
          -0.008333158504954054,
          -0.00824641513252848,
          -0.008159671760102905,
          -0.00807292838767733,
          -0.007986185015251755,
          -0.007899441642826178,
          -0.007812698270400605,
          -0.0077259548979750296,
          -0.007639211525549455,
          -0.00755246815312388,
          -0.007465724780698303,
          -0.007378981408272729,
          -0.007292238035847155,
          -0.007205494663421579,
          -0.007118751290996005,
          -0.007032007918570428,
          -0.006945264546144854,
          -0.006858521173719278,
          -0.006771777801293704,
          -0.00668503442886813,
          -0.006598291056442553,
          -0.006511547684016978,
          -0.006424804311591403,
          -0.006338060939165828,
          -0.006251317566740253,
          -0.006164574194314678,
          -0.006077830821889103,
          -0.005991087449463528,
          -0.005904344077037953,
          -0.005817600704612378,
          -0.005730857332186803,
          -0.005644113959761228,
          -0.005557370587335653,
          -0.005470627214910078,
          -0.005383883842484503,
          -0.005297140470058927,
          -0.005210397097633352,
          -0.005123653725207777,
          -0.005036910352782202,
          -0.004950166980356627,
          -0.004863423607931052,
          -0.004776680235505477,
          -0.004689936863079902,
          -0.004603193490654327,
          -0.004516450118228752,
          -0.004429706745803177,
          -0.0043429633733776014,
          -0.0042562200009520264,
          -0.0041694766285264515,
          -0.0040827332561008765,
          -0.0039959898836753015,
          -0.0039092465112497265,
          -0.0038225031388241515,
          -0.0036406384948063073,
          -0.003458773850788463,
          -0.0032769092067706194,
          -0.0030950445627527757,
          -0.0029131799187349316,
          -0.0027313152747170874,
          -0.0025494506306992437,
          -0.0023675859866814,
          -0.0021857213426635562,
          -0.0020038566986457116,
          -0.0018219920546278677,
          -0.0016401274106100238,
          -0.00145826276659218,
          -0.0012763981225743359,
          -0.0010945334785564921,
          -0.0009126688345386475,
          -0.0007308041905208034,
          -0.0005489395465029601,
          -0.00036707490248511637,
          -0.0001852102584672722,
          -0.0000033456144494284877,
          0.0001785190295684161,
          0.00036038367358625983,
          0.0005422483176041036,
          0.0007241129616219477,
          0.0009059776056397919,
          0.001087842249657636,
          0.0012697068936754798,
          0.001451571537693323,
          0.0016334361817111672,
          0.0018153008257290114,
          0.001997165469746856,
          0.0021790301137646997,
          0.002360894757782544,
          0.002542759401800387,
          0.0027246240458182313,
          0.0029064886898360755,
          0.003088353333853919,
          0.0032702179778717633,
          0.0034520826218896075,
          0.003633947265907451,
          0.003815811909925295,
          0.003997676553943138,
          0.004179541197960983,
          0.004361405841978827,
          0.004543270485996672,
          0.004725135130014515,
          0.004906999774032359,
          0.005088864418050202,
          0.005270729062068047,
          0.0054525937060858915,
          0.005634458350103735,
          0.005816322994121579,
          0.005998187638139423,
          0.006180052282157267,
          0.006361916926175111,
          0.006543781570192954,
          0.006725646214210798,
          0.006907510858228641,
          0.007089375502246486,
          0.00727124014626433,
          0.007453104790282173,
          0.00763496943430002,
          0.007816834078317864,
          0.007998698722335707,
          0.008180563366353552,
          0.008362428010371396,
          0.00854429265438924
         ]
        },
        {
         "fill": "tonexty",
         "fillcolor": "rgba(0,250,0,0.23)",
         "line": {
          "color": "rgba(0,0,0,0)"
         },
         "showlegend": false,
         "type": "scatter",
         "x": [
          2011.91,
          2011.92,
          2011.93,
          2011.94,
          2011.9499999999998,
          2011.96,
          2011.9699999999998,
          2011.98,
          2011.9899999999998,
          2012,
          2012.01,
          2012.02,
          2012.03,
          2012.04,
          2012.05,
          2012.06,
          2012.0700000000002,
          2012.0800000000002,
          2012.0900000000001,
          2012.1,
          2012.1100000000001,
          2012.12,
          2012.13,
          2012.1399999999999,
          2012.15,
          2012.1599999999999,
          2012.1699999999998,
          2012.1799999999998,
          2012.19,
          2012.2000000000003,
          2012.21,
          2012.2200000000003,
          2012.23,
          2012.2400000000002,
          2012.25,
          2012.2599999999998,
          2012.27,
          2012.28,
          2012.29,
          2012.2999999999997,
          2012.31,
          2012.3200000000002,
          2012.3300000000004,
          2012.3400000000001,
          2012.35,
          2012.3600000000001,
          2012.37,
          2012.38,
          2012.3899999999999,
          2012.4,
          2012.4099999999999,
          2012.4199999999996,
          2012.4299999999998,
          2012.44,
          2012.4500000000003,
          2012.46,
          2012.47,
          2012.48,
          2012.4900000000002,
          2012.5,
          2012.5100000000002,
          2012.52,
          2012.5300000000002,
          2012.54,
          2012.5500000000002,
          2012.5600000000002,
          2012.5699999999997,
          2012.58,
          2012.5899999999997,
          2012.6,
          2012.6100000000001,
          2012.62,
          2012.63,
          2012.6399999999999,
          2012.65,
          2012.6600000000003,
          2012.67,
          2012.6800000000003,
          2012.6899999999998,
          2012.6999999999998,
          2012.71,
          2012.7199999999998,
          2012.73,
          2012.7399999999998,
          2012.75,
          2012.7600000000002,
          2012.77,
          2012.7800000000002,
          2012.79,
          2012.8000000000002,
          2012.8100000000002,
          2012.8199999999997,
          2012.83,
          2012.84,
          2012.85,
          2012.8600000000001,
          2012.87,
          2012.88,
          2012.8899999999999,
          2012.9,
          2012.91,
          2012.92,
          2012.93,
          2012.9399999999998,
          2012.9499999999998,
          2012.96,
          2012.9699999999998,
          2012.98,
          2012.9899999999998,
          2013,
          2013.01,
          2013.02,
          2013.03,
          2013.04,
          2013.05,
          2013.0599999999997,
          2013.0700000000002,
          2013.08,
          2013.0900000000001,
          2013.1000000000001,
          2013.11,
          2013.1200000000001,
          2013.1299999999999,
          2013.14,
          2013.1499999999999,
          2013.1599999999999,
          2013.17,
          2013.1799999999998,
          2013.1900000000003,
          2013.2,
          2013.21,
          2013.22,
          2013.23,
          2013.24,
          2013.25,
          2013.2599999999998,
          2013.27,
          2013.28,
          2013.29,
          2013.2999999999997,
          2013.31,
          2013.3200000000002,
          2013.33,
          2013.3400000000001,
          2013.35,
          2013.36,
          2013.37,
          2013.38,
          2013.39,
          2013.4,
          2013.4099999999999,
          2013.42,
          2013.4299999999998,
          2013.44,
          2013.4500000000003,
          2013.46,
          2013.47,
          2013.48,
          2013.4900000000002,
          2013.5,
          2013.5100000000002,
          2013.52,
          2013.53,
          2013.5400000000002,
          2013.5500000000002,
          2013.5600000000002,
          2013.5699999999997,
          2013.58,
          2013.59,
          2013.6,
          2013.6100000000001,
          2013.6200000000001,
          2013.6299999999999,
          2013.6399999999999,
          2013.65,
          2013.66,
          2013.67,
          2013.6800000000003,
          2013.6899999999998,
          2013.6999999999998,
          2013.7099999999998,
          2013.72,
          2013.73,
          2013.7399999999998,
          2013.75,
          2013.7600000000002,
          2013.77,
          2013.7800000000002,
          2013.7900000000002,
          2013.8000000000002,
          2013.8100000000002,
          2013.8199999999997,
          2013.83,
          2013.84,
          2013.85,
          2013.8600000000001,
          2013.8700000000001,
          2013.8799999999999,
          2013.89,
          2013.9,
          2013.91,
          2013.92,
          2013.9300000000003,
          2013.9399999999998,
          2013.95,
          2013.9599999999998,
          2013.97,
          2013.98,
          2013.99,
          2014,
          2014.01,
          2014.02,
          2014.03,
          2014.0399999999997,
          2014.05,
          2014.06,
          2014.0700000000002,
          2014.0800000000002,
          2014.09,
          2014.1000000000001,
          2014.1100000000001,
          2014.12,
          2014.13,
          2014.1399999999999,
          2014.1499999999999,
          2014.16,
          2014.1699999999998,
          2014.1799999999998,
          2014.19,
          2014.2,
          2014.21,
          2014.22,
          2014.23,
          2014.24,
          2014.25,
          2014.2599999999998,
          2014.27,
          2014.28,
          2014.2899999999997,
          2014.3,
          2014.31,
          2014.3200000000002,
          2014.3300000000002,
          2014.3400000000001,
          2014.3500000000001,
          2014.3600000000001,
          2014.37,
          2014.38,
          2014.3899999999999,
          2014.3999999999999,
          2014.4099999999999,
          2014.4199999999998,
          2014.4299999999998,
          2014.44,
          2014.45,
          2014.4600000000003,
          2014.47,
          2014.48,
          2014.4900000000002,
          2014.5,
          2014.5100000000002,
          2014.52,
          2014.53,
          2014.5400000000002,
          2014.5500000000002,
          2014.56,
          2014.57,
          2014.58,
          2014.5899999999997,
          2014.6,
          2014.61,
          2014.62,
          2014.63,
          2014.64,
          2014.65,
          2014.6600000000003,
          2014.67,
          2014.68,
          2014.69,
          2014.6999999999998,
          2014.7099999999998,
          2014.72,
          2014.73,
          2014.7399999999998,
          2014.75,
          2014.76,
          2014.77,
          2014.78,
          2014.7900000000002,
          2014.8,
          2014.8100000000002,
          2014.82,
          2014.83,
          2014.84,
          2014.85,
          2014.86,
          2014.87,
          2014.88,
          2014.89,
          2014.9,
          2014.91,
          2014.92,
          2014.93,
          2014.9399999999998,
          2014.95,
          2014.9599999999998,
          2014.97,
          2014.98,
          2014.99,
          2015,
          2015.01,
          2015.02,
          2015.03,
          2015.04,
          2015.05,
          2015.06,
          2015.0700000000002,
          2015.0800000000002,
          2015.0900000000001,
          2015.1,
          2015.1100000000001,
          2015.1200000000001,
          2015.1299999999999,
          2015.1399999999999,
          2015.15,
          2015.1599999999999,
          2015.1699999999998,
          2015.1799999999998,
          2015.19,
          2015.2,
          2015.21,
          2015.22,
          2015.23,
          2015.24,
          2015.25,
          2015.2599999999998,
          2015.27,
          2015.28,
          2015.29,
          2015.3,
          2015.31,
          2015.3200000000002,
          2015.3300000000004,
          2015.3400000000001,
          2015.35,
          2015.3600000000001,
          2015.37,
          2015.38,
          2015.3899999999999,
          2015.4,
          2015.4099999999999,
          2015.4199999999996,
          2015.4299999999998,
          2015.44,
          2015.45,
          2015.46,
          2015.47,
          2015.48,
          2015.4900000000002,
          2015.5,
          2015.5100000000002,
          2015.52,
          2015.53,
          2015.5400000000002,
          2015.5500000000002,
          2015.56,
          2015.5699999999997,
          2015.58,
          2015.5899999999997,
          2015.6,
          2015.6100000000001,
          2015.6200000000001,
          2015.6299999999999,
          2015.6399999999999,
          2015.65,
          2015.6600000000003,
          2015.67,
          2015.6800000000003
         ],
         "y": [
          0.019668573970352845,
          0.0198296923245203,
          0.019990810678687753,
          0.020151929032855207,
          0.020313047387022665,
          0.02047416574119012,
          0.020635284095357576,
          0.02079640244952503,
          0.020957520803692488,
          0.021118639157859942,
          0.021103671089334648,
          0.021088703020809348,
          0.021073734952284054,
          0.021058766883758757,
          0.02104379881523346,
          0.021028830746708162,
          0.02101386267818287,
          0.02099889460965757,
          0.020983926541132278,
          0.02096895847260698,
          0.020953990404081684,
          0.020939022335556386,
          0.020924054267031093,
          0.020909086198505795,
          0.0208941181299805,
          0.0208791500614552,
          0.020864181992929907,
          0.02084921392440461,
          0.020834245855879317,
          0.02081927778735402,
          0.020804309718828722,
          0.020789341650303425,
          0.02077437358177813,
          0.02075940551325283,
          0.020744437444727537,
          0.020729469376202243,
          0.020714501307676943,
          0.02069953323915165,
          0.02068456517062635,
          0.020669597102101055,
          0.02065462903357576,
          0.020639660965050464,
          0.020624692896525167,
          0.020609724827999873,
          0.020594756759474576,
          0.02057978869094928,
          0.02056482062242398,
          0.020549852553898688,
          0.02053488448537339,
          0.020519916416848097,
          0.020504948348322796,
          0.020489980279797503,
          0.020475012211272202,
          0.020460044142746908,
          0.020445076074221614,
          0.02043010800569632,
          0.02041513993717102,
          0.020400171868645726,
          0.02038520380012043,
          0.020370235731595132,
          0.020355267663069835,
          0.020340299594544538,
          0.020325331526019244,
          0.02031036345749395,
          0.02029539538896865,
          0.020280427320443356,
          0.020265459251918055,
          0.02025049118339276,
          0.020235523114867468,
          0.020220555046342167,
          0.020205586977816874,
          0.020190618909291577,
          0.020175650840766283,
          0.020160682772240986,
          0.02014571470371569,
          0.020130746635190395,
          0.020115778566665098,
          0.0201008104981398,
          0.020085842429614503,
          0.02007087436108921,
          0.02005590629256391,
          0.020040938224038615,
          0.02002597015551332,
          0.020011002086988024,
          0.019996034018462727,
          0.01998106594993743,
          0.019966097881412136,
          0.01995112981288684,
          0.019936161744361542,
          0.01992119367583625,
          0.01990622560731095,
          0.01989125753878565,
          0.019876289470260357,
          0.01986132140173506,
          0.019846353333209766,
          0.01983138526468447,
          0.01981641719615917,
          0.019801449127633878,
          0.01978648105910858,
          0.019771512990583284,
          0.01975654492205799,
          0.019741576853532693,
          0.0197266087850074,
          0.0197116407164821,
          0.0196966726479568,
          0.019681704579431508,
          0.01966673651090621,
          0.019651768442380917,
          0.019636800373855616,
          0.019621832305330322,
          0.01942878166682632,
          0.01923573102832232,
          0.019042680389818316,
          0.018849629751314313,
          0.01865657911281031,
          0.01846352847430631,
          0.01827047783580231,
          0.018077427197298306,
          0.017884376558794303,
          0.0176913259202903,
          0.0174982752817863,
          0.017305224643282296,
          0.017112174004778297,
          0.016919123366274293,
          0.016726072727770293,
          0.01653302208926629,
          0.016339971450762287,
          0.016146920812258284,
          0.015953870173754284,
          0.015760819535250284,
          0.01556776889674628,
          0.015374718258242277,
          0.015181667619738276,
          0.014988616981234272,
          0.01479556634273027,
          0.01460251570422627,
          0.014409465065722266,
          0.014216414427218264,
          0.014023363788714261,
          0.01383031315021026,
          0.013637262511706256,
          0.013444211873202258,
          0.013251161234698257,
          0.013058110596194253,
          0.012865059957690252,
          0.012672009319186248,
          0.012478958680682247,
          0.012285908042178243,
          0.012092857403674242,
          0.011899806765170239,
          0.011706756126666237,
          0.011513705488162234,
          0.011320654849658232,
          0.011127604211154234,
          0.01093455357265023,
          0.010741502934146229,
          0.010548452295642226,
          0.010355401657138224,
          0.010162351018634221,
          0.00996930038013022,
          0.009776249741626218,
          0.009583199103122214,
          0.009390148464618213,
          0.009197097826114211,
          0.009004047187610208,
          0.008810996549106206,
          0.008617945910602205,
          0.008424895272098203,
          0.0082318446335942,
          0.0080387939950902,
          0.007845743356586197,
          0.007652692718082194,
          0.007459642079578193,
          0.00726659144107419,
          0.007073540802570188,
          0.006880490164066187,
          0.006687439525562185,
          0.006494388887058182,
          0.00630133824855418,
          0.0061082876100501775,
          0.005915236971546175,
          0.005722186333042174,
          0.005529135694538173,
          0.00533608505603417,
          0.005143034417530168,
          0.0049499837790261654,
          0.004756933140522164,
          0.004563882502018161,
          0.00437083186351416,
          0.004177781225010158,
          0.003984730586506155,
          0.0037916799480021534,
          0.003598629309498152,
          0.0034055786709941494,
          0.003212528032490147,
          0.0030194773939861454,
          0.0028264267554821434,
          0.002633376116978141,
          0.002440325478474139,
          0.0022472748399701373,
          0.002054224201466135,
          0.001861173562962133,
          0.0016681229244581309,
          0.0014750722859541287,
          0.0012820216474501269,
          0.0010889710089461246,
          0.0008959203704421225,
          0.0007028697319381205,
          0.0005098190934341184,
          0.0003167684549301164,
          0.0004956011488027334,
          0.0006744338426753504,
          0.0008532665365479674,
          0.0010320992304205844,
          0.0012109319242932016,
          0.0013897646181658184,
          0.0015685973120384356,
          0.0017474300059110526,
          0.0019262626997836696,
          0.002105095393656287,
          0.0022839280875289036,
          0.0024627607814015203,
          0.002641593475274138,
          0.0028204261691467548,
          0.0029992588630193716,
          0.0031780915568919888,
          0.003356924250764606,
          0.0035357569446372228,
          0.00371458963850984,
          0.003893422332382457,
          0.004072255026255074,
          0.004251087720127691,
          0.0044299204140003075,
          0.004608753107872924,
          0.004787585801745542,
          0.00496641849561816,
          0.005145251189490776,
          0.005324083883363393,
          0.005502916577236009,
          0.005681749271108627,
          0.005860581964981244,
          0.006039414658853861,
          0.006218247352726479,
          0.0063970800465990955,
          0.0065759127404717115,
          0.006754745434344329,
          0.006933578128216946,
          0.0071124108220895635,
          0.00729124351596218,
          0.007470076209834798,
          0.007648908903707414,
          0.007827741597580032,
          0.00800657429145265,
          0.008185406985325265,
          0.008364239679197883,
          0.008543072373070499,
          0.008721905066943116,
          0.008900737760815732,
          0.00907957045468835,
          0.009258403148560967,
          0.009437235842433585,
          0.009616068536306203,
          0.009794901230178819,
          0.009973733924051436,
          0.010152566617924054,
          0.010331399311796672,
          0.010510232005669286,
          0.010689064699541902,
          0.01086789739341452,
          0.011046730087287137,
          0.011225562781159755,
          0.011404395475032372,
          0.011583228168904988,
          0.011762060862777606,
          0.011940893556650223,
          0.012119726250522841,
          0.012298558944395459,
          0.012477391638268075,
          0.012656224332140689,
          0.012835057026013307,
          0.013013889719885924,
          0.013192722413758542,
          0.013371555107631158,
          0.013550387801503775,
          0.013729220495376393,
          0.01390805318924901,
          0.014086885883121628,
          0.014265718576994244,
          0.014444551270866862,
          0.01462338396473948,
          0.014802216658612097,
          0.014981049352484711,
          0.015159882046357327,
          0.015338714740229945,
          0.015517547434102563,
          0.015696380127975182,
          0.015875212821847798,
          0.016054045515720414,
          0.01623287820959303,
          0.01641171090346565,
          0.016590543597338265,
          0.01676937629121088,
          0.0169482089850835,
          0.017127041678956116,
          0.017305874372828732,
          0.017484707066701348,
          0.017663539760573967,
          0.017842372454446583,
          0.018021205148319203,
          0.01820003784219182,
          0.018058721463412693,
          0.017917405084633565,
          0.017776088705854436,
          0.017634772327075308,
          0.017493455948296183,
          0.017352139569517058,
          0.01721082319073793,
          0.0170695068119588,
          0.016928190433179675,
          0.01678687405440055,
          0.016645557675621418,
          0.016504241296842293,
          0.016362924918063165,
          0.01622160853928404,
          0.01608029216050491,
          0.015938975781725782,
          0.015797659402946654,
          0.01565634302416753,
          0.015515026645388404,
          0.015373710266609275,
          0.015232393887830148,
          0.01509107750905102,
          0.014949761130271895,
          0.014808444751492766,
          0.01466712837271364,
          0.01452581199393451,
          0.014384495615155384,
          0.014243179236376259,
          0.01410186285759713,
          0.013960546478818003,
          0.013819230100038875,
          0.01367791372125975,
          0.013536597342480623,
          0.013395280963701496,
          0.013253964584922368,
          0.01311264820614324,
          0.012971331827364112,
          0.012830015448584987,
          0.012688699069805858,
          0.012547382691026732,
          0.012406066312247603,
          0.012264749933468476,
          0.01212343355468935,
          0.011982117175910224,
          0.011840800797131096,
          0.011699484418351969,
          0.01155816803957284,
          0.011416851660793715,
          0.011275535282014588,
          0.01113421890323546,
          0.010992902524456331,
          0.010851586145677205,
          0.010710269766898078,
          0.010568953388118951,
          0.010427637009339826,
          0.010286320630560697,
          0.01014500425178157,
          0.010003687873002442,
          0.009862371494223315,
          0.009721055115444188,
          0.009579738736665061,
          0.009438422357885935,
          0.009297105979106806,
          0.00915578960032768,
          0.009014473221548552,
          0.008873156842769426,
          0.008731840463990299,
          0.00859052408521117
         ]
        },
        {
         "line": {
          "color": "rgba(0,0,0,0)"
         },
         "showlegend": false,
         "type": "scatter",
         "x": [
          2015.69,
          2015.6999999999998,
          2015.7099999999998,
          2015.72,
          2015.73,
          2015.7399999999998,
          2015.75,
          2015.76,
          2015.77,
          2015.78,
          2015.79,
          2015.8000000000002,
          2015.81,
          2015.82,
          2015.83,
          2015.84,
          2015.85,
          2015.8600000000001,
          2015.8700000000001,
          2015.8799999999999,
          2015.89,
          2015.9,
          2015.91,
          2015.92,
          2015.93,
          2015.94,
          2015.9499999999998,
          2015.9599999999998,
          2015.97,
          2015.98,
          2015.99,
          2016,
          2016.01,
          2016.02,
          2016.03,
          2016.04,
          2016.0499999999997,
          2016.06,
          2016.0700000000002,
          2016.08,
          2016.0900000000001,
          2016.1000000000001,
          2016.1100000000001,
          2016.12,
          2016.13,
          2016.14,
          2016.1499999999999,
          2016.1599999999999,
          2016.17,
          2016.1799999999998,
          2016.19,
          2016.2000000000003,
          2016.21,
          2016.22,
          2016.23,
          2016.24,
          2016.25,
          2016.26,
          2016.27,
          2016.2800000000002,
          2016.29,
          2016.2999999999997,
          2016.31,
          2016.3200000000002,
          2016.33,
          2016.3400000000001,
          2016.35,
          2016.3600000000001,
          2016.37,
          2016.38,
          2016.3899999999999,
          2016.4,
          2016.4099999999999,
          2016.42,
          2016.4299999999998,
          2016.44,
          2016.4500000000003,
          2016.46,
          2016.4699999999998,
          2016.48,
          2016.49,
          2016.5,
          2016.5100000000002,
          2016.52,
          2016.53,
          2016.54,
          2016.5500000000002,
          2016.5600000000002,
          2016.5699999999997,
          2016.58,
          2016.59,
          2016.6000000000001,
          2016.61,
          2016.62,
          2016.63,
          2016.64,
          2016.6499999999999,
          2016.66,
          2016.67,
          2016.6800000000003,
          2016.6899999999998,
          2016.6999999999998,
          2016.71,
          2016.72,
          2016.73,
          2016.7399999999998,
          2016.75,
          2016.76,
          2016.7700000000002,
          2016.78,
          2016.79,
          2016.8000000000002,
          2016.8100000000002,
          2016.8199999999997,
          2016.83,
          2016.84,
          2016.85,
          2016.86,
          2016.87,
          2016.88,
          2016.89,
          2016.9,
          2016.91,
          2016.92,
          2016.9300000000003,
          2016.9399999999998,
          2016.9499999999998,
          2016.96,
          2016.97,
          2016.9799999999998,
          2016.99
         ],
         "y": [
          0.008726157298407082,
          0.008908021942424927,
          0.00908988658644277,
          0.009271751230460614,
          0.009453615874478459,
          0.009635480518496302,
          0.009817345162514146,
          0.00999920980653199,
          0.010181074450549834,
          0.010362939094567678,
          0.010544803738585523,
          0.010726668382603366,
          0.01090853302662121,
          0.011090397670639053,
          0.011272262314656896,
          0.01145412695867474,
          0.011635991602692585,
          0.011817856246710428,
          0.011999720890728273,
          0.012181585534746119,
          0.012363450178763963,
          0.012545314822781806,
          0.012727179466799651,
          0.012909044110817496,
          0.013090908754835338,
          0.013272773398853181,
          0.013454638042871026,
          0.013636502686888869,
          0.013818367330906713,
          0.014000231974924558,
          0.0141820966189424,
          0.014363961262960245,
          0.014468837496020185,
          0.014573713729080125,
          0.014678589962140064,
          0.014783466195200004,
          0.014888342428259944,
          0.014993218661319882,
          0.015098094894379823,
          0.015202971127439763,
          0.015307847360499702,
          0.015412723593559642,
          0.015517599826619582,
          0.015622476059679521,
          0.015727352292739458,
          0.015832228525799397,
          0.015937104758859337,
          0.016041980991919277,
          0.016146857224979216,
          0.016251733458039156,
          0.016356609691099096,
          0.01646148592415904,
          0.016566362157218975,
          0.016671238390278915,
          0.016776114623338854,
          0.016880990856398794,
          0.016985867089458734,
          0.017090743322518673,
          0.017195619555578613,
          0.017300495788638553,
          0.017405372021698493,
          0.01751024825475843,
          0.017615124487818372,
          0.01772000072087831,
          0.01782487695393825,
          0.01792975318699819,
          0.01803462942005813,
          0.018139505653118067,
          0.01824438188617801,
          0.018349258119237946,
          0.01845413435229789,
          0.018559010585357825,
          0.018663886818417765,
          0.018768763051477705,
          0.018873639284537645,
          0.018978515517597584,
          0.019083391750657527,
          0.019188267983717464,
          0.019293144216777403,
          0.019398020449837343,
          0.019502896682897283,
          0.019607772915957222,
          0.019712649149017162,
          0.0198175253820771,
          0.01992240161513704,
          0.02002727784819698,
          0.02013215408125692,
          0.02023703031431686,
          0.020341906547376797,
          0.020446782780436736,
          0.020551659013496676,
          0.020656535246556616,
          0.020761411479616555,
          0.020866287712676495,
          0.020971163945736438,
          0.021076040178796374,
          0.021180916411856317,
          0.021285792644916257,
          0.021390668877976197,
          0.021495545111036136,
          0.021600421344096073,
          0.02170529757715601,
          0.021810173810215952,
          0.021915050043275888,
          0.02201992627633583,
          0.022124802509395768,
          0.02222967874245571,
          0.022334554975515654,
          0.02243943120857559,
          0.022544307441635533,
          0.02264918367469547,
          0.022754059907755413,
          0.02285893614081535,
          0.02296381237387529,
          0.023068688606935225,
          0.023173564839995168,
          0.023278441073055104,
          0.023383317306115047,
          0.023488193539174983,
          0.023593069772234927,
          0.023697946005294863,
          0.023802822238354806,
          0.023907698471414742,
          0.024012574704474685,
          0.02411745093753462,
          0.02422232717059456,
          0.024327203403654497,
          0.02443207963671444,
          0.024536955869774377,
          0.02464183210283432,
          0.024746708335894256
         ]
        },
        {
         "fill": "tonexty",
         "fillcolor": "rgba(250,0,0,0.23)",
         "line": {
          "color": "rgba(0,0,0,0)"
         },
         "showlegend": false,
         "type": "scatter",
         "x": [
          2015.69,
          2015.6999999999998,
          2015.7099999999998,
          2015.72,
          2015.73,
          2015.7399999999998,
          2015.75,
          2015.76,
          2015.77,
          2015.78,
          2015.79,
          2015.8000000000002,
          2015.81,
          2015.82,
          2015.83,
          2015.84,
          2015.85,
          2015.8600000000001,
          2015.8700000000001,
          2015.8799999999999,
          2015.89,
          2015.9,
          2015.91,
          2015.92,
          2015.93,
          2015.94,
          2015.9499999999998,
          2015.9599999999998,
          2015.97,
          2015.98,
          2015.99,
          2016,
          2016.01,
          2016.02,
          2016.03,
          2016.04,
          2016.0499999999997,
          2016.06,
          2016.0700000000002,
          2016.08,
          2016.0900000000001,
          2016.1000000000001,
          2016.1100000000001,
          2016.12,
          2016.13,
          2016.14,
          2016.1499999999999,
          2016.1599999999999,
          2016.17,
          2016.1799999999998,
          2016.19,
          2016.2000000000003,
          2016.21,
          2016.22,
          2016.23,
          2016.24,
          2016.25,
          2016.26,
          2016.27,
          2016.2800000000002,
          2016.29,
          2016.2999999999997,
          2016.31,
          2016.3200000000002,
          2016.33,
          2016.3400000000001,
          2016.35,
          2016.3600000000001,
          2016.37,
          2016.38,
          2016.3899999999999,
          2016.4,
          2016.4099999999999,
          2016.42,
          2016.4299999999998,
          2016.44,
          2016.4500000000003,
          2016.46,
          2016.4699999999998,
          2016.48,
          2016.49,
          2016.5,
          2016.5100000000002,
          2016.52,
          2016.53,
          2016.54,
          2016.5500000000002,
          2016.5600000000002,
          2016.5699999999997,
          2016.58,
          2016.59,
          2016.6000000000001,
          2016.61,
          2016.62,
          2016.63,
          2016.64,
          2016.6499999999999,
          2016.66,
          2016.67,
          2016.6800000000003,
          2016.6899999999998,
          2016.6999999999998,
          2016.71,
          2016.72,
          2016.73,
          2016.7399999999998,
          2016.75,
          2016.76,
          2016.7700000000002,
          2016.78,
          2016.79,
          2016.8000000000002,
          2016.8100000000002,
          2016.8199999999997,
          2016.83,
          2016.84,
          2016.85,
          2016.86,
          2016.87,
          2016.88,
          2016.89,
          2016.9,
          2016.91,
          2016.92,
          2016.9300000000003,
          2016.9399999999998,
          2016.9499999999998,
          2016.96,
          2016.97,
          2016.9799999999998,
          2016.99
         ],
         "y": [
          0.008449207706432043,
          0.008307891327652916,
          0.008166574948873788,
          0.008025258570094663,
          0.007883942191315534,
          0.007742625812536408,
          0.007601309433757281,
          0.007459993054978153,
          0.007318676676199026,
          0.007177360297419899,
          0.007036043918640772,
          0.006894727539861645,
          0.006753411161082518,
          0.00661209478230339,
          0.0064707784035242626,
          0.006329462024745136,
          0.006188145645966009,
          0.006046829267186882,
          0.005905512888407755,
          0.005764196509628627,
          0.0056228801308495,
          0.005481563752070373,
          0.005340247373291246,
          0.005198930994512119,
          0.005057614615732992,
          0.004916298236953864,
          0.004774981858174737,
          0.0046336654793956095,
          0.004492349100616483,
          0.004351032721837356,
          0.004209716343058228,
          0.004068399964279101,
          0.0042762773905534205,
          0.004484154816827739,
          0.004692032243102058,
          0.004899909669376376,
          0.005107787095650695,
          0.005315664521925014,
          0.005523541948199333,
          0.005731419374473652,
          0.0059392968007479716,
          0.00614717422702229,
          0.006355051653296608,
          0.006562929079570927,
          0.006770806505845247,
          0.006978683932119565,
          0.007186561358393883,
          0.0073944387846682025,
          0.007602316210942522,
          0.00781019363721684,
          0.008018071063491158,
          0.008225948489765478,
          0.008433825916039797,
          0.008641703342314115,
          0.008849580768588435,
          0.009057458194862752,
          0.009265335621137072,
          0.009473213047411392,
          0.00968109047368571,
          0.009888967899960029,
          0.010096845326234347,
          0.010304722752508665,
          0.010512600178782985,
          0.010720477605057305,
          0.010928355031331624,
          0.011136232457605942,
          0.01134410988388026,
          0.011551987310154579,
          0.011759864736428899,
          0.011967742162703215,
          0.012175619588977536,
          0.012383497015251854,
          0.012591374441526172,
          0.01279925186780049,
          0.013007129294074809,
          0.013215006720349129,
          0.013422884146623449,
          0.013630761572897767,
          0.013838638999172086,
          0.014046516425446404,
          0.014254393851720722,
          0.014462271277995042,
          0.014670148704269362,
          0.01487802613054368,
          0.015085903556818,
          0.01529378098309232,
          0.015501658409366638,
          0.015709535835640956,
          0.015917413261915273,
          0.016125290688189593,
          0.016333168114463913,
          0.01654104554073823,
          0.01674892296701255,
          0.01695680039328687,
          0.017164677819561186,
          0.017372555245835506,
          0.017580432672109826,
          0.017788310098384146,
          0.017996187524658463,
          0.018204064950932783,
          0.0184119423772071,
          0.01861981980348142,
          0.018827697229755736,
          0.019035574656030056,
          0.019243452082304376,
          0.019451329508578696,
          0.019659206934853013,
          0.01986708436112733,
          0.020074961787401653,
          0.02028283921367597,
          0.02049071663995029,
          0.020698594066224606,
          0.020906471492498926,
          0.021114348918773243,
          0.021322226345047563,
          0.02153010377132188,
          0.0217379811975962,
          0.02194585862387052,
          0.02215373605014484,
          0.022361613476419157,
          0.022569490902693477,
          0.022777368328967797,
          0.022985245755242117,
          0.023193123181516433,
          0.023401000607790753,
          0.02360887803406507,
          0.02381675546033939,
          0.024024632886613707,
          0.024232510312888027,
          0.024440387739162347,
          0.024648265165436667
         ]
        },
        {
         "line": {
          "color": "rgba(0,0,0,0)"
         },
         "showlegend": false,
         "type": "scatter",
         "x": [
          2017,
          2017.01,
          2017.0199999999998,
          2017.03,
          2017.04,
          2017.05,
          2017.0599999999997,
          2017.0700000000002,
          2017.0800000000002,
          2017.0900000000001,
          2017.1,
          2017.1100000000001,
          2017.1200000000001,
          2017.13,
          2017.1399999999999,
          2017.15,
          2017.1599999999999,
          2017.1699999999998,
          2017.1799999999998,
          2017.1900000000003,
          2017.2000000000003,
          2017.21,
          2017.22,
          2017.2300000000002,
          2017.24,
          2017.25,
          2017.26,
          2017.27,
          2017.2800000000002,
          2017.29,
          2017.2999999999997,
          2017.31,
          2017.3200000000002,
          2017.3300000000002,
          2017.3400000000001,
          2017.35,
          2017.3600000000001,
          2017.37,
          2017.38,
          2017.3899999999999,
          2017.4,
          2017.4099999999999,
          2017.4199999999998,
          2017.4299999999998,
          2017.44,
          2017.4500000000003,
          2017.46,
          2017.4699999999998,
          2017.48,
          2017.49,
          2017.5,
          2017.51,
          2017.52,
          2017.5299999999997,
          2017.54,
          2017.5500000000002,
          2017.5600000000002,
          2017.57,
          2017.58,
          2017.5899999999997,
          2017.6,
          2017.6100000000001,
          2017.6200000000001,
          2017.6299999999999,
          2017.6399999999999,
          2017.65,
          2017.6600000000003,
          2017.67,
          2017.68,
          2017.6899999999998,
          2017.6999999999998,
          2017.71,
          2017.7200000000003,
          2017.73,
          2017.74,
          2017.75,
          2017.76,
          2017.7700000000002,
          2017.78,
          2017.79,
          2017.8000000000002,
          2017.8100000000002,
          2017.82,
          2017.83,
          2017.84,
          2017.85,
          2017.8600000000001,
          2017.8700000000001,
          2017.8799999999999,
          2017.8899999999999,
          2017.9,
          2017.91,
          2017.92,
          2017.93,
          2017.9399999999998,
          2017.9499999999998,
          2017.96,
          2017.97,
          2017.9799999999998,
          2017.99,
          2018,
          2018.01,
          2018.02,
          2018.03,
          2018.04,
          2018.05,
          2018.06,
          2018.07,
          2018.0800000000002,
          2018.0900000000001,
          2018.1000000000001,
          2018.11,
          2018.12,
          2018.13,
          2018.14,
          2018.1499999999999,
          2018.1599999999999,
          2018.1699999999998,
          2018.1799999999998,
          2018.19,
          2018.2,
          2018.21,
          2018.22,
          2018.23,
          2018.24,
          2018.25,
          2018.26,
          2018.27,
          2018.2800000000002,
          2018.29,
          2018.2999999999997,
          2018.31,
          2018.3200000000002,
          2018.3300000000002,
          2018.3400000000001,
          2018.35,
          2018.36,
          2018.37,
          2018.38,
          2018.39,
          2018.4,
          2018.4099999999999,
          2018.4199999999998,
          2018.4299999999998,
          2018.44,
          2018.4500000000003,
          2018.46,
          2018.4699999999998,
          2018.48,
          2018.49,
          2018.5,
          2018.51,
          2018.52,
          2018.5300000000002,
          2018.54,
          2018.5500000000002,
          2018.56,
          2018.57,
          2018.58,
          2018.5900000000001,
          2018.6,
          2018.61,
          2018.62,
          2018.63,
          2018.64,
          2018.65,
          2018.6599999999999,
          2018.67,
          2018.68,
          2018.69,
          2018.6999999999998,
          2018.71,
          2018.7199999999998,
          2018.73,
          2018.74,
          2018.75,
          2018.76,
          2018.7700000000002,
          2018.7800000000002,
          2018.79,
          2018.8000000000002,
          2018.8100000000002,
          2018.82,
          2018.83,
          2018.8400000000001,
          2018.85,
          2018.86,
          2018.87,
          2018.88,
          2018.89,
          2018.9,
          2018.9099999999999,
          2018.92,
          2018.93,
          2018.9399999999998,
          2018.95,
          2018.96,
          2018.9699999999998,
          2018.9799999999998,
          2018.99,
          2019
         ],
         "y": [
          0.0248515845689542,
          0.024569899081665913,
          0.024288213594377633,
          0.024006528107089347,
          0.023724842619801064,
          0.023443157132512778,
          0.0231614716452245,
          0.022879786157936215,
          0.022598100670647932,
          0.02231641518335965,
          0.022034729696071367,
          0.02175304420878308,
          0.021471358721494797,
          0.021189673234206514,
          0.02090798774691823,
          0.020626302259629945,
          0.020344616772341662,
          0.02006293128505338,
          0.019781245797765096,
          0.019499560310476814,
          0.019217874823188534,
          0.018936189335900248,
          0.018654503848611965,
          0.01837281836132368,
          0.0180911328740354,
          0.017809447386747113,
          0.017527761899458826,
          0.017246076412170547,
          0.01696439092488226,
          0.016682705437593977,
          0.01640101995030569,
          0.01611933446301741,
          0.01583764897572913,
          0.015555963488440846,
          0.015274278001152561,
          0.01499259251386428,
          0.014710907026575994,
          0.014429221539287712,
          0.014147536051999426,
          0.013865850564711143,
          0.013584165077422859,
          0.013302479590134576,
          0.013020794102846293,
          0.012739108615558008,
          0.012457423128269729,
          0.012175737640981444,
          0.011894052153693161,
          0.011612366666404876,
          0.011330681179116594,
          0.011048995691828309,
          0.010767310204540026,
          0.010485624717251743,
          0.010203939229963458,
          0.009922253742675176,
          0.009640568255386893,
          0.00935888276809861,
          0.009077197280810325,
          0.008795511793522042,
          0.00851382630623376,
          0.008232140818945475,
          0.007950455331657193,
          0.007668769844368909,
          0.007387084357080626,
          0.0071053988697923395,
          0.0068237133825040566,
          0.006542027895215772,
          0.006260342407927491,
          0.005978656920639207,
          0.005696971433350923,
          0.00541528594606264,
          0.005133600458774356,
          0.004851914971486073,
          0.00457022948419779,
          0.004288543996909507,
          0.004006858509621223,
          0.0037251730223329393,
          0.0034434875350446556,
          0.0031618020477563727,
          0.0028801165604680893,
          0.0025984310731798055,
          0.0023167455858915226,
          0.002035060098603239,
          0.0017533746113149546,
          0.0014716891240266717,
          0.001190003636738388,
          0.0009083181494501046,
          0.0006266326621618217,
          0.0003449471748735379,
          0.00006326168758525414,
          -0.0002184237997030292,
          -0.0005001092869913125,
          -0.0007817947742795963,
          -0.0010634802615678797,
          -0.001345165748856163,
          -0.0016268512361444463,
          -0.0019085367234327297,
          -0.0021902222107210135,
          -0.002471907698009297,
          -0.00275359318529758,
          -0.0030352786725858635,
          -0.0033169641598741473,
          -0.0033169641598741473,
          -0.0033169641598741473,
          -0.0033169641598741473,
          -0.0033169641598741473,
          -0.0033169641598741473,
          -0.0033169641598741473,
          -0.0033169641598741473,
          -0.0033169641598741473,
          -0.0033169641598741473,
          -0.0033169641598741477,
          -0.0033169641598741473,
          -0.0033169641598741473,
          -0.0033169641598741473,
          -0.0033169641598741473,
          -0.003316964159874147,
          -0.0033169641598741473,
          -0.0033169641598741473,
          -0.0033169641598741473,
          -0.0033169641598741473,
          -0.0033169641598741473,
          -0.0033169641598741473,
          -0.0033169641598741473,
          -0.0033169641598741473,
          -0.0033169641598741473,
          -0.0033169641598741473,
          -0.0033169641598741473,
          -0.0033169641598741473,
          -0.0033169641598741473,
          -0.0033169641598741473,
          -0.0033169641598741473,
          -0.0033169641598741473,
          -0.0033169641598741473,
          -0.0033169641598741473,
          -0.0033169641598741473,
          -0.0033169641598741473,
          -0.0033169641598741473,
          -0.0033169641598741473,
          -0.0033169641598741473,
          -0.0033169641598741473,
          -0.0033169641598741473,
          -0.0033169641598741473,
          -0.0033169641598741473,
          -0.0033169641598741473,
          -0.0033169641598741473,
          -0.0033169641598741473,
          -0.0033169641598741473,
          -0.0033169641598741473,
          -0.0033169641598741473,
          -0.0033169641598741473,
          -0.0033169641598741473,
          -0.0033169641598741473,
          -0.0033169641598741473,
          -0.0033169641598741473,
          -0.0033169641598741473,
          -0.0033169641598741473,
          -0.0033169641598741473,
          -0.0033169641598741473,
          -0.0033169641598741473,
          -0.0033169641598741473,
          -0.0033169641598741473,
          -0.0033169641598741473,
          -0.0033169641598741473,
          -0.0033169641598741473,
          -0.0033169641598741473,
          -0.0033169641598741473,
          -0.0033169641598741473,
          -0.0033169641598741473,
          -0.0033169641598741473,
          -0.0033169641598741473,
          -0.0033169641598741473,
          -0.0033169641598741473,
          -0.0033169641598741473,
          -0.0033169641598741473,
          -0.0033169641598741473,
          -0.0033169641598741473,
          -0.0033169641598741473,
          -0.0033169641598741473,
          -0.0033169641598741473,
          -0.0033169641598741473,
          -0.0033169641598741473,
          -0.0033169641598741473,
          -0.0033169641598741473,
          -0.0033169641598741473,
          -0.0033169641598741473,
          -0.003316964159874147,
          -0.0033169641598741473,
          -0.0033169641598741473,
          -0.0033169641598741473,
          -0.0033169641598741473,
          -0.0033169641598741477,
          -0.0033169641598741473,
          -0.0033169641598741473,
          -0.0033169641598741473,
          -0.0033169641598741473,
          -0.0033169641598741473,
          -0.0033169641598741473,
          -0.0033169641598741473,
          -0.0033169641598741473,
          -0.0033169641598741473,
          -0.0033169641598741473
         ]
        },
        {
         "fill": "tonexty",
         "fillcolor": "rgba(0,250,0,0.23)",
         "line": {
          "color": "rgba(0,0,0,0)"
         },
         "showlegend": false,
         "type": "scatter",
         "x": [
          2017,
          2017.01,
          2017.0199999999998,
          2017.03,
          2017.04,
          2017.05,
          2017.0599999999997,
          2017.0700000000002,
          2017.0800000000002,
          2017.0900000000001,
          2017.1,
          2017.1100000000001,
          2017.1200000000001,
          2017.13,
          2017.1399999999999,
          2017.15,
          2017.1599999999999,
          2017.1699999999998,
          2017.1799999999998,
          2017.1900000000003,
          2017.2000000000003,
          2017.21,
          2017.22,
          2017.2300000000002,
          2017.24,
          2017.25,
          2017.26,
          2017.27,
          2017.2800000000002,
          2017.29,
          2017.2999999999997,
          2017.31,
          2017.3200000000002,
          2017.3300000000002,
          2017.3400000000001,
          2017.35,
          2017.3600000000001,
          2017.37,
          2017.38,
          2017.3899999999999,
          2017.4,
          2017.4099999999999,
          2017.4199999999998,
          2017.4299999999998,
          2017.44,
          2017.4500000000003,
          2017.46,
          2017.4699999999998,
          2017.48,
          2017.49,
          2017.5,
          2017.51,
          2017.52,
          2017.5299999999997,
          2017.54,
          2017.5500000000002,
          2017.5600000000002,
          2017.57,
          2017.58,
          2017.5899999999997,
          2017.6,
          2017.6100000000001,
          2017.6200000000001,
          2017.6299999999999,
          2017.6399999999999,
          2017.65,
          2017.6600000000003,
          2017.67,
          2017.68,
          2017.6899999999998,
          2017.6999999999998,
          2017.71,
          2017.7200000000003,
          2017.73,
          2017.74,
          2017.75,
          2017.76,
          2017.7700000000002,
          2017.78,
          2017.79,
          2017.8000000000002,
          2017.8100000000002,
          2017.82,
          2017.83,
          2017.84,
          2017.85,
          2017.8600000000001,
          2017.8700000000001,
          2017.8799999999999,
          2017.8899999999999,
          2017.9,
          2017.91,
          2017.92,
          2017.93,
          2017.9399999999998,
          2017.9499999999998,
          2017.96,
          2017.97,
          2017.9799999999998,
          2017.99,
          2018,
          2018.01,
          2018.02,
          2018.03,
          2018.04,
          2018.05,
          2018.06,
          2018.07,
          2018.0800000000002,
          2018.0900000000001,
          2018.1000000000001,
          2018.11,
          2018.12,
          2018.13,
          2018.14,
          2018.1499999999999,
          2018.1599999999999,
          2018.1699999999998,
          2018.1799999999998,
          2018.19,
          2018.2,
          2018.21,
          2018.22,
          2018.23,
          2018.24,
          2018.25,
          2018.26,
          2018.27,
          2018.2800000000002,
          2018.29,
          2018.2999999999997,
          2018.31,
          2018.3200000000002,
          2018.3300000000002,
          2018.3400000000001,
          2018.35,
          2018.36,
          2018.37,
          2018.38,
          2018.39,
          2018.4,
          2018.4099999999999,
          2018.4199999999998,
          2018.4299999999998,
          2018.44,
          2018.4500000000003,
          2018.46,
          2018.4699999999998,
          2018.48,
          2018.49,
          2018.5,
          2018.51,
          2018.52,
          2018.5300000000002,
          2018.54,
          2018.5500000000002,
          2018.56,
          2018.57,
          2018.58,
          2018.5900000000001,
          2018.6,
          2018.61,
          2018.62,
          2018.63,
          2018.64,
          2018.65,
          2018.6599999999999,
          2018.67,
          2018.68,
          2018.69,
          2018.6999999999998,
          2018.71,
          2018.7199999999998,
          2018.73,
          2018.74,
          2018.75,
          2018.76,
          2018.7700000000002,
          2018.7800000000002,
          2018.79,
          2018.8000000000002,
          2018.8100000000002,
          2018.82,
          2018.83,
          2018.8400000000001,
          2018.85,
          2018.86,
          2018.87,
          2018.88,
          2018.89,
          2018.9,
          2018.9099999999999,
          2018.92,
          2018.93,
          2018.9399999999998,
          2018.95,
          2018.96,
          2018.9699999999998,
          2018.9799999999998,
          2018.99,
          2019
         ],
         "y": [
          0.024856142591710984,
          0.024700894473153677,
          0.024545646354596367,
          0.02439039823603906,
          0.024235150117481754,
          0.024079901998924447,
          0.023924653880367137,
          0.023769405761809834,
          0.023614157643252524,
          0.023458909524695218,
          0.02330366140613791,
          0.023148413287580605,
          0.022993165169023295,
          0.02283791705046599,
          0.02268266893190868,
          0.022527420813351372,
          0.022372172694794065,
          0.02221692457623676,
          0.02206167645767945,
          0.021906428339122146,
          0.021751180220564836,
          0.02159593210200753,
          0.02144068398345022,
          0.021285435864892916,
          0.021130187746335606,
          0.0209749396277783,
          0.020819691509220993,
          0.020664443390663683,
          0.02050919527210638,
          0.02035394715354907,
          0.020198699034991763,
          0.020043450916434453,
          0.01988820279787715,
          0.01973295467931984,
          0.019577706560762534,
          0.019422458442205227,
          0.01926721032364792,
          0.01911196220509061,
          0.018956714086533304,
          0.018801465967975998,
          0.018646217849418688,
          0.01849096973086138,
          0.018335721612304075,
          0.018180473493746765,
          0.01802522537518946,
          0.017869977256632155,
          0.01771472913807485,
          0.01755948101951754,
          0.017404232900960232,
          0.017248984782402922,
          0.017093736663845616,
          0.01693848854528831,
          0.016783240426731,
          0.016627992308173693,
          0.016472744189616386,
          0.01631749607105908,
          0.01616224795250177,
          0.016006999833944463,
          0.015851751715387156,
          0.015696503596829846,
          0.015541255478272542,
          0.015386007359715233,
          0.015230759241157927,
          0.01507551112260062,
          0.014920263004043314,
          0.014765014885486006,
          0.0146097667669287,
          0.01445451864837139,
          0.014299270529814084,
          0.014144022411256776,
          0.013988774292699468,
          0.013833526174142161,
          0.013678278055584855,
          0.013523029937027548,
          0.013367781818470238,
          0.013212533699912932,
          0.013057285581355625,
          0.012902037462798317,
          0.012746789344241009,
          0.012591541225683702,
          0.012436293107126396,
          0.012281044988569087,
          0.012125796870011779,
          0.011970548751454473,
          0.011815300632897166,
          0.011660052514339858,
          0.01150480439578255,
          0.011349556277225243,
          0.011194308158667936,
          0.01103906004011063,
          0.010883811921553322,
          0.010728563802996013,
          0.010573315684438707,
          0.0104180675658814,
          0.010262819447324092,
          0.010107571328766784,
          0.009952323210209477,
          0.009797075091652169,
          0.009641826973094863,
          0.009486578854537556,
          0.009331330735980248,
          0.009331330735980248,
          0.009331330735980248,
          0.009331330735980248,
          0.009331330735980248,
          0.009331330735980248,
          0.009331330735980248,
          0.009331330735980248,
          0.00933133073598025,
          0.009331330735980248,
          0.009331330735980248,
          0.009331330735980248,
          0.009331330735980248,
          0.009331330735980248,
          0.009331330735980248,
          0.009331330735980248,
          0.009331330735980248,
          0.009331330735980248,
          0.009331330735980248,
          0.009331330735980248,
          0.009331330735980248,
          0.009331330735980248,
          0.009331330735980248,
          0.009331330735980248,
          0.009331330735980248,
          0.009331330735980248,
          0.009331330735980248,
          0.009331330735980248,
          0.009331330735980248,
          0.009331330735980248,
          0.009331330735980248,
          0.009331330735980248,
          0.009331330735980248,
          0.009331330735980248,
          0.009331330735980248,
          0.009331330735980248,
          0.009331330735980248,
          0.009331330735980248,
          0.009331330735980248,
          0.009331330735980248,
          0.009331330735980248,
          0.009331330735980248,
          0.009331330735980248,
          0.009331330735980248,
          0.009331330735980248,
          0.009331330735980248,
          0.009331330735980248,
          0.009331330735980248,
          0.009331330735980248,
          0.009331330735980248,
          0.009331330735980248,
          0.009331330735980248,
          0.009331330735980248,
          0.009331330735980248,
          0.009331330735980248,
          0.009331330735980248,
          0.009331330735980248,
          0.009331330735980248,
          0.009331330735980248,
          0.009331330735980248,
          0.009331330735980248,
          0.009331330735980248,
          0.009331330735980248,
          0.009331330735980248,
          0.009331330735980248,
          0.009331330735980248,
          0.009331330735980248,
          0.009331330735980248,
          0.009331330735980248,
          0.009331330735980248,
          0.009331330735980248,
          0.009331330735980248,
          0.009331330735980248,
          0.009331330735980248,
          0.009331330735980248,
          0.009331330735980248,
          0.009331330735980248,
          0.009331330735980248,
          0.009331330735980248,
          0.009331330735980248,
          0.009331330735980248,
          0.009331330735980248,
          0.009331330735980248,
          0.009331330735980248,
          0.009331330735980248,
          0.009331330735980248,
          0.009331330735980248,
          0.009331330735980248,
          0.009331330735980248,
          0.009331330735980248,
          0.009331330735980248,
          0.009331330735980248,
          0.00933133073598025,
          0.009331330735980248,
          0.009331330735980248,
          0.009331330735980248,
          0.009331330735980248,
          0.009331330735980248,
          0.009331330735980248,
          0.009331330735980248,
          0.009331330735980248
         ]
        },
        {
         "line": {
          "color": "rgba(75,75,75,1)",
          "width": 2
         },
         "name": "Average of All Other Sectors",
         "type": "scatter",
         "x": [
          2010,
          2010.01,
          2010.02,
          2010.03,
          2010.04,
          2010.05,
          2010.06,
          2010.0700000000002,
          2010.08,
          2010.0900000000001,
          2010.1,
          2010.1100000000001,
          2010.12,
          2010.13,
          2010.1399999999999,
          2010.15,
          2010.1599999999999,
          2010.17,
          2010.1799999999998,
          2010.19,
          2010.2,
          2010.21,
          2010.22,
          2010.23,
          2010.2399999999998,
          2010.25,
          2010.2600000000002,
          2010.27,
          2010.2800000000002,
          2010.29,
          2010.3,
          2010.31,
          2010.3200000000002,
          2010.33,
          2010.3400000000001,
          2010.35,
          2010.3600000000001,
          2010.37,
          2010.38,
          2010.3899999999999,
          2010.4,
          2010.4099999999999,
          2010.42,
          2010.4299999999998,
          2010.44,
          2010.45,
          2010.46,
          2010.4699999999998,
          2010.48,
          2010.4899999999998,
          2010.5,
          2010.5100000000002,
          2010.52,
          2010.5300000000002,
          2010.54,
          2010.5500000000002,
          2010.56,
          2010.57,
          2010.58,
          2010.59,
          2010.6,
          2010.6100000000001,
          2010.62,
          2010.63,
          2010.6399999999999,
          2010.65,
          2010.66,
          2010.67,
          2010.68,
          2010.69,
          2010.6999999999998,
          2010.71,
          2010.7199999999998,
          2010.73,
          2010.7399999999998,
          2010.75,
          2010.7600000000002,
          2010.77,
          2010.7800000000002,
          2010.79,
          2010.8000000000002,
          2010.81,
          2010.82,
          2010.83,
          2010.8400000000001,
          2010.85,
          2010.8600000000001,
          2010.87,
          2010.88,
          2010.8899999999999,
          2010.9,
          2010.91,
          2010.92,
          2010.93,
          2010.9399999999998,
          2010.9499999999998,
          2010.96,
          2010.9699999999998,
          2010.98,
          2010.9899999999998,
          2011,
          2011.0099999999998,
          2011.02,
          2011.0299999999997,
          2011.04,
          2011.0499999999997,
          2011.06,
          2011.07,
          2011.0800000000002,
          2011.09,
          2011.1000000000001,
          2011.11,
          2011.1200000000001,
          2011.1299999999999,
          2011.14,
          2011.1499999999999,
          2011.16,
          2011.1699999999998,
          2011.1799999999998,
          2011.19,
          2011.2000000000003,
          2011.21,
          2011.2200000000003,
          2011.23,
          2011.2400000000002,
          2011.25,
          2011.2599999999998,
          2011.27,
          2011.2799999999997,
          2011.29,
          2011.2999999999997,
          2011.31,
          2011.3200000000002,
          2011.3300000000002,
          2011.3400000000001,
          2011.35,
          2011.36,
          2011.37,
          2011.38,
          2011.39,
          2011.4,
          2011.4099999999999,
          2011.4199999999998,
          2011.4299999999998,
          2011.44,
          2011.4500000000003,
          2011.46,
          2011.4700000000003,
          2011.48,
          2011.4900000000002,
          2011.5,
          2011.5100000000002,
          2011.52,
          2011.5300000000002,
          2011.54,
          2011.5500000000002,
          2011.56,
          2011.57,
          2011.58,
          2011.59,
          2011.6000000000001,
          2011.6100000000001,
          2011.6200000000001,
          2011.6299999999999,
          2011.6399999999999,
          2011.6499999999999,
          2011.66,
          2011.67,
          2011.68,
          2011.69,
          2011.6999999999998,
          2011.71,
          2011.7199999999998,
          2011.73,
          2011.7399999999998,
          2011.75,
          2011.7600000000002,
          2011.77,
          2011.7800000000002,
          2011.79,
          2011.8000000000002,
          2011.81,
          2011.82,
          2011.83,
          2011.84,
          2011.85,
          2011.86,
          2011.8700000000001,
          2011.8799999999999,
          2011.89,
          2011.9,
          2011.91,
          2011.92,
          2011.93,
          2011.94,
          2011.9499999999998,
          2011.96,
          2011.9699999999998,
          2011.98,
          2011.9899999999998,
          2012,
          2012.01,
          2012.02,
          2012.03,
          2012.04,
          2012.05,
          2012.06,
          2012.0700000000002,
          2012.0800000000002,
          2012.0900000000001,
          2012.1,
          2012.1100000000001,
          2012.12,
          2012.13,
          2012.1399999999999,
          2012.15,
          2012.1599999999999,
          2012.1699999999998,
          2012.1799999999998,
          2012.19,
          2012.2000000000003,
          2012.21,
          2012.2200000000003,
          2012.23,
          2012.2400000000002,
          2012.25,
          2012.2599999999998,
          2012.27,
          2012.28,
          2012.29,
          2012.2999999999997,
          2012.31,
          2012.3200000000002,
          2012.3300000000004,
          2012.3400000000001,
          2012.35,
          2012.3600000000001,
          2012.37,
          2012.38,
          2012.3899999999999,
          2012.4,
          2012.4099999999999,
          2012.4199999999996,
          2012.4299999999998,
          2012.44,
          2012.4500000000003,
          2012.46,
          2012.47,
          2012.48,
          2012.4900000000002,
          2012.5,
          2012.5100000000002,
          2012.52,
          2012.5300000000002,
          2012.54,
          2012.5500000000002,
          2012.5600000000002,
          2012.5699999999997,
          2012.58,
          2012.5899999999997,
          2012.6,
          2012.6100000000001,
          2012.62,
          2012.63,
          2012.6399999999999,
          2012.65,
          2012.6600000000003,
          2012.67,
          2012.6800000000003,
          2012.6899999999998,
          2012.6999999999998,
          2012.71,
          2012.7199999999998,
          2012.73,
          2012.7399999999998,
          2012.75,
          2012.7600000000002,
          2012.77,
          2012.7800000000002,
          2012.79,
          2012.8000000000002,
          2012.8100000000002,
          2012.8199999999997,
          2012.83,
          2012.84,
          2012.85,
          2012.8600000000001,
          2012.87,
          2012.88,
          2012.8899999999999,
          2012.9,
          2012.91,
          2012.92,
          2012.93,
          2012.9399999999998,
          2012.9499999999998,
          2012.96,
          2012.9699999999998,
          2012.98,
          2012.9899999999998,
          2013,
          2013.01,
          2013.02,
          2013.03,
          2013.04,
          2013.05,
          2013.0599999999997,
          2013.0700000000002,
          2013.08,
          2013.0900000000001,
          2013.1000000000001,
          2013.11,
          2013.1200000000001,
          2013.1299999999999,
          2013.14,
          2013.1499999999999,
          2013.1599999999999,
          2013.17,
          2013.1799999999998,
          2013.1900000000003,
          2013.2,
          2013.21,
          2013.22,
          2013.23,
          2013.24,
          2013.25,
          2013.2599999999998,
          2013.27,
          2013.28,
          2013.29,
          2013.2999999999997,
          2013.31,
          2013.3200000000002,
          2013.33,
          2013.3400000000001,
          2013.35,
          2013.36,
          2013.37,
          2013.38,
          2013.39,
          2013.4,
          2013.4099999999999,
          2013.42,
          2013.4299999999998,
          2013.44,
          2013.4500000000003,
          2013.46,
          2013.47,
          2013.48,
          2013.4900000000002,
          2013.5,
          2013.5100000000002,
          2013.52,
          2013.53,
          2013.5400000000002,
          2013.5500000000002,
          2013.5600000000002,
          2013.5699999999997,
          2013.58,
          2013.59,
          2013.6,
          2013.6100000000001,
          2013.6200000000001,
          2013.6299999999999,
          2013.6399999999999,
          2013.65,
          2013.66,
          2013.67,
          2013.6800000000003,
          2013.6899999999998,
          2013.6999999999998,
          2013.7099999999998,
          2013.72,
          2013.73,
          2013.7399999999998,
          2013.75,
          2013.7600000000002,
          2013.77,
          2013.7800000000002,
          2013.7900000000002,
          2013.8000000000002,
          2013.8100000000002,
          2013.8199999999997,
          2013.83,
          2013.84,
          2013.85,
          2013.8600000000001,
          2013.8700000000001,
          2013.8799999999999,
          2013.89,
          2013.9,
          2013.91,
          2013.92,
          2013.9300000000003,
          2013.9399999999998,
          2013.95,
          2013.9599999999998,
          2013.97,
          2013.98,
          2013.99,
          2014,
          2014.01,
          2014.02,
          2014.03,
          2014.0399999999997,
          2014.05,
          2014.06,
          2014.0700000000002,
          2014.0800000000002,
          2014.09,
          2014.1000000000001,
          2014.1100000000001,
          2014.12,
          2014.13,
          2014.1399999999999,
          2014.1499999999999,
          2014.16,
          2014.1699999999998,
          2014.1799999999998,
          2014.19,
          2014.2,
          2014.21,
          2014.22,
          2014.23,
          2014.24,
          2014.25,
          2014.2599999999998,
          2014.27,
          2014.28,
          2014.2899999999997,
          2014.3,
          2014.31,
          2014.3200000000002,
          2014.3300000000002,
          2014.3400000000001,
          2014.3500000000001,
          2014.3600000000001,
          2014.37,
          2014.38,
          2014.3899999999999,
          2014.3999999999999,
          2014.4099999999999,
          2014.4199999999998,
          2014.4299999999998,
          2014.44,
          2014.45,
          2014.4600000000003,
          2014.47,
          2014.48,
          2014.4900000000002,
          2014.5,
          2014.5100000000002,
          2014.52,
          2014.53,
          2014.5400000000002,
          2014.5500000000002,
          2014.56,
          2014.57,
          2014.58,
          2014.5899999999997,
          2014.6,
          2014.61,
          2014.62,
          2014.63,
          2014.64,
          2014.65,
          2014.6600000000003,
          2014.67,
          2014.68,
          2014.69,
          2014.6999999999998,
          2014.7099999999998,
          2014.72,
          2014.73,
          2014.7399999999998,
          2014.75,
          2014.76,
          2014.77,
          2014.78,
          2014.7900000000002,
          2014.8,
          2014.8100000000002,
          2014.82,
          2014.83,
          2014.84,
          2014.85,
          2014.86,
          2014.87,
          2014.88,
          2014.89,
          2014.9,
          2014.91,
          2014.92,
          2014.93,
          2014.9399999999998,
          2014.95,
          2014.9599999999998,
          2014.97,
          2014.98,
          2014.99,
          2015,
          2015.01,
          2015.02,
          2015.03,
          2015.04,
          2015.05,
          2015.06,
          2015.0700000000002,
          2015.0800000000002,
          2015.0900000000001,
          2015.1,
          2015.1100000000001,
          2015.1200000000001,
          2015.1299999999999,
          2015.1399999999999,
          2015.15,
          2015.1599999999999,
          2015.1699999999998,
          2015.1799999999998,
          2015.19,
          2015.2,
          2015.21,
          2015.22,
          2015.23,
          2015.24,
          2015.25,
          2015.2599999999998,
          2015.27,
          2015.28,
          2015.29,
          2015.3,
          2015.31,
          2015.3200000000002,
          2015.3300000000004,
          2015.3400000000001,
          2015.35,
          2015.3600000000001,
          2015.37,
          2015.38,
          2015.3899999999999,
          2015.4,
          2015.4099999999999,
          2015.4199999999996,
          2015.4299999999998,
          2015.44,
          2015.45,
          2015.46,
          2015.47,
          2015.48,
          2015.4900000000002,
          2015.5,
          2015.5100000000002,
          2015.52,
          2015.53,
          2015.5400000000002,
          2015.5500000000002,
          2015.56,
          2015.5699999999997,
          2015.58,
          2015.5899999999997,
          2015.6,
          2015.6100000000001,
          2015.6200000000001,
          2015.6299999999999,
          2015.6399999999999,
          2015.65,
          2015.6600000000003,
          2015.67,
          2015.6800000000003,
          2015.69,
          2015.6999999999998,
          2015.7099999999998,
          2015.72,
          2015.73,
          2015.7399999999998,
          2015.75,
          2015.76,
          2015.77,
          2015.78,
          2015.79,
          2015.8000000000002,
          2015.81,
          2015.82,
          2015.83,
          2015.84,
          2015.85,
          2015.8600000000001,
          2015.8700000000001,
          2015.8799999999999,
          2015.89,
          2015.9,
          2015.91,
          2015.92,
          2015.93,
          2015.94,
          2015.9499999999998,
          2015.9599999999998,
          2015.97,
          2015.98,
          2015.99,
          2016,
          2016.01,
          2016.02,
          2016.03,
          2016.04,
          2016.0499999999997,
          2016.06,
          2016.0700000000002,
          2016.08,
          2016.0900000000001,
          2016.1000000000001,
          2016.1100000000001,
          2016.12,
          2016.13,
          2016.14,
          2016.1499999999999,
          2016.1599999999999,
          2016.17,
          2016.1799999999998,
          2016.19,
          2016.2000000000003,
          2016.21,
          2016.22,
          2016.23,
          2016.24,
          2016.25,
          2016.26,
          2016.27,
          2016.2800000000002,
          2016.29,
          2016.2999999999997,
          2016.31,
          2016.3200000000002,
          2016.33,
          2016.3400000000001,
          2016.35,
          2016.3600000000001,
          2016.37,
          2016.38,
          2016.3899999999999,
          2016.4,
          2016.4099999999999,
          2016.42,
          2016.4299999999998,
          2016.44,
          2016.4500000000003,
          2016.46,
          2016.4699999999998,
          2016.48,
          2016.49,
          2016.5,
          2016.5100000000002,
          2016.52,
          2016.53,
          2016.54,
          2016.5500000000002,
          2016.5600000000002,
          2016.5699999999997,
          2016.58,
          2016.59,
          2016.6000000000001,
          2016.61,
          2016.62,
          2016.63,
          2016.64,
          2016.6499999999999,
          2016.66,
          2016.67,
          2016.6800000000003,
          2016.6899999999998,
          2016.6999999999998,
          2016.71,
          2016.72,
          2016.73,
          2016.7399999999998,
          2016.75,
          2016.76,
          2016.7700000000002,
          2016.78,
          2016.79,
          2016.8000000000002,
          2016.8100000000002,
          2016.8199999999997,
          2016.83,
          2016.84,
          2016.85,
          2016.86,
          2016.87,
          2016.88,
          2016.89,
          2016.9,
          2016.91,
          2016.92,
          2016.9300000000003,
          2016.9399999999998,
          2016.9499999999998,
          2016.96,
          2016.97,
          2016.9799999999998,
          2016.99,
          2017,
          2017.01,
          2017.0199999999998,
          2017.03,
          2017.04,
          2017.05,
          2017.0599999999997,
          2017.0700000000002,
          2017.0800000000002,
          2017.0900000000001,
          2017.1,
          2017.1100000000001,
          2017.1200000000001,
          2017.13,
          2017.1399999999999,
          2017.15,
          2017.1599999999999,
          2017.1699999999998,
          2017.1799999999998,
          2017.1900000000003,
          2017.2000000000003,
          2017.21,
          2017.22,
          2017.2300000000002,
          2017.24,
          2017.25,
          2017.26,
          2017.27,
          2017.2800000000002,
          2017.29,
          2017.2999999999997,
          2017.31,
          2017.3200000000002,
          2017.3300000000002,
          2017.3400000000001,
          2017.35,
          2017.3600000000001,
          2017.37,
          2017.38,
          2017.3899999999999,
          2017.4,
          2017.4099999999999,
          2017.4199999999998,
          2017.4299999999998,
          2017.44,
          2017.4500000000003,
          2017.46,
          2017.4699999999998,
          2017.48,
          2017.49,
          2017.5,
          2017.51,
          2017.52,
          2017.5299999999997,
          2017.54,
          2017.5500000000002,
          2017.5600000000002,
          2017.57,
          2017.58,
          2017.5899999999997,
          2017.6,
          2017.6100000000001,
          2017.6200000000001,
          2017.6299999999999,
          2017.6399999999999,
          2017.65,
          2017.6600000000003,
          2017.67,
          2017.68,
          2017.6899999999998,
          2017.6999999999998,
          2017.71,
          2017.7200000000003,
          2017.73,
          2017.74,
          2017.75,
          2017.76,
          2017.7700000000002,
          2017.78,
          2017.79,
          2017.8000000000002,
          2017.8100000000002,
          2017.82,
          2017.83,
          2017.84,
          2017.85,
          2017.8600000000001,
          2017.8700000000001,
          2017.8799999999999,
          2017.8899999999999,
          2017.9,
          2017.91,
          2017.92,
          2017.93,
          2017.9399999999998,
          2017.9499999999998,
          2017.96,
          2017.97,
          2017.9799999999998,
          2017.99,
          2018,
          2018.01,
          2018.02,
          2018.03,
          2018.04,
          2018.05,
          2018.06,
          2018.07,
          2018.0800000000002,
          2018.0900000000001,
          2018.1000000000001,
          2018.11,
          2018.12,
          2018.13,
          2018.14,
          2018.1499999999999,
          2018.1599999999999,
          2018.1699999999998,
          2018.1799999999998,
          2018.19,
          2018.2,
          2018.21,
          2018.22,
          2018.23,
          2018.24,
          2018.25,
          2018.26,
          2018.27,
          2018.2800000000002,
          2018.29,
          2018.2999999999997,
          2018.31,
          2018.3200000000002,
          2018.3300000000002,
          2018.3400000000001,
          2018.35,
          2018.36,
          2018.37,
          2018.38,
          2018.39,
          2018.4,
          2018.4099999999999,
          2018.4199999999998,
          2018.4299999999998,
          2018.44,
          2018.4500000000003,
          2018.46,
          2018.4699999999998,
          2018.48,
          2018.49,
          2018.5,
          2018.51,
          2018.52,
          2018.5300000000002,
          2018.54,
          2018.5500000000002,
          2018.56,
          2018.57,
          2018.58,
          2018.5900000000001,
          2018.6,
          2018.61,
          2018.62,
          2018.63,
          2018.64,
          2018.65,
          2018.6599999999999,
          2018.67,
          2018.68,
          2018.69,
          2018.6999999999998,
          2018.71,
          2018.7199999999998,
          2018.73,
          2018.74,
          2018.75,
          2018.76,
          2018.7700000000002,
          2018.7800000000002,
          2018.79,
          2018.8000000000002,
          2018.8100000000002,
          2018.82,
          2018.83,
          2018.8400000000001,
          2018.85,
          2018.86,
          2018.87,
          2018.88,
          2018.89,
          2018.9,
          2018.9099999999999,
          2018.92,
          2018.93,
          2018.9399999999998,
          2018.95,
          2018.96,
          2018.9699999999998,
          2018.9799999999998,
          2018.99,
          2019
         ],
         "y": [
          -0.0399450891497759,
          -0.039495570220867,
          -0.039046051291958095,
          -0.03859653236304919,
          -0.03814701343414029,
          -0.03769749450523139,
          -0.037247975576322485,
          -0.03679845664741358,
          -0.036348937718504684,
          -0.03589941878959578,
          -0.035449899860686876,
          -0.03500038093177797,
          -0.03455086200286907,
          -0.034101343073960164,
          -0.03365182414505126,
          -0.033202305216142355,
          -0.03275278628723345,
          -0.03230326735832455,
          -0.03185374842941565,
          -0.031404229500506746,
          -0.030954710571597842,
          -0.030505191642688945,
          -0.030055672713780037,
          -0.029606153784871136,
          -0.029156634855962232,
          -0.028707115927053328,
          -0.028257596998144424,
          -0.02780807806923552,
          -0.02735855914032662,
          -0.026909040211417715,
          -0.02645952128250881,
          -0.026010002353599907,
          -0.02556048342469101,
          -0.025110964495782106,
          -0.024661445566873202,
          -0.024211926637964298,
          -0.023762407709055397,
          -0.023312888780146493,
          -0.02286336985123759,
          -0.022413850922328685,
          -0.021964331993419784,
          -0.02151481306451088,
          -0.021065294135601976,
          -0.020615775206693072,
          -0.020166256277784175,
          -0.01971673734887527,
          -0.019267218419966366,
          -0.018817699491057462,
          -0.01836818056214856,
          -0.017918661633239658,
          -0.017469142704330753,
          -0.01701962377542185,
          -0.016570104846512945,
          -0.016120585917604045,
          -0.015671066988695144,
          -0.01522154805978624,
          -0.014772029130877336,
          -0.014322510201968432,
          -0.013872991273059528,
          -0.013423472344150627,
          -0.012973953415241723,
          -0.01252443448633282,
          -0.012074915557423918,
          -0.011625396628515014,
          -0.011175877699606112,
          -0.010726358770697208,
          -0.010276839841788307,
          -0.009827320912879403,
          -0.0093778019839705,
          -0.008928283055061596,
          -0.008478764126152694,
          -0.00802924519724379,
          -0.007579726268334889,
          -0.007130207339425985,
          -0.006680688410517083,
          -0.006231169481608179,
          -0.0057816505526992745,
          -0.005332131623790374,
          -0.00488261269488147,
          -0.004433093765972566,
          -0.003983574837063663,
          -0.003534055908154761,
          -0.0030845369792458577,
          -0.0026350180503369553,
          -0.002185499121428052,
          -0.0017359801925191489,
          -0.0012864612636102465,
          -0.0008369423347013433,
          -0.00038742340579243917,
          0.0000620955231164632,
          0.0005116144520253664,
          0.0009611333809342692,
          0.001410652309843172,
          0.0018601712387520748,
          0.0023096901676609785,
          0.0027592090965698813,
          0.003208728025478784,
          0.0036582469543876873,
          0.00410776588329659,
          0.004557284812205493,
          0.005006803741114396,
          0.005167922095281852,
          0.005329040449449307,
          0.005490158803616763,
          0.005651277157784218,
          0.0058123955119516735,
          0.005973513866119129,
          0.006134632220286584,
          0.00629575057445404,
          0.006456868928621495,
          0.006617987282788951,
          0.006779105636956407,
          0.0069402239911238615,
          0.007101342345291317,
          0.007262460699458772,
          0.007423579053626228,
          0.007584697407793684,
          0.00774581576196114,
          0.007906934116128594,
          0.00806805247029605,
          0.008229170824463505,
          0.00839028917863096,
          0.008551407532798417,
          0.008712525886965871,
          0.008873644241133327,
          0.009034762595300783,
          0.009195880949468238,
          0.009356999303635694,
          0.009518117657803148,
          0.009679236011970604,
          0.00984035436613806,
          0.010001472720305516,
          0.010162591074472972,
          0.010323709428640426,
          0.010484827782807883,
          0.010645946136975337,
          0.010807064491142791,
          0.010968182845310249,
          0.011129301199477703,
          0.011290419553645159,
          0.011451537907812614,
          0.01161265626198007,
          0.011773774616147524,
          0.01193489297031498,
          0.012096011324482436,
          0.012257129678649892,
          0.012418248032817348,
          0.012579366386984802,
          0.012740484741152257,
          0.012901603095319713,
          0.013062721449487169,
          0.013223839803654625,
          0.01338495815782208,
          0.013546076511989536,
          0.013707194866156992,
          0.013868313220324448,
          0.014029431574491902,
          0.014190549928659356,
          0.014351668282826812,
          0.014512786636994268,
          0.014673904991161724,
          0.01483502334532918,
          0.014996141699496635,
          0.01515726005366409,
          0.015318378407831545,
          0.015479496761999001,
          0.01564061511616646,
          0.015801733470333913,
          0.01596285182450137,
          0.016123970178668824,
          0.016285088532836278,
          0.016446206887003732,
          0.01660732524117119,
          0.016768443595338644,
          0.0169295619495061,
          0.017090680303673556,
          0.01725179865784101,
          0.017412917012008467,
          0.01757403536617592,
          0.01773515372034338,
          0.017896272074510833,
          0.01805739042867829,
          0.018218508782845744,
          0.0183796271370132,
          0.018540745491180653,
          0.01870186384534811,
          0.018862982199515564,
          0.01902410055368302,
          0.019185218907850476,
          0.019346337262017933,
          0.019507455616185387,
          0.019668573970352845,
          0.0198296923245203,
          0.019990810678687753,
          0.020151929032855207,
          0.020313047387022665,
          0.02047416574119012,
          0.020635284095357576,
          0.02079640244952503,
          0.020957520803692488,
          0.021118639157859942,
          0.021103671089334648,
          0.021088703020809348,
          0.021073734952284054,
          0.021058766883758757,
          0.02104379881523346,
          0.021028830746708162,
          0.02101386267818287,
          0.02099889460965757,
          0.020983926541132278,
          0.02096895847260698,
          0.020953990404081684,
          0.020939022335556386,
          0.020924054267031093,
          0.020909086198505795,
          0.0208941181299805,
          0.0208791500614552,
          0.020864181992929907,
          0.02084921392440461,
          0.020834245855879317,
          0.02081927778735402,
          0.020804309718828722,
          0.020789341650303425,
          0.02077437358177813,
          0.02075940551325283,
          0.020744437444727537,
          0.020729469376202243,
          0.020714501307676943,
          0.02069953323915165,
          0.02068456517062635,
          0.020669597102101055,
          0.02065462903357576,
          0.020639660965050464,
          0.020624692896525167,
          0.020609724827999873,
          0.020594756759474576,
          0.02057978869094928,
          0.02056482062242398,
          0.020549852553898688,
          0.02053488448537339,
          0.020519916416848097,
          0.020504948348322796,
          0.020489980279797503,
          0.020475012211272202,
          0.020460044142746908,
          0.020445076074221614,
          0.02043010800569632,
          0.02041513993717102,
          0.020400171868645726,
          0.02038520380012043,
          0.020370235731595132,
          0.020355267663069835,
          0.020340299594544538,
          0.020325331526019244,
          0.02031036345749395,
          0.02029539538896865,
          0.020280427320443356,
          0.020265459251918055,
          0.02025049118339276,
          0.020235523114867468,
          0.020220555046342167,
          0.020205586977816874,
          0.020190618909291577,
          0.020175650840766283,
          0.020160682772240986,
          0.02014571470371569,
          0.020130746635190395,
          0.020115778566665098,
          0.0201008104981398,
          0.020085842429614503,
          0.02007087436108921,
          0.02005590629256391,
          0.020040938224038615,
          0.02002597015551332,
          0.020011002086988024,
          0.019996034018462727,
          0.01998106594993743,
          0.019966097881412136,
          0.01995112981288684,
          0.019936161744361542,
          0.01992119367583625,
          0.01990622560731095,
          0.01989125753878565,
          0.019876289470260357,
          0.01986132140173506,
          0.019846353333209766,
          0.01983138526468447,
          0.01981641719615917,
          0.019801449127633878,
          0.01978648105910858,
          0.019771512990583284,
          0.01975654492205799,
          0.019741576853532693,
          0.0197266087850074,
          0.0197116407164821,
          0.0196966726479568,
          0.019681704579431508,
          0.01966673651090621,
          0.019651768442380917,
          0.019636800373855616,
          0.019621832305330322,
          0.01942878166682632,
          0.01923573102832232,
          0.019042680389818316,
          0.018849629751314313,
          0.01865657911281031,
          0.01846352847430631,
          0.01827047783580231,
          0.018077427197298306,
          0.017884376558794303,
          0.0176913259202903,
          0.0174982752817863,
          0.017305224643282296,
          0.017112174004778297,
          0.016919123366274293,
          0.016726072727770293,
          0.01653302208926629,
          0.016339971450762287,
          0.016146920812258284,
          0.015953870173754284,
          0.015760819535250284,
          0.01556776889674628,
          0.015374718258242277,
          0.015181667619738276,
          0.014988616981234272,
          0.01479556634273027,
          0.01460251570422627,
          0.014409465065722266,
          0.014216414427218264,
          0.014023363788714261,
          0.01383031315021026,
          0.013637262511706256,
          0.013444211873202258,
          0.013251161234698257,
          0.013058110596194253,
          0.012865059957690252,
          0.012672009319186248,
          0.012478958680682247,
          0.012285908042178243,
          0.012092857403674242,
          0.011899806765170239,
          0.011706756126666237,
          0.011513705488162234,
          0.011320654849658232,
          0.011127604211154234,
          0.01093455357265023,
          0.010741502934146229,
          0.010548452295642226,
          0.010355401657138224,
          0.010162351018634221,
          0.00996930038013022,
          0.009776249741626218,
          0.009583199103122214,
          0.009390148464618213,
          0.009197097826114211,
          0.009004047187610208,
          0.008810996549106206,
          0.008617945910602205,
          0.008424895272098203,
          0.0082318446335942,
          0.0080387939950902,
          0.007845743356586197,
          0.007652692718082194,
          0.007459642079578193,
          0.00726659144107419,
          0.007073540802570188,
          0.006880490164066187,
          0.006687439525562185,
          0.006494388887058182,
          0.00630133824855418,
          0.0061082876100501775,
          0.005915236971546175,
          0.005722186333042174,
          0.005529135694538173,
          0.00533608505603417,
          0.005143034417530168,
          0.0049499837790261654,
          0.004756933140522164,
          0.004563882502018161,
          0.00437083186351416,
          0.004177781225010158,
          0.003984730586506155,
          0.0037916799480021534,
          0.003598629309498152,
          0.0034055786709941494,
          0.003212528032490147,
          0.0030194773939861454,
          0.0028264267554821434,
          0.002633376116978141,
          0.002440325478474139,
          0.0022472748399701373,
          0.002054224201466135,
          0.001861173562962133,
          0.0016681229244581309,
          0.0014750722859541287,
          0.0012820216474501269,
          0.0010889710089461246,
          0.0008959203704421225,
          0.0007028697319381205,
          0.0005098190934341184,
          0.0003167684549301164,
          0.0004956011488027334,
          0.0006744338426753504,
          0.0008532665365479674,
          0.0010320992304205844,
          0.0012109319242932016,
          0.0013897646181658184,
          0.0015685973120384356,
          0.0017474300059110526,
          0.0019262626997836696,
          0.002105095393656287,
          0.0022839280875289036,
          0.0024627607814015203,
          0.002641593475274138,
          0.0028204261691467548,
          0.0029992588630193716,
          0.0031780915568919888,
          0.003356924250764606,
          0.0035357569446372228,
          0.00371458963850984,
          0.003893422332382457,
          0.004072255026255074,
          0.004251087720127691,
          0.0044299204140003075,
          0.004608753107872924,
          0.004787585801745542,
          0.00496641849561816,
          0.005145251189490776,
          0.005324083883363393,
          0.005502916577236009,
          0.005681749271108627,
          0.005860581964981244,
          0.006039414658853861,
          0.006218247352726479,
          0.0063970800465990955,
          0.0065759127404717115,
          0.006754745434344329,
          0.006933578128216946,
          0.0071124108220895635,
          0.00729124351596218,
          0.007470076209834798,
          0.007648908903707414,
          0.007827741597580032,
          0.00800657429145265,
          0.008185406985325265,
          0.008364239679197883,
          0.008543072373070499,
          0.008721905066943116,
          0.008900737760815732,
          0.00907957045468835,
          0.009258403148560967,
          0.009437235842433585,
          0.009616068536306203,
          0.009794901230178819,
          0.009973733924051436,
          0.010152566617924054,
          0.010331399311796672,
          0.010510232005669286,
          0.010689064699541902,
          0.01086789739341452,
          0.011046730087287137,
          0.011225562781159755,
          0.011404395475032372,
          0.011583228168904988,
          0.011762060862777606,
          0.011940893556650223,
          0.012119726250522841,
          0.012298558944395459,
          0.012477391638268075,
          0.012656224332140689,
          0.012835057026013307,
          0.013013889719885924,
          0.013192722413758542,
          0.013371555107631158,
          0.013550387801503775,
          0.013729220495376393,
          0.01390805318924901,
          0.014086885883121628,
          0.014265718576994244,
          0.014444551270866862,
          0.01462338396473948,
          0.014802216658612097,
          0.014981049352484711,
          0.015159882046357327,
          0.015338714740229945,
          0.015517547434102563,
          0.015696380127975182,
          0.015875212821847798,
          0.016054045515720414,
          0.01623287820959303,
          0.01641171090346565,
          0.016590543597338265,
          0.01676937629121088,
          0.0169482089850835,
          0.017127041678956116,
          0.017305874372828732,
          0.017484707066701348,
          0.017663539760573967,
          0.017842372454446583,
          0.018021205148319203,
          0.01820003784219182,
          0.018058721463412693,
          0.017917405084633565,
          0.017776088705854436,
          0.017634772327075308,
          0.017493455948296183,
          0.017352139569517058,
          0.01721082319073793,
          0.0170695068119588,
          0.016928190433179675,
          0.01678687405440055,
          0.016645557675621418,
          0.016504241296842293,
          0.016362924918063165,
          0.01622160853928404,
          0.01608029216050491,
          0.015938975781725782,
          0.015797659402946654,
          0.01565634302416753,
          0.015515026645388404,
          0.015373710266609275,
          0.015232393887830148,
          0.01509107750905102,
          0.014949761130271895,
          0.014808444751492766,
          0.01466712837271364,
          0.01452581199393451,
          0.014384495615155384,
          0.014243179236376259,
          0.01410186285759713,
          0.013960546478818003,
          0.013819230100038875,
          0.01367791372125975,
          0.013536597342480623,
          0.013395280963701496,
          0.013253964584922368,
          0.01311264820614324,
          0.012971331827364112,
          0.012830015448584987,
          0.012688699069805858,
          0.012547382691026732,
          0.012406066312247603,
          0.012264749933468476,
          0.01212343355468935,
          0.011982117175910224,
          0.011840800797131096,
          0.011699484418351969,
          0.01155816803957284,
          0.011416851660793715,
          0.011275535282014588,
          0.01113421890323546,
          0.010992902524456331,
          0.010851586145677205,
          0.010710269766898078,
          0.010568953388118951,
          0.010427637009339826,
          0.010286320630560697,
          0.01014500425178157,
          0.010003687873002442,
          0.009862371494223315,
          0.009721055115444188,
          0.009579738736665061,
          0.009438422357885935,
          0.009297105979106806,
          0.00915578960032768,
          0.009014473221548552,
          0.008873156842769426,
          0.008731840463990299,
          0.00859052408521117,
          0.008449207706432043,
          0.008307891327652916,
          0.008166574948873788,
          0.008025258570094663,
          0.007883942191315534,
          0.007742625812536408,
          0.007601309433757281,
          0.007459993054978153,
          0.007318676676199026,
          0.007177360297419899,
          0.007036043918640772,
          0.006894727539861645,
          0.006753411161082518,
          0.00661209478230339,
          0.0064707784035242626,
          0.006329462024745136,
          0.006188145645966009,
          0.006046829267186882,
          0.005905512888407755,
          0.005764196509628627,
          0.0056228801308495,
          0.005481563752070373,
          0.005340247373291246,
          0.005198930994512119,
          0.005057614615732992,
          0.004916298236953864,
          0.004774981858174737,
          0.0046336654793956095,
          0.004492349100616483,
          0.004351032721837356,
          0.004209716343058228,
          0.004068399964279101,
          0.0042762773905534205,
          0.004484154816827739,
          0.004692032243102058,
          0.004899909669376376,
          0.005107787095650695,
          0.005315664521925014,
          0.005523541948199333,
          0.005731419374473652,
          0.0059392968007479716,
          0.00614717422702229,
          0.006355051653296608,
          0.006562929079570927,
          0.006770806505845247,
          0.006978683932119565,
          0.007186561358393883,
          0.0073944387846682025,
          0.007602316210942522,
          0.00781019363721684,
          0.008018071063491158,
          0.008225948489765478,
          0.008433825916039797,
          0.008641703342314115,
          0.008849580768588435,
          0.009057458194862752,
          0.009265335621137072,
          0.009473213047411392,
          0.00968109047368571,
          0.009888967899960029,
          0.010096845326234347,
          0.010304722752508665,
          0.010512600178782985,
          0.010720477605057305,
          0.010928355031331624,
          0.011136232457605942,
          0.01134410988388026,
          0.011551987310154579,
          0.011759864736428899,
          0.011967742162703215,
          0.012175619588977536,
          0.012383497015251854,
          0.012591374441526172,
          0.01279925186780049,
          0.013007129294074809,
          0.013215006720349129,
          0.013422884146623449,
          0.013630761572897767,
          0.013838638999172086,
          0.014046516425446404,
          0.014254393851720722,
          0.014462271277995042,
          0.014670148704269362,
          0.01487802613054368,
          0.015085903556818,
          0.01529378098309232,
          0.015501658409366638,
          0.015709535835640956,
          0.015917413261915273,
          0.016125290688189593,
          0.016333168114463913,
          0.01654104554073823,
          0.01674892296701255,
          0.01695680039328687,
          0.017164677819561186,
          0.017372555245835506,
          0.017580432672109826,
          0.017788310098384146,
          0.017996187524658463,
          0.018204064950932783,
          0.0184119423772071,
          0.01861981980348142,
          0.018827697229755736,
          0.019035574656030056,
          0.019243452082304376,
          0.019451329508578696,
          0.019659206934853013,
          0.01986708436112733,
          0.020074961787401653,
          0.02028283921367597,
          0.02049071663995029,
          0.020698594066224606,
          0.020906471492498926,
          0.021114348918773243,
          0.021322226345047563,
          0.02153010377132188,
          0.0217379811975962,
          0.02194585862387052,
          0.02215373605014484,
          0.022361613476419157,
          0.022569490902693477,
          0.022777368328967797,
          0.022985245755242117,
          0.023193123181516433,
          0.023401000607790753,
          0.02360887803406507,
          0.02381675546033939,
          0.024024632886613707,
          0.024232510312888027,
          0.024440387739162347,
          0.024648265165436667,
          0.024856142591710984,
          0.024700894473153677,
          0.024545646354596367,
          0.02439039823603906,
          0.024235150117481754,
          0.024079901998924447,
          0.023924653880367137,
          0.023769405761809834,
          0.023614157643252524,
          0.023458909524695218,
          0.02330366140613791,
          0.023148413287580605,
          0.022993165169023295,
          0.02283791705046599,
          0.02268266893190868,
          0.022527420813351372,
          0.022372172694794065,
          0.02221692457623676,
          0.02206167645767945,
          0.021906428339122146,
          0.021751180220564836,
          0.02159593210200753,
          0.02144068398345022,
          0.021285435864892916,
          0.021130187746335606,
          0.0209749396277783,
          0.020819691509220993,
          0.020664443390663683,
          0.02050919527210638,
          0.02035394715354907,
          0.020198699034991763,
          0.020043450916434453,
          0.01988820279787715,
          0.01973295467931984,
          0.019577706560762534,
          0.019422458442205227,
          0.01926721032364792,
          0.01911196220509061,
          0.018956714086533304,
          0.018801465967975998,
          0.018646217849418688,
          0.01849096973086138,
          0.018335721612304075,
          0.018180473493746765,
          0.01802522537518946,
          0.017869977256632155,
          0.01771472913807485,
          0.01755948101951754,
          0.017404232900960232,
          0.017248984782402922,
          0.017093736663845616,
          0.01693848854528831,
          0.016783240426731,
          0.016627992308173693,
          0.016472744189616386,
          0.01631749607105908,
          0.01616224795250177,
          0.016006999833944463,
          0.015851751715387156,
          0.015696503596829846,
          0.015541255478272542,
          0.015386007359715233,
          0.015230759241157927,
          0.01507551112260062,
          0.014920263004043314,
          0.014765014885486006,
          0.0146097667669287,
          0.01445451864837139,
          0.014299270529814084,
          0.014144022411256776,
          0.013988774292699468,
          0.013833526174142161,
          0.013678278055584855,
          0.013523029937027548,
          0.013367781818470238,
          0.013212533699912932,
          0.013057285581355625,
          0.012902037462798317,
          0.012746789344241009,
          0.012591541225683702,
          0.012436293107126396,
          0.012281044988569087,
          0.012125796870011779,
          0.011970548751454473,
          0.011815300632897166,
          0.011660052514339858,
          0.01150480439578255,
          0.011349556277225243,
          0.011194308158667936,
          0.01103906004011063,
          0.010883811921553322,
          0.010728563802996013,
          0.010573315684438707,
          0.0104180675658814,
          0.010262819447324092,
          0.010107571328766784,
          0.009952323210209477,
          0.009797075091652169,
          0.009641826973094863,
          0.009486578854537556,
          0.009331330735980248,
          0.009331330735980248,
          0.009331330735980248,
          0.009331330735980248,
          0.009331330735980248,
          0.009331330735980248,
          0.009331330735980248,
          0.009331330735980248,
          0.00933133073598025,
          0.009331330735980248,
          0.009331330735980248,
          0.009331330735980248,
          0.009331330735980248,
          0.009331330735980248,
          0.009331330735980248,
          0.009331330735980248,
          0.009331330735980248,
          0.009331330735980248,
          0.009331330735980248,
          0.009331330735980248,
          0.009331330735980248,
          0.009331330735980248,
          0.009331330735980248,
          0.009331330735980248,
          0.009331330735980248,
          0.009331330735980248,
          0.009331330735980248,
          0.009331330735980248,
          0.009331330735980248,
          0.009331330735980248,
          0.009331330735980248,
          0.009331330735980248,
          0.009331330735980248,
          0.009331330735980248,
          0.009331330735980248,
          0.009331330735980248,
          0.009331330735980248,
          0.009331330735980248,
          0.009331330735980248,
          0.009331330735980248,
          0.009331330735980248,
          0.009331330735980248,
          0.009331330735980248,
          0.009331330735980248,
          0.009331330735980248,
          0.009331330735980248,
          0.009331330735980248,
          0.009331330735980248,
          0.009331330735980248,
          0.009331330735980248,
          0.009331330735980248,
          0.009331330735980248,
          0.009331330735980248,
          0.009331330735980248,
          0.009331330735980248,
          0.009331330735980248,
          0.009331330735980248,
          0.009331330735980248,
          0.009331330735980248,
          0.009331330735980248,
          0.009331330735980248,
          0.009331330735980248,
          0.009331330735980248,
          0.009331330735980248,
          0.009331330735980248,
          0.009331330735980248,
          0.009331330735980248,
          0.009331330735980248,
          0.009331330735980248,
          0.009331330735980248,
          0.009331330735980248,
          0.009331330735980248,
          0.009331330735980248,
          0.009331330735980248,
          0.009331330735980248,
          0.009331330735980248,
          0.009331330735980248,
          0.009331330735980248,
          0.009331330735980248,
          0.009331330735980248,
          0.009331330735980248,
          0.009331330735980248,
          0.009331330735980248,
          0.009331330735980248,
          0.009331330735980248,
          0.009331330735980248,
          0.009331330735980248,
          0.009331330735980248,
          0.009331330735980248,
          0.009331330735980248,
          0.009331330735980248,
          0.009331330735980248,
          0.00933133073598025,
          0.009331330735980248,
          0.009331330735980248,
          0.009331330735980248,
          0.009331330735980248,
          0.009331330735980248,
          0.009331330735980248,
          0.009331330735980248,
          0.009331330735980248
         ]
        },
        {
         "line": {
          "color": "blue",
          "width": 2
         },
         "name": "Energy Sector",
         "type": "scatter",
         "x": [
          2010,
          2010.01,
          2010.02,
          2010.03,
          2010.04,
          2010.05,
          2010.06,
          2010.0700000000002,
          2010.08,
          2010.0900000000001,
          2010.1,
          2010.1100000000001,
          2010.12,
          2010.13,
          2010.1399999999999,
          2010.15,
          2010.1599999999999,
          2010.17,
          2010.1799999999998,
          2010.19,
          2010.2,
          2010.21,
          2010.22,
          2010.23,
          2010.2399999999998,
          2010.25,
          2010.2600000000002,
          2010.27,
          2010.2800000000002,
          2010.29,
          2010.3,
          2010.31,
          2010.3200000000002,
          2010.33,
          2010.3400000000001,
          2010.35,
          2010.3600000000001,
          2010.37,
          2010.38,
          2010.3899999999999,
          2010.4,
          2010.4099999999999,
          2010.42,
          2010.4299999999998,
          2010.44,
          2010.45,
          2010.46,
          2010.4699999999998,
          2010.48,
          2010.4899999999998,
          2010.5,
          2010.5100000000002,
          2010.52,
          2010.5300000000002,
          2010.54,
          2010.5500000000002,
          2010.56,
          2010.57,
          2010.58,
          2010.59,
          2010.6,
          2010.6100000000001,
          2010.62,
          2010.63,
          2010.6399999999999,
          2010.65,
          2010.66,
          2010.67,
          2010.68,
          2010.69,
          2010.6999999999998,
          2010.71,
          2010.7199999999998,
          2010.73,
          2010.7399999999998,
          2010.75,
          2010.7600000000002,
          2010.77,
          2010.7800000000002,
          2010.79,
          2010.8000000000002,
          2010.81,
          2010.82,
          2010.83,
          2010.8400000000001,
          2010.85,
          2010.8600000000001,
          2010.87,
          2010.88,
          2010.8899999999999,
          2010.9,
          2010.91,
          2010.92,
          2010.93,
          2010.9399999999998,
          2010.9499999999998,
          2010.96,
          2010.9699999999998,
          2010.98,
          2010.9899999999998,
          2011,
          2011.0099999999998,
          2011.02,
          2011.0299999999997,
          2011.04,
          2011.0499999999997,
          2011.06,
          2011.07,
          2011.0800000000002,
          2011.09,
          2011.1000000000001,
          2011.11,
          2011.1200000000001,
          2011.1299999999999,
          2011.14,
          2011.1499999999999,
          2011.16,
          2011.1699999999998,
          2011.1799999999998,
          2011.19,
          2011.2000000000003,
          2011.21,
          2011.2200000000003,
          2011.23,
          2011.2400000000002,
          2011.25,
          2011.2599999999998,
          2011.27,
          2011.2799999999997,
          2011.29,
          2011.2999999999997,
          2011.31,
          2011.3200000000002,
          2011.3300000000002,
          2011.3400000000001,
          2011.35,
          2011.36,
          2011.37,
          2011.38,
          2011.39,
          2011.4,
          2011.4099999999999,
          2011.4199999999998,
          2011.4299999999998,
          2011.44,
          2011.4500000000003,
          2011.46,
          2011.4700000000003,
          2011.48,
          2011.4900000000002,
          2011.5,
          2011.5100000000002,
          2011.52,
          2011.5300000000002,
          2011.54,
          2011.5500000000002,
          2011.56,
          2011.57,
          2011.58,
          2011.59,
          2011.6000000000001,
          2011.6100000000001,
          2011.6200000000001,
          2011.6299999999999,
          2011.6399999999999,
          2011.6499999999999,
          2011.66,
          2011.67,
          2011.68,
          2011.69,
          2011.6999999999998,
          2011.71,
          2011.7199999999998,
          2011.73,
          2011.7399999999998,
          2011.75,
          2011.7600000000002,
          2011.77,
          2011.7800000000002,
          2011.79,
          2011.8000000000002,
          2011.81,
          2011.82,
          2011.83,
          2011.84,
          2011.85,
          2011.86,
          2011.8700000000001,
          2011.8799999999999,
          2011.89,
          2011.9,
          2011.91,
          2011.92,
          2011.93,
          2011.94,
          2011.9499999999998,
          2011.96,
          2011.9699999999998,
          2011.98,
          2011.9899999999998,
          2012,
          2012.01,
          2012.02,
          2012.03,
          2012.04,
          2012.05,
          2012.06,
          2012.0700000000002,
          2012.0800000000002,
          2012.0900000000001,
          2012.1,
          2012.1100000000001,
          2012.12,
          2012.13,
          2012.1399999999999,
          2012.15,
          2012.1599999999999,
          2012.1699999999998,
          2012.1799999999998,
          2012.19,
          2012.2000000000003,
          2012.21,
          2012.2200000000003,
          2012.23,
          2012.2400000000002,
          2012.25,
          2012.2599999999998,
          2012.27,
          2012.28,
          2012.29,
          2012.2999999999997,
          2012.31,
          2012.3200000000002,
          2012.3300000000004,
          2012.3400000000001,
          2012.35,
          2012.3600000000001,
          2012.37,
          2012.38,
          2012.3899999999999,
          2012.4,
          2012.4099999999999,
          2012.4199999999996,
          2012.4299999999998,
          2012.44,
          2012.4500000000003,
          2012.46,
          2012.47,
          2012.48,
          2012.4900000000002,
          2012.5,
          2012.5100000000002,
          2012.52,
          2012.5300000000002,
          2012.54,
          2012.5500000000002,
          2012.5600000000002,
          2012.5699999999997,
          2012.58,
          2012.5899999999997,
          2012.6,
          2012.6100000000001,
          2012.62,
          2012.63,
          2012.6399999999999,
          2012.65,
          2012.6600000000003,
          2012.67,
          2012.6800000000003,
          2012.6899999999998,
          2012.6999999999998,
          2012.71,
          2012.7199999999998,
          2012.73,
          2012.7399999999998,
          2012.75,
          2012.7600000000002,
          2012.77,
          2012.7800000000002,
          2012.79,
          2012.8000000000002,
          2012.8100000000002,
          2012.8199999999997,
          2012.83,
          2012.84,
          2012.85,
          2012.8600000000001,
          2012.87,
          2012.88,
          2012.8899999999999,
          2012.9,
          2012.91,
          2012.92,
          2012.93,
          2012.9399999999998,
          2012.9499999999998,
          2012.96,
          2012.9699999999998,
          2012.98,
          2012.9899999999998,
          2013,
          2013.01,
          2013.02,
          2013.03,
          2013.04,
          2013.05,
          2013.0599999999997,
          2013.0700000000002,
          2013.08,
          2013.0900000000001,
          2013.1000000000001,
          2013.11,
          2013.1200000000001,
          2013.1299999999999,
          2013.14,
          2013.1499999999999,
          2013.1599999999999,
          2013.17,
          2013.1799999999998,
          2013.1900000000003,
          2013.2,
          2013.21,
          2013.22,
          2013.23,
          2013.24,
          2013.25,
          2013.2599999999998,
          2013.27,
          2013.28,
          2013.29,
          2013.2999999999997,
          2013.31,
          2013.3200000000002,
          2013.33,
          2013.3400000000001,
          2013.35,
          2013.36,
          2013.37,
          2013.38,
          2013.39,
          2013.4,
          2013.4099999999999,
          2013.42,
          2013.4299999999998,
          2013.44,
          2013.4500000000003,
          2013.46,
          2013.47,
          2013.48,
          2013.4900000000002,
          2013.5,
          2013.5100000000002,
          2013.52,
          2013.53,
          2013.5400000000002,
          2013.5500000000002,
          2013.5600000000002,
          2013.5699999999997,
          2013.58,
          2013.59,
          2013.6,
          2013.6100000000001,
          2013.6200000000001,
          2013.6299999999999,
          2013.6399999999999,
          2013.65,
          2013.66,
          2013.67,
          2013.6800000000003,
          2013.6899999999998,
          2013.6999999999998,
          2013.7099999999998,
          2013.72,
          2013.73,
          2013.7399999999998,
          2013.75,
          2013.7600000000002,
          2013.77,
          2013.7800000000002,
          2013.7900000000002,
          2013.8000000000002,
          2013.8100000000002,
          2013.8199999999997,
          2013.83,
          2013.84,
          2013.85,
          2013.8600000000001,
          2013.8700000000001,
          2013.8799999999999,
          2013.89,
          2013.9,
          2013.91,
          2013.92,
          2013.9300000000003,
          2013.9399999999998,
          2013.95,
          2013.9599999999998,
          2013.97,
          2013.98,
          2013.99,
          2014,
          2014.01,
          2014.02,
          2014.03,
          2014.0399999999997,
          2014.05,
          2014.06,
          2014.0700000000002,
          2014.0800000000002,
          2014.09,
          2014.1000000000001,
          2014.1100000000001,
          2014.12,
          2014.13,
          2014.1399999999999,
          2014.1499999999999,
          2014.16,
          2014.1699999999998,
          2014.1799999999998,
          2014.19,
          2014.2,
          2014.21,
          2014.22,
          2014.23,
          2014.24,
          2014.25,
          2014.2599999999998,
          2014.27,
          2014.28,
          2014.2899999999997,
          2014.3,
          2014.31,
          2014.3200000000002,
          2014.3300000000002,
          2014.3400000000001,
          2014.3500000000001,
          2014.3600000000001,
          2014.37,
          2014.38,
          2014.3899999999999,
          2014.3999999999999,
          2014.4099999999999,
          2014.4199999999998,
          2014.4299999999998,
          2014.44,
          2014.45,
          2014.4600000000003,
          2014.47,
          2014.48,
          2014.4900000000002,
          2014.5,
          2014.5100000000002,
          2014.52,
          2014.53,
          2014.5400000000002,
          2014.5500000000002,
          2014.56,
          2014.57,
          2014.58,
          2014.5899999999997,
          2014.6,
          2014.61,
          2014.62,
          2014.63,
          2014.64,
          2014.65,
          2014.6600000000003,
          2014.67,
          2014.68,
          2014.69,
          2014.6999999999998,
          2014.7099999999998,
          2014.72,
          2014.73,
          2014.7399999999998,
          2014.75,
          2014.76,
          2014.77,
          2014.78,
          2014.7900000000002,
          2014.8,
          2014.8100000000002,
          2014.82,
          2014.83,
          2014.84,
          2014.85,
          2014.86,
          2014.87,
          2014.88,
          2014.89,
          2014.9,
          2014.91,
          2014.92,
          2014.93,
          2014.9399999999998,
          2014.95,
          2014.9599999999998,
          2014.97,
          2014.98,
          2014.99,
          2015,
          2015.01,
          2015.02,
          2015.03,
          2015.04,
          2015.05,
          2015.06,
          2015.0700000000002,
          2015.0800000000002,
          2015.0900000000001,
          2015.1,
          2015.1100000000001,
          2015.1200000000001,
          2015.1299999999999,
          2015.1399999999999,
          2015.15,
          2015.1599999999999,
          2015.1699999999998,
          2015.1799999999998,
          2015.19,
          2015.2,
          2015.21,
          2015.22,
          2015.23,
          2015.24,
          2015.25,
          2015.2599999999998,
          2015.27,
          2015.28,
          2015.29,
          2015.3,
          2015.31,
          2015.3200000000002,
          2015.3300000000004,
          2015.3400000000001,
          2015.35,
          2015.3600000000001,
          2015.37,
          2015.38,
          2015.3899999999999,
          2015.4,
          2015.4099999999999,
          2015.4199999999996,
          2015.4299999999998,
          2015.44,
          2015.45,
          2015.46,
          2015.47,
          2015.48,
          2015.4900000000002,
          2015.5,
          2015.5100000000002,
          2015.52,
          2015.53,
          2015.5400000000002,
          2015.5500000000002,
          2015.56,
          2015.5699999999997,
          2015.58,
          2015.5899999999997,
          2015.6,
          2015.6100000000001,
          2015.6200000000001,
          2015.6299999999999,
          2015.6399999999999,
          2015.65,
          2015.6600000000003,
          2015.67,
          2015.6800000000003,
          2015.69,
          2015.6999999999998,
          2015.7099999999998,
          2015.72,
          2015.73,
          2015.7399999999998,
          2015.75,
          2015.76,
          2015.77,
          2015.78,
          2015.79,
          2015.8000000000002,
          2015.81,
          2015.82,
          2015.83,
          2015.84,
          2015.85,
          2015.8600000000001,
          2015.8700000000001,
          2015.8799999999999,
          2015.89,
          2015.9,
          2015.91,
          2015.92,
          2015.93,
          2015.94,
          2015.9499999999998,
          2015.9599999999998,
          2015.97,
          2015.98,
          2015.99,
          2016,
          2016.01,
          2016.02,
          2016.03,
          2016.04,
          2016.0499999999997,
          2016.06,
          2016.0700000000002,
          2016.08,
          2016.0900000000001,
          2016.1000000000001,
          2016.1100000000001,
          2016.12,
          2016.13,
          2016.14,
          2016.1499999999999,
          2016.1599999999999,
          2016.17,
          2016.1799999999998,
          2016.19,
          2016.2000000000003,
          2016.21,
          2016.22,
          2016.23,
          2016.24,
          2016.25,
          2016.26,
          2016.27,
          2016.2800000000002,
          2016.29,
          2016.2999999999997,
          2016.31,
          2016.3200000000002,
          2016.33,
          2016.3400000000001,
          2016.35,
          2016.3600000000001,
          2016.37,
          2016.38,
          2016.3899999999999,
          2016.4,
          2016.4099999999999,
          2016.42,
          2016.4299999999998,
          2016.44,
          2016.4500000000003,
          2016.46,
          2016.4699999999998,
          2016.48,
          2016.49,
          2016.5,
          2016.5100000000002,
          2016.52,
          2016.53,
          2016.54,
          2016.5500000000002,
          2016.5600000000002,
          2016.5699999999997,
          2016.58,
          2016.59,
          2016.6000000000001,
          2016.61,
          2016.62,
          2016.63,
          2016.64,
          2016.6499999999999,
          2016.66,
          2016.67,
          2016.6800000000003,
          2016.6899999999998,
          2016.6999999999998,
          2016.71,
          2016.72,
          2016.73,
          2016.7399999999998,
          2016.75,
          2016.76,
          2016.7700000000002,
          2016.78,
          2016.79,
          2016.8000000000002,
          2016.8100000000002,
          2016.8199999999997,
          2016.83,
          2016.84,
          2016.85,
          2016.86,
          2016.87,
          2016.88,
          2016.89,
          2016.9,
          2016.91,
          2016.92,
          2016.9300000000003,
          2016.9399999999998,
          2016.9499999999998,
          2016.96,
          2016.97,
          2016.9799999999998,
          2016.99,
          2017,
          2017.01,
          2017.0199999999998,
          2017.03,
          2017.04,
          2017.05,
          2017.0599999999997,
          2017.0700000000002,
          2017.0800000000002,
          2017.0900000000001,
          2017.1,
          2017.1100000000001,
          2017.1200000000001,
          2017.13,
          2017.1399999999999,
          2017.15,
          2017.1599999999999,
          2017.1699999999998,
          2017.1799999999998,
          2017.1900000000003,
          2017.2000000000003,
          2017.21,
          2017.22,
          2017.2300000000002,
          2017.24,
          2017.25,
          2017.26,
          2017.27,
          2017.2800000000002,
          2017.29,
          2017.2999999999997,
          2017.31,
          2017.3200000000002,
          2017.3300000000002,
          2017.3400000000001,
          2017.35,
          2017.3600000000001,
          2017.37,
          2017.38,
          2017.3899999999999,
          2017.4,
          2017.4099999999999,
          2017.4199999999998,
          2017.4299999999998,
          2017.44,
          2017.4500000000003,
          2017.46,
          2017.4699999999998,
          2017.48,
          2017.49,
          2017.5,
          2017.51,
          2017.52,
          2017.5299999999997,
          2017.54,
          2017.5500000000002,
          2017.5600000000002,
          2017.57,
          2017.58,
          2017.5899999999997,
          2017.6,
          2017.6100000000001,
          2017.6200000000001,
          2017.6299999999999,
          2017.6399999999999,
          2017.65,
          2017.6600000000003,
          2017.67,
          2017.68,
          2017.6899999999998,
          2017.6999999999998,
          2017.71,
          2017.7200000000003,
          2017.73,
          2017.74,
          2017.75,
          2017.76,
          2017.7700000000002,
          2017.78,
          2017.79,
          2017.8000000000002,
          2017.8100000000002,
          2017.82,
          2017.83,
          2017.84,
          2017.85,
          2017.8600000000001,
          2017.8700000000001,
          2017.8799999999999,
          2017.8899999999999,
          2017.9,
          2017.91,
          2017.92,
          2017.93,
          2017.9399999999998,
          2017.9499999999998,
          2017.96,
          2017.97,
          2017.9799999999998,
          2017.99,
          2018,
          2018.01,
          2018.02,
          2018.03,
          2018.04,
          2018.05,
          2018.06,
          2018.07,
          2018.0800000000002,
          2018.0900000000001,
          2018.1000000000001,
          2018.11,
          2018.12,
          2018.13,
          2018.14,
          2018.1499999999999,
          2018.1599999999999,
          2018.1699999999998,
          2018.1799999999998,
          2018.19,
          2018.2,
          2018.21,
          2018.22,
          2018.23,
          2018.24,
          2018.25,
          2018.26,
          2018.27,
          2018.2800000000002,
          2018.29,
          2018.2999999999997,
          2018.31,
          2018.3200000000002,
          2018.3300000000002,
          2018.3400000000001,
          2018.35,
          2018.36,
          2018.37,
          2018.38,
          2018.39,
          2018.4,
          2018.4099999999999,
          2018.4199999999998,
          2018.4299999999998,
          2018.44,
          2018.4500000000003,
          2018.46,
          2018.4699999999998,
          2018.48,
          2018.49,
          2018.5,
          2018.51,
          2018.52,
          2018.5300000000002,
          2018.54,
          2018.5500000000002,
          2018.56,
          2018.57,
          2018.58,
          2018.5900000000001,
          2018.6,
          2018.61,
          2018.62,
          2018.63,
          2018.64,
          2018.65,
          2018.6599999999999,
          2018.67,
          2018.68,
          2018.69,
          2018.6999999999998,
          2018.71,
          2018.7199999999998,
          2018.73,
          2018.74,
          2018.75,
          2018.76,
          2018.7700000000002,
          2018.7800000000002,
          2018.79,
          2018.8000000000002,
          2018.8100000000002,
          2018.82,
          2018.83,
          2018.8400000000001,
          2018.85,
          2018.86,
          2018.87,
          2018.88,
          2018.89,
          2018.9,
          2018.9099999999999,
          2018.92,
          2018.93,
          2018.9399999999998,
          2018.95,
          2018.96,
          2018.9699999999998,
          2018.9799999999998,
          2018.99,
          2019
         ],
         "y": [
          0.03297116902885211,
          0.03278866668484254,
          0.03260616434083297,
          0.0324236619968234,
          0.032241159652813836,
          0.03205865730880426,
          0.03187615496479469,
          0.03169365262078513,
          0.031511150276775556,
          0.031328647932765984,
          0.031146145588756415,
          0.030963643244746843,
          0.030781140900737275,
          0.030598638556727703,
          0.030416136212718135,
          0.030233633868708563,
          0.030051131524698994,
          0.029868629180689426,
          0.029686126836679854,
          0.029503624492670286,
          0.029321122148660717,
          0.02913861980465115,
          0.02895611746064158,
          0.028773615116632005,
          0.028591112772622437,
          0.028408610428612868,
          0.0282261080846033,
          0.02804360574059373,
          0.02786110339658416,
          0.027678601052574588,
          0.02749609870856502,
          0.02731359636455545,
          0.027131094020545882,
          0.02694859167653631,
          0.026766089332526742,
          0.02658358698851717,
          0.026401084644507602,
          0.026218582300498033,
          0.02603607995648846,
          0.025853577612478893,
          0.025671075268469325,
          0.025488572924459753,
          0.025306070580450184,
          0.025123568236440613,
          0.024941065892431044,
          0.024758563548421476,
          0.024576061204411907,
          0.024393558860402335,
          0.024211056516392764,
          0.024028554172383195,
          0.023846051828373627,
          0.02366354948436406,
          0.02348104714035449,
          0.023298544796344918,
          0.023116042452335346,
          0.02293354010832578,
          0.02275103776431621,
          0.022568535420306637,
          0.02238603307629707,
          0.022203530732287497,
          0.02202102838827793,
          0.021838526044268364,
          0.021656023700258792,
          0.02147352135624922,
          0.021291019012239648,
          0.021108516668230083,
          0.020926014324220515,
          0.020743511980210943,
          0.020561009636201374,
          0.020378507292191803,
          0.02019600494818223,
          0.020013502604172666,
          0.019831000260163094,
          0.019648497916153525,
          0.019465995572143954,
          0.019283493228134385,
          0.019100990884124817,
          0.018918488540115245,
          0.018735986196105676,
          0.018553483852096105,
          0.01837098150808654,
          0.018188479164076968,
          0.018005976820067396,
          0.017823474476057827,
          0.01764097213204826,
          0.017458469788038687,
          0.01727596744402912,
          0.01709346510001955,
          0.01691096275600998,
          0.01672846041200041,
          0.01654595806799084,
          0.01636345572398127,
          0.0161809533799717,
          0.015998451035962133,
          0.01581594869195256,
          0.015633446347942993,
          0.015450944003933422,
          0.015268441659923852,
          0.015085939315914284,
          0.014903436971904712,
          0.014720934627895144,
          0.014774806414152892,
          0.014828678200410643,
          0.014882549986668393,
          0.014936421772926143,
          0.014990293559183892,
          0.01504416534544164,
          0.015098037131699393,
          0.015151908917957143,
          0.015205780704214893,
          0.015259652490472642,
          0.01531352427673039,
          0.015367396062988141,
          0.015421267849245891,
          0.015475139635503642,
          0.01552901142176139,
          0.015582883208019139,
          0.01563675499427689,
          0.01569062678053464,
          0.01574449856679239,
          0.01579837035305014,
          0.015852242139307887,
          0.01590611392556564,
          0.015959985711823388,
          0.016013857498081138,
          0.01606772928433889,
          0.01612160107059664,
          0.01617547285685439,
          0.01622934464311214,
          0.016283216429369887,
          0.016337088215627637,
          0.016390960001885384,
          0.016444831788143138,
          0.016498703574400888,
          0.01655257536065864,
          0.016606447146916385,
          0.016660318933174136,
          0.016714190719431886,
          0.016768062505689636,
          0.016821934291947387,
          0.016875806078205137,
          0.016929677864462884,
          0.016983549650720634,
          0.017037421436978385,
          0.01709129322323614,
          0.017145165009493885,
          0.017199036795751632,
          0.017252908582009382,
          0.017306780368267133,
          0.017360652154524883,
          0.017414523940782634,
          0.017468395727040384,
          0.017522267513298134,
          0.017576139299555885,
          0.017630011085813635,
          0.017683882872071385,
          0.017737754658329136,
          0.017791626444586883,
          0.01784549823084463,
          0.01789937001710238,
          0.01795324180336013,
          0.01800711358961788,
          0.01806098537587563,
          0.01811485716213338,
          0.01816872894839113,
          0.018222600734648882,
          0.018276472520906632,
          0.018330344307164383,
          0.01838421609342213,
          0.018438087879679876,
          0.018491959665937627,
          0.018545831452195377,
          0.018599703238453127,
          0.018653575024710878,
          0.018707446810968628,
          0.01876131859722638,
          0.01881519038348413,
          0.01886906216974188,
          0.01892293395599963,
          0.01897680574225738,
          0.019030677528515127,
          0.01908454931477288,
          0.019138421101030628,
          0.019192292887288378,
          0.019246164673546125,
          0.019300036459803875,
          0.01935390824606163,
          0.019407780032319376,
          0.019461651818577126,
          0.019515523604834873,
          0.019569395391092627,
          0.019623267177350377,
          0.019677138963608124,
          0.019731010749865874,
          0.019784882536123625,
          0.019838754322381375,
          0.019892626108639122,
          0.019946497894896872,
          0.020000369681154626,
          0.020054241467412373,
          0.020108113253670123,
          0.019878451146866465,
          0.01964878904006281,
          0.01941912693325915,
          0.01918946482645549,
          0.018959802719651836,
          0.018730140612848178,
          0.018500478506044523,
          0.01827081639924086,
          0.018041154292437207,
          0.01781149218563355,
          0.01758183007882989,
          0.017352167972026235,
          0.017122505865222574,
          0.01689284375841892,
          0.01666318165161526,
          0.016433519544811603,
          0.016203857438007948,
          0.015974195331204286,
          0.01574453322440063,
          0.015514871117596973,
          0.015285209010793319,
          0.015055546903989659,
          0.014825884797186002,
          0.014596222690382342,
          0.014366560583578686,
          0.01413689847677503,
          0.01390723636997137,
          0.013677574263167713,
          0.013447912156364055,
          0.013218250049560397,
          0.01298858794275674,
          0.012758925835953084,
          0.012529263729149427,
          0.012299601622345769,
          0.01206993951554211,
          0.011840277408738454,
          0.011610615301934796,
          0.011380953195131138,
          0.01115129108832748,
          0.010921628981523823,
          0.010691966874720165,
          0.010462304767916507,
          0.01023264266111285,
          0.010002980554309194,
          0.009773318447505537,
          0.00954365634070188,
          0.009313994233898221,
          0.009084332127094565,
          0.008854670020290905,
          0.008625007913487248,
          0.008395345806683592,
          0.008165683699879932,
          0.007936021593076275,
          0.007706359486272618,
          0.007476697379468961,
          0.007247035272665303,
          0.007017373165861646,
          0.006787711059057988,
          0.00655804895225433,
          0.006328386845450673,
          0.006098724738647016,
          0.005869062631843358,
          0.0056394005250397,
          0.005409738418236043,
          0.005180076311432385,
          0.004950414204628728,
          0.004720752097825071,
          0.004491089991021413,
          0.004261427884217755,
          0.004031765777414098,
          0.0038021036706104403,
          0.003572441563806784,
          0.0033427794570031256,
          0.0031131173501994687,
          0.0028834552433958105,
          0.0026537931365921523,
          0.0024241310297884954,
          0.002194468922984838,
          0.00196480681618118,
          0.001735144709377523,
          0.0015054826025738652,
          0.0012758204957702079,
          0.0010461583889665505,
          0.0008164962821628932,
          0.0005868341753592354,
          0.0003571720685555781,
          0.00012750996175192077,
          -0.00010215214505173743,
          -0.00033181425185539433,
          -0.0005614763586590521,
          -0.0007911384654627099,
          -0.001020800572266367,
          -0.0012504626790700245,
          -0.001480124785873682,
          -0.0017097868926773396,
          -0.001939448999480997,
          -0.0021691111062846547,
          -0.002398773213088312,
          -0.0026284353198919694,
          -0.002858097426695627,
          -0.0029544848562424873,
          -0.003050872285789348,
          -0.003147259715336208,
          -0.003243647144883068,
          -0.0033400345744299285,
          -0.0034364220039767887,
          -0.0035328094335236493,
          -0.0036291968630705095,
          -0.00372558429261737,
          -0.0038219717221642303,
          -0.0039183591517110905,
          -0.004014746581257951,
          -0.004111134010804811,
          -0.0042075214403516715,
          -0.004303908869898532,
          -0.004400296299445392,
          -0.004496683728992252,
          -0.004593071158539113,
          -0.004689458588085973,
          -0.004785846017632833,
          -0.004882233447179694,
          -0.004978620876726554,
          -0.005075008306273414,
          -0.005171395735820275,
          -0.005267783165367135,
          -0.0053641705949139945,
          -0.005460558024460856,
          -0.005556945454007716,
          -0.0056533328835545755,
          -0.005749720313101436,
          -0.005846107742648297,
          -0.0059424951721951565,
          -0.006038882601742018,
          -0.006135270031288878,
          -0.0062316574608357374,
          -0.006328044890382598,
          -0.006424432319929459,
          -0.006520819749476318,
          -0.006617207179023179,
          -0.00671359460857004,
          -0.006809982038116899,
          -0.006906369467663759,
          -0.007002756897210621,
          -0.00709914432675748,
          -0.007195531756304341,
          -0.007291919185851202,
          -0.007388306615398061,
          -0.007484694044944922,
          -0.007581081474491782,
          -0.007677468904038642,
          -0.007773856333585503,
          -0.007870243763132364,
          -0.007966631192679223,
          -0.008063018622226083,
          -0.008159406051772945,
          -0.008255793481319804,
          -0.008352180910866664,
          -0.008448568340413524,
          -0.008544955769960385,
          -0.008641343199507245,
          -0.008737730629054107,
          -0.008834118058600966,
          -0.008930505488147826,
          -0.009026892917694686,
          -0.009123280347241547,
          -0.009219667776788409,
          -0.009316055206335268,
          -0.009412442635882128,
          -0.009508830065428986,
          -0.009605217494975848,
          -0.00970160492452271,
          -0.009797992354069569,
          -0.009894379783616429,
          -0.009990767213163288,
          -0.01008715464271015,
          -0.010183542072257011,
          -0.010279929501803871,
          -0.010376316931350731,
          -0.01047270436089759,
          -0.010569091790444452,
          -0.010665479219991314,
          -0.010761866649538172,
          -0.010858254079085031,
          -0.010954641508631891,
          -0.011051028938178753,
          -0.011147416367725614,
          -0.011243803797272474,
          -0.011340191226819334,
          -0.011436578656366193,
          -0.011532966085913055,
          -0.011629353515459916,
          -0.011725740945006776,
          -0.011822128374553636,
          -0.011918515804100494,
          -0.012014903233647355,
          -0.012111290663194217,
          -0.012207678092741077,
          -0.012304065522287936,
          -0.012400452951834796,
          -0.012496840381381658,
          -0.012410097008956083,
          -0.012323353636530506,
          -0.012236610264104933,
          -0.012149866891679358,
          -0.01206312351925378,
          -0.011976380146828206,
          -0.011889636774402633,
          -0.011802893401977058,
          -0.011716150029551483,
          -0.011629406657125908,
          -0.011542663284700331,
          -0.011455919912274756,
          -0.011369176539849183,
          -0.011282433167423608,
          -0.011195689794998031,
          -0.011108946422572456,
          -0.011022203050146881,
          -0.010935459677721306,
          -0.010848716305295733,
          -0.010761972932870158,
          -0.010675229560444581,
          -0.010588486188019006,
          -0.010501742815593433,
          -0.010414999443167856,
          -0.010328256070742281,
          -0.010241512698316706,
          -0.01015476932589113,
          -0.010068025953465556,
          -0.009981282581039981,
          -0.009894539208614404,
          -0.00980779583618883,
          -0.009721052463763256,
          -0.009634309091337681,
          -0.009547565718912106,
          -0.009460822346486531,
          -0.009374078974060954,
          -0.00928733560163538,
          -0.009200592229209804,
          -0.009113848856784231,
          -0.009027105484358654,
          -0.00894036211193308,
          -0.008853618739507504,
          -0.00876687536708193,
          -0.008680131994656354,
          -0.008593388622230781,
          -0.008506645249805204,
          -0.00841990187737963,
          -0.008333158504954054,
          -0.00824641513252848,
          -0.008159671760102905,
          -0.00807292838767733,
          -0.007986185015251755,
          -0.007899441642826178,
          -0.007812698270400605,
          -0.0077259548979750296,
          -0.007639211525549455,
          -0.00755246815312388,
          -0.007465724780698303,
          -0.007378981408272729,
          -0.007292238035847155,
          -0.007205494663421579,
          -0.007118751290996005,
          -0.007032007918570428,
          -0.006945264546144854,
          -0.006858521173719278,
          -0.006771777801293704,
          -0.00668503442886813,
          -0.006598291056442553,
          -0.006511547684016978,
          -0.006424804311591403,
          -0.006338060939165828,
          -0.006251317566740253,
          -0.006164574194314678,
          -0.006077830821889103,
          -0.005991087449463528,
          -0.005904344077037953,
          -0.005817600704612378,
          -0.005730857332186803,
          -0.005644113959761228,
          -0.005557370587335653,
          -0.005470627214910078,
          -0.005383883842484503,
          -0.005297140470058927,
          -0.005210397097633352,
          -0.005123653725207777,
          -0.005036910352782202,
          -0.004950166980356627,
          -0.004863423607931052,
          -0.004776680235505477,
          -0.004689936863079902,
          -0.004603193490654327,
          -0.004516450118228752,
          -0.004429706745803177,
          -0.0043429633733776014,
          -0.0042562200009520264,
          -0.0041694766285264515,
          -0.0040827332561008765,
          -0.0039959898836753015,
          -0.0039092465112497265,
          -0.0038225031388241515,
          -0.0036406384948063073,
          -0.003458773850788463,
          -0.0032769092067706194,
          -0.0030950445627527757,
          -0.0029131799187349316,
          -0.0027313152747170874,
          -0.0025494506306992437,
          -0.0023675859866814,
          -0.0021857213426635562,
          -0.0020038566986457116,
          -0.0018219920546278677,
          -0.0016401274106100238,
          -0.00145826276659218,
          -0.0012763981225743359,
          -0.0010945334785564921,
          -0.0009126688345386475,
          -0.0007308041905208034,
          -0.0005489395465029601,
          -0.00036707490248511637,
          -0.0001852102584672722,
          -0.0000033456144494284877,
          0.0001785190295684161,
          0.00036038367358625983,
          0.0005422483176041036,
          0.0007241129616219477,
          0.0009059776056397919,
          0.001087842249657636,
          0.0012697068936754798,
          0.001451571537693323,
          0.0016334361817111672,
          0.0018153008257290114,
          0.001997165469746856,
          0.0021790301137646997,
          0.002360894757782544,
          0.002542759401800387,
          0.0027246240458182313,
          0.0029064886898360755,
          0.003088353333853919,
          0.0032702179778717633,
          0.0034520826218896075,
          0.003633947265907451,
          0.003815811909925295,
          0.003997676553943138,
          0.004179541197960983,
          0.004361405841978827,
          0.004543270485996672,
          0.004725135130014515,
          0.004906999774032359,
          0.005088864418050202,
          0.005270729062068047,
          0.0054525937060858915,
          0.005634458350103735,
          0.005816322994121579,
          0.005998187638139423,
          0.006180052282157267,
          0.006361916926175111,
          0.006543781570192954,
          0.006725646214210798,
          0.006907510858228641,
          0.007089375502246486,
          0.00727124014626433,
          0.007453104790282173,
          0.00763496943430002,
          0.007816834078317864,
          0.007998698722335707,
          0.008180563366353552,
          0.008362428010371396,
          0.00854429265438924,
          0.008726157298407082,
          0.008908021942424927,
          0.00908988658644277,
          0.009271751230460614,
          0.009453615874478459,
          0.009635480518496302,
          0.009817345162514146,
          0.00999920980653199,
          0.010181074450549834,
          0.010362939094567678,
          0.010544803738585523,
          0.010726668382603366,
          0.01090853302662121,
          0.011090397670639053,
          0.011272262314656896,
          0.01145412695867474,
          0.011635991602692585,
          0.011817856246710428,
          0.011999720890728273,
          0.012181585534746119,
          0.012363450178763963,
          0.012545314822781806,
          0.012727179466799651,
          0.012909044110817496,
          0.013090908754835338,
          0.013272773398853181,
          0.013454638042871026,
          0.013636502686888869,
          0.013818367330906713,
          0.014000231974924558,
          0.0141820966189424,
          0.014363961262960245,
          0.014468837496020185,
          0.014573713729080125,
          0.014678589962140064,
          0.014783466195200004,
          0.014888342428259944,
          0.014993218661319882,
          0.015098094894379823,
          0.015202971127439763,
          0.015307847360499702,
          0.015412723593559642,
          0.015517599826619582,
          0.015622476059679521,
          0.015727352292739458,
          0.015832228525799397,
          0.015937104758859337,
          0.016041980991919277,
          0.016146857224979216,
          0.016251733458039156,
          0.016356609691099096,
          0.01646148592415904,
          0.016566362157218975,
          0.016671238390278915,
          0.016776114623338854,
          0.016880990856398794,
          0.016985867089458734,
          0.017090743322518673,
          0.017195619555578613,
          0.017300495788638553,
          0.017405372021698493,
          0.01751024825475843,
          0.017615124487818372,
          0.01772000072087831,
          0.01782487695393825,
          0.01792975318699819,
          0.01803462942005813,
          0.018139505653118067,
          0.01824438188617801,
          0.018349258119237946,
          0.01845413435229789,
          0.018559010585357825,
          0.018663886818417765,
          0.018768763051477705,
          0.018873639284537645,
          0.018978515517597584,
          0.019083391750657527,
          0.019188267983717464,
          0.019293144216777403,
          0.019398020449837343,
          0.019502896682897283,
          0.019607772915957222,
          0.019712649149017162,
          0.0198175253820771,
          0.01992240161513704,
          0.02002727784819698,
          0.02013215408125692,
          0.02023703031431686,
          0.020341906547376797,
          0.020446782780436736,
          0.020551659013496676,
          0.020656535246556616,
          0.020761411479616555,
          0.020866287712676495,
          0.020971163945736438,
          0.021076040178796374,
          0.021180916411856317,
          0.021285792644916257,
          0.021390668877976197,
          0.021495545111036136,
          0.021600421344096073,
          0.02170529757715601,
          0.021810173810215952,
          0.021915050043275888,
          0.02201992627633583,
          0.022124802509395768,
          0.02222967874245571,
          0.022334554975515654,
          0.02243943120857559,
          0.022544307441635533,
          0.02264918367469547,
          0.022754059907755413,
          0.02285893614081535,
          0.02296381237387529,
          0.023068688606935225,
          0.023173564839995168,
          0.023278441073055104,
          0.023383317306115047,
          0.023488193539174983,
          0.023593069772234927,
          0.023697946005294863,
          0.023802822238354806,
          0.023907698471414742,
          0.024012574704474685,
          0.02411745093753462,
          0.02422232717059456,
          0.024327203403654497,
          0.02443207963671444,
          0.024536955869774377,
          0.02464183210283432,
          0.024746708335894256,
          0.0248515845689542,
          0.024569899081665913,
          0.024288213594377633,
          0.024006528107089347,
          0.023724842619801064,
          0.023443157132512778,
          0.0231614716452245,
          0.022879786157936215,
          0.022598100670647932,
          0.02231641518335965,
          0.022034729696071367,
          0.02175304420878308,
          0.021471358721494797,
          0.021189673234206514,
          0.02090798774691823,
          0.020626302259629945,
          0.020344616772341662,
          0.02006293128505338,
          0.019781245797765096,
          0.019499560310476814,
          0.019217874823188534,
          0.018936189335900248,
          0.018654503848611965,
          0.01837281836132368,
          0.0180911328740354,
          0.017809447386747113,
          0.017527761899458826,
          0.017246076412170547,
          0.01696439092488226,
          0.016682705437593977,
          0.01640101995030569,
          0.01611933446301741,
          0.01583764897572913,
          0.015555963488440846,
          0.015274278001152561,
          0.01499259251386428,
          0.014710907026575994,
          0.014429221539287712,
          0.014147536051999426,
          0.013865850564711143,
          0.013584165077422859,
          0.013302479590134576,
          0.013020794102846293,
          0.012739108615558008,
          0.012457423128269729,
          0.012175737640981444,
          0.011894052153693161,
          0.011612366666404876,
          0.011330681179116594,
          0.011048995691828309,
          0.010767310204540026,
          0.010485624717251743,
          0.010203939229963458,
          0.009922253742675176,
          0.009640568255386893,
          0.00935888276809861,
          0.009077197280810325,
          0.008795511793522042,
          0.00851382630623376,
          0.008232140818945475,
          0.007950455331657193,
          0.007668769844368909,
          0.007387084357080626,
          0.0071053988697923395,
          0.0068237133825040566,
          0.006542027895215772,
          0.006260342407927491,
          0.005978656920639207,
          0.005696971433350923,
          0.00541528594606264,
          0.005133600458774356,
          0.004851914971486073,
          0.00457022948419779,
          0.004288543996909507,
          0.004006858509621223,
          0.0037251730223329393,
          0.0034434875350446556,
          0.0031618020477563727,
          0.0028801165604680893,
          0.0025984310731798055,
          0.0023167455858915226,
          0.002035060098603239,
          0.0017533746113149546,
          0.0014716891240266717,
          0.001190003636738388,
          0.0009083181494501046,
          0.0006266326621618217,
          0.0003449471748735379,
          0.00006326168758525414,
          -0.0002184237997030292,
          -0.0005001092869913125,
          -0.0007817947742795963,
          -0.0010634802615678797,
          -0.001345165748856163,
          -0.0016268512361444463,
          -0.0019085367234327297,
          -0.0021902222107210135,
          -0.002471907698009297,
          -0.00275359318529758,
          -0.0030352786725858635,
          -0.0033169641598741473,
          -0.0033169641598741473,
          -0.0033169641598741473,
          -0.0033169641598741473,
          -0.0033169641598741473,
          -0.0033169641598741473,
          -0.0033169641598741473,
          -0.0033169641598741473,
          -0.0033169641598741473,
          -0.0033169641598741473,
          -0.0033169641598741477,
          -0.0033169641598741473,
          -0.0033169641598741473,
          -0.0033169641598741473,
          -0.0033169641598741473,
          -0.003316964159874147,
          -0.0033169641598741473,
          -0.0033169641598741473,
          -0.0033169641598741473,
          -0.0033169641598741473,
          -0.0033169641598741473,
          -0.0033169641598741473,
          -0.0033169641598741473,
          -0.0033169641598741473,
          -0.0033169641598741473,
          -0.0033169641598741473,
          -0.0033169641598741473,
          -0.0033169641598741473,
          -0.0033169641598741473,
          -0.0033169641598741473,
          -0.0033169641598741473,
          -0.0033169641598741473,
          -0.0033169641598741473,
          -0.0033169641598741473,
          -0.0033169641598741473,
          -0.0033169641598741473,
          -0.0033169641598741473,
          -0.0033169641598741473,
          -0.0033169641598741473,
          -0.0033169641598741473,
          -0.0033169641598741473,
          -0.0033169641598741473,
          -0.0033169641598741473,
          -0.0033169641598741473,
          -0.0033169641598741473,
          -0.0033169641598741473,
          -0.0033169641598741473,
          -0.0033169641598741473,
          -0.0033169641598741473,
          -0.0033169641598741473,
          -0.0033169641598741473,
          -0.0033169641598741473,
          -0.0033169641598741473,
          -0.0033169641598741473,
          -0.0033169641598741473,
          -0.0033169641598741473,
          -0.0033169641598741473,
          -0.0033169641598741473,
          -0.0033169641598741473,
          -0.0033169641598741473,
          -0.0033169641598741473,
          -0.0033169641598741473,
          -0.0033169641598741473,
          -0.0033169641598741473,
          -0.0033169641598741473,
          -0.0033169641598741473,
          -0.0033169641598741473,
          -0.0033169641598741473,
          -0.0033169641598741473,
          -0.0033169641598741473,
          -0.0033169641598741473,
          -0.0033169641598741473,
          -0.0033169641598741473,
          -0.0033169641598741473,
          -0.0033169641598741473,
          -0.0033169641598741473,
          -0.0033169641598741473,
          -0.0033169641598741473,
          -0.0033169641598741473,
          -0.0033169641598741473,
          -0.0033169641598741473,
          -0.0033169641598741473,
          -0.0033169641598741473,
          -0.0033169641598741473,
          -0.0033169641598741473,
          -0.003316964159874147,
          -0.0033169641598741473,
          -0.0033169641598741473,
          -0.0033169641598741473,
          -0.0033169641598741473,
          -0.0033169641598741477,
          -0.0033169641598741473,
          -0.0033169641598741473,
          -0.0033169641598741473,
          -0.0033169641598741473,
          -0.0033169641598741473,
          -0.0033169641598741473,
          -0.0033169641598741473,
          -0.0033169641598741473,
          -0.0033169641598741473,
          -0.0033169641598741473
         ]
        }
       ],
       "layout": {
        "annotations": [
         {
          "font": {
           "color": "black",
           "size": 13
          },
          "showarrow": false,
          "text": "Fig.6. This line chart shows that the energy sector is already slowing it's CO2 emissions faster than other sectors.",
          "x": 0.5,
          "xref": "paper",
          "y": -0.2,
          "yref": "paper"
         }
        ],
        "height": 500,
        "showlegend": true,
        "template": {
         "data": {
          "bar": [
           {
            "error_x": {
             "color": "#2a3f5f"
            },
            "error_y": {
             "color": "#2a3f5f"
            },
            "marker": {
             "line": {
              "color": "#E5ECF6",
              "width": 0.5
             },
             "pattern": {
              "fillmode": "overlay",
              "size": 10,
              "solidity": 0.2
             }
            },
            "type": "bar"
           }
          ],
          "barpolar": [
           {
            "marker": {
             "line": {
              "color": "#E5ECF6",
              "width": 0.5
             },
             "pattern": {
              "fillmode": "overlay",
              "size": 10,
              "solidity": 0.2
             }
            },
            "type": "barpolar"
           }
          ],
          "carpet": [
           {
            "aaxis": {
             "endlinecolor": "#2a3f5f",
             "gridcolor": "white",
             "linecolor": "white",
             "minorgridcolor": "white",
             "startlinecolor": "#2a3f5f"
            },
            "baxis": {
             "endlinecolor": "#2a3f5f",
             "gridcolor": "white",
             "linecolor": "white",
             "minorgridcolor": "white",
             "startlinecolor": "#2a3f5f"
            },
            "type": "carpet"
           }
          ],
          "choropleth": [
           {
            "colorbar": {
             "outlinewidth": 0,
             "ticks": ""
            },
            "type": "choropleth"
           }
          ],
          "contour": [
           {
            "colorbar": {
             "outlinewidth": 0,
             "ticks": ""
            },
            "colorscale": [
             [
              0,
              "#0d0887"
             ],
             [
              0.1111111111111111,
              "#46039f"
             ],
             [
              0.2222222222222222,
              "#7201a8"
             ],
             [
              0.3333333333333333,
              "#9c179e"
             ],
             [
              0.4444444444444444,
              "#bd3786"
             ],
             [
              0.5555555555555556,
              "#d8576b"
             ],
             [
              0.6666666666666666,
              "#ed7953"
             ],
             [
              0.7777777777777778,
              "#fb9f3a"
             ],
             [
              0.8888888888888888,
              "#fdca26"
             ],
             [
              1,
              "#f0f921"
             ]
            ],
            "type": "contour"
           }
          ],
          "contourcarpet": [
           {
            "colorbar": {
             "outlinewidth": 0,
             "ticks": ""
            },
            "type": "contourcarpet"
           }
          ],
          "heatmap": [
           {
            "colorbar": {
             "outlinewidth": 0,
             "ticks": ""
            },
            "colorscale": [
             [
              0,
              "#0d0887"
             ],
             [
              0.1111111111111111,
              "#46039f"
             ],
             [
              0.2222222222222222,
              "#7201a8"
             ],
             [
              0.3333333333333333,
              "#9c179e"
             ],
             [
              0.4444444444444444,
              "#bd3786"
             ],
             [
              0.5555555555555556,
              "#d8576b"
             ],
             [
              0.6666666666666666,
              "#ed7953"
             ],
             [
              0.7777777777777778,
              "#fb9f3a"
             ],
             [
              0.8888888888888888,
              "#fdca26"
             ],
             [
              1,
              "#f0f921"
             ]
            ],
            "type": "heatmap"
           }
          ],
          "heatmapgl": [
           {
            "colorbar": {
             "outlinewidth": 0,
             "ticks": ""
            },
            "colorscale": [
             [
              0,
              "#0d0887"
             ],
             [
              0.1111111111111111,
              "#46039f"
             ],
             [
              0.2222222222222222,
              "#7201a8"
             ],
             [
              0.3333333333333333,
              "#9c179e"
             ],
             [
              0.4444444444444444,
              "#bd3786"
             ],
             [
              0.5555555555555556,
              "#d8576b"
             ],
             [
              0.6666666666666666,
              "#ed7953"
             ],
             [
              0.7777777777777778,
              "#fb9f3a"
             ],
             [
              0.8888888888888888,
              "#fdca26"
             ],
             [
              1,
              "#f0f921"
             ]
            ],
            "type": "heatmapgl"
           }
          ],
          "histogram": [
           {
            "marker": {
             "pattern": {
              "fillmode": "overlay",
              "size": 10,
              "solidity": 0.2
             }
            },
            "type": "histogram"
           }
          ],
          "histogram2d": [
           {
            "colorbar": {
             "outlinewidth": 0,
             "ticks": ""
            },
            "colorscale": [
             [
              0,
              "#0d0887"
             ],
             [
              0.1111111111111111,
              "#46039f"
             ],
             [
              0.2222222222222222,
              "#7201a8"
             ],
             [
              0.3333333333333333,
              "#9c179e"
             ],
             [
              0.4444444444444444,
              "#bd3786"
             ],
             [
              0.5555555555555556,
              "#d8576b"
             ],
             [
              0.6666666666666666,
              "#ed7953"
             ],
             [
              0.7777777777777778,
              "#fb9f3a"
             ],
             [
              0.8888888888888888,
              "#fdca26"
             ],
             [
              1,
              "#f0f921"
             ]
            ],
            "type": "histogram2d"
           }
          ],
          "histogram2dcontour": [
           {
            "colorbar": {
             "outlinewidth": 0,
             "ticks": ""
            },
            "colorscale": [
             [
              0,
              "#0d0887"
             ],
             [
              0.1111111111111111,
              "#46039f"
             ],
             [
              0.2222222222222222,
              "#7201a8"
             ],
             [
              0.3333333333333333,
              "#9c179e"
             ],
             [
              0.4444444444444444,
              "#bd3786"
             ],
             [
              0.5555555555555556,
              "#d8576b"
             ],
             [
              0.6666666666666666,
              "#ed7953"
             ],
             [
              0.7777777777777778,
              "#fb9f3a"
             ],
             [
              0.8888888888888888,
              "#fdca26"
             ],
             [
              1,
              "#f0f921"
             ]
            ],
            "type": "histogram2dcontour"
           }
          ],
          "mesh3d": [
           {
            "colorbar": {
             "outlinewidth": 0,
             "ticks": ""
            },
            "type": "mesh3d"
           }
          ],
          "parcoords": [
           {
            "line": {
             "colorbar": {
              "outlinewidth": 0,
              "ticks": ""
             }
            },
            "type": "parcoords"
           }
          ],
          "pie": [
           {
            "automargin": true,
            "type": "pie"
           }
          ],
          "scatter": [
           {
            "fillpattern": {
             "fillmode": "overlay",
             "size": 10,
             "solidity": 0.2
            },
            "type": "scatter"
           }
          ],
          "scatter3d": [
           {
            "line": {
             "colorbar": {
              "outlinewidth": 0,
              "ticks": ""
             }
            },
            "marker": {
             "colorbar": {
              "outlinewidth": 0,
              "ticks": ""
             }
            },
            "type": "scatter3d"
           }
          ],
          "scattercarpet": [
           {
            "marker": {
             "colorbar": {
              "outlinewidth": 0,
              "ticks": ""
             }
            },
            "type": "scattercarpet"
           }
          ],
          "scattergeo": [
           {
            "marker": {
             "colorbar": {
              "outlinewidth": 0,
              "ticks": ""
             }
            },
            "type": "scattergeo"
           }
          ],
          "scattergl": [
           {
            "marker": {
             "colorbar": {
              "outlinewidth": 0,
              "ticks": ""
             }
            },
            "type": "scattergl"
           }
          ],
          "scattermapbox": [
           {
            "marker": {
             "colorbar": {
              "outlinewidth": 0,
              "ticks": ""
             }
            },
            "type": "scattermapbox"
           }
          ],
          "scatterpolar": [
           {
            "marker": {
             "colorbar": {
              "outlinewidth": 0,
              "ticks": ""
             }
            },
            "type": "scatterpolar"
           }
          ],
          "scatterpolargl": [
           {
            "marker": {
             "colorbar": {
              "outlinewidth": 0,
              "ticks": ""
             }
            },
            "type": "scatterpolargl"
           }
          ],
          "scatterternary": [
           {
            "marker": {
             "colorbar": {
              "outlinewidth": 0,
              "ticks": ""
             }
            },
            "type": "scatterternary"
           }
          ],
          "surface": [
           {
            "colorbar": {
             "outlinewidth": 0,
             "ticks": ""
            },
            "colorscale": [
             [
              0,
              "#0d0887"
             ],
             [
              0.1111111111111111,
              "#46039f"
             ],
             [
              0.2222222222222222,
              "#7201a8"
             ],
             [
              0.3333333333333333,
              "#9c179e"
             ],
             [
              0.4444444444444444,
              "#bd3786"
             ],
             [
              0.5555555555555556,
              "#d8576b"
             ],
             [
              0.6666666666666666,
              "#ed7953"
             ],
             [
              0.7777777777777778,
              "#fb9f3a"
             ],
             [
              0.8888888888888888,
              "#fdca26"
             ],
             [
              1,
              "#f0f921"
             ]
            ],
            "type": "surface"
           }
          ],
          "table": [
           {
            "cells": {
             "fill": {
              "color": "#EBF0F8"
             },
             "line": {
              "color": "white"
             }
            },
            "header": {
             "fill": {
              "color": "#C8D4E3"
             },
             "line": {
              "color": "white"
             }
            },
            "type": "table"
           }
          ]
         },
         "layout": {
          "annotationdefaults": {
           "arrowcolor": "#2a3f5f",
           "arrowhead": 0,
           "arrowwidth": 1
          },
          "autotypenumbers": "strict",
          "coloraxis": {
           "colorbar": {
            "outlinewidth": 0,
            "ticks": ""
           }
          },
          "colorscale": {
           "diverging": [
            [
             0,
             "#8e0152"
            ],
            [
             0.1,
             "#c51b7d"
            ],
            [
             0.2,
             "#de77ae"
            ],
            [
             0.3,
             "#f1b6da"
            ],
            [
             0.4,
             "#fde0ef"
            ],
            [
             0.5,
             "#f7f7f7"
            ],
            [
             0.6,
             "#e6f5d0"
            ],
            [
             0.7,
             "#b8e186"
            ],
            [
             0.8,
             "#7fbc41"
            ],
            [
             0.9,
             "#4d9221"
            ],
            [
             1,
             "#276419"
            ]
           ],
           "sequential": [
            [
             0,
             "#0d0887"
            ],
            [
             0.1111111111111111,
             "#46039f"
            ],
            [
             0.2222222222222222,
             "#7201a8"
            ],
            [
             0.3333333333333333,
             "#9c179e"
            ],
            [
             0.4444444444444444,
             "#bd3786"
            ],
            [
             0.5555555555555556,
             "#d8576b"
            ],
            [
             0.6666666666666666,
             "#ed7953"
            ],
            [
             0.7777777777777778,
             "#fb9f3a"
            ],
            [
             0.8888888888888888,
             "#fdca26"
            ],
            [
             1,
             "#f0f921"
            ]
           ],
           "sequentialminus": [
            [
             0,
             "#0d0887"
            ],
            [
             0.1111111111111111,
             "#46039f"
            ],
            [
             0.2222222222222222,
             "#7201a8"
            ],
            [
             0.3333333333333333,
             "#9c179e"
            ],
            [
             0.4444444444444444,
             "#bd3786"
            ],
            [
             0.5555555555555556,
             "#d8576b"
            ],
            [
             0.6666666666666666,
             "#ed7953"
            ],
            [
             0.7777777777777778,
             "#fb9f3a"
            ],
            [
             0.8888888888888888,
             "#fdca26"
            ],
            [
             1,
             "#f0f921"
            ]
           ]
          },
          "colorway": [
           "#636efa",
           "#EF553B",
           "#00cc96",
           "#ab63fa",
           "#FFA15A",
           "#19d3f3",
           "#FF6692",
           "#B6E880",
           "#FF97FF",
           "#FECB52"
          ],
          "font": {
           "color": "#2a3f5f"
          },
          "geo": {
           "bgcolor": "white",
           "lakecolor": "white",
           "landcolor": "#E5ECF6",
           "showlakes": true,
           "showland": true,
           "subunitcolor": "white"
          },
          "hoverlabel": {
           "align": "left"
          },
          "hovermode": "closest",
          "mapbox": {
           "style": "light"
          },
          "paper_bgcolor": "white",
          "plot_bgcolor": "#E5ECF6",
          "polar": {
           "angularaxis": {
            "gridcolor": "white",
            "linecolor": "white",
            "ticks": ""
           },
           "bgcolor": "#E5ECF6",
           "radialaxis": {
            "gridcolor": "white",
            "linecolor": "white",
            "ticks": ""
           }
          },
          "scene": {
           "xaxis": {
            "backgroundcolor": "#E5ECF6",
            "gridcolor": "white",
            "gridwidth": 2,
            "linecolor": "white",
            "showbackground": true,
            "ticks": "",
            "zerolinecolor": "white"
           },
           "yaxis": {
            "backgroundcolor": "#E5ECF6",
            "gridcolor": "white",
            "gridwidth": 2,
            "linecolor": "white",
            "showbackground": true,
            "ticks": "",
            "zerolinecolor": "white"
           },
           "zaxis": {
            "backgroundcolor": "#E5ECF6",
            "gridcolor": "white",
            "gridwidth": 2,
            "linecolor": "white",
            "showbackground": true,
            "ticks": "",
            "zerolinecolor": "white"
           }
          },
          "shapedefaults": {
           "line": {
            "color": "#2a3f5f"
           }
          },
          "ternary": {
           "aaxis": {
            "gridcolor": "white",
            "linecolor": "white",
            "ticks": ""
           },
           "baxis": {
            "gridcolor": "white",
            "linecolor": "white",
            "ticks": ""
           },
           "bgcolor": "#E5ECF6",
           "caxis": {
            "gridcolor": "white",
            "linecolor": "white",
            "ticks": ""
           }
          },
          "title": {
           "x": 0.05
          },
          "xaxis": {
           "automargin": true,
           "gridcolor": "white",
           "linecolor": "white",
           "ticks": "",
           "title": {
            "standoff": 15
           },
           "zerolinecolor": "white",
           "zerolinewidth": 2
          },
          "yaxis": {
           "automargin": true,
           "gridcolor": "white",
           "linecolor": "white",
           "ticks": "",
           "title": {
            "standoff": 15
           },
           "zerolinecolor": "white",
           "zerolinewidth": 2
          }
         }
        },
        "title": {
         "text": "Growth of CO2 Emissions for Different Sectors in the Last 10 Years"
        },
        "width": 800,
        "xaxis": {
         "title": {
          "text": "Year"
         }
        },
        "yaxis": {
         "title": {
          "text": "Growth of CO2 Emissions"
         }
        }
       }
      }
     },
     "metadata": {},
     "output_type": "display_data"
    }
   ],
   "source": [
    "last_years = 10\n",
    "\n",
    "x = np.array(df['Year'])[-last_years:]\n",
    "sectors = list(df.columns)\n",
    "\n",
    "# Make dict\n",
    "energy_rest_dict = {\n",
    "    'Year': x,\n",
    "    'Energy': np.array(df['Energy'])[-last_years:],\n",
    "    'Rest': np.zeros(len(x[-last_years:]))\n",
    "}\n",
    "\n",
    "# Fill 'Rest' category\n",
    "for sector in sectors:\n",
    "    if sector != 'Year' and sector != 'Energy':\n",
    "        energy_rest_dict['Rest'] += np.array(df[sector])[-last_years:]\n",
    "        \n",
    "# Find derivatives\n",
    "for key in energy_rest_dict:\n",
    "    if key != 'Year':\n",
    "        y = np.array(energy_rest_dict[key])\n",
    "        \n",
    "        # Normalize\n",
    "        y /= max(y)\n",
    "\n",
    "        dy = np.zeros(y.shape)\n",
    "        dy[0:-1] = np.diff(y)/np.diff(x)\n",
    "        dy[-1] = (y[-1] - y[-2])/(x[-1] - x[-2])\n",
    "        \n",
    "        energy_rest_dict[key] = dy\n",
    "        \n",
    "frame = []\n",
    "\n",
    "for i in range(len(x)):\n",
    "    temp_lst = []\n",
    "    \n",
    "    for key in energy_rest_dict:\n",
    "        temp_lst.append(energy_rest_dict[key][i])\n",
    "    \n",
    "    frame.append(temp_lst)\n",
    "    \n",
    "df_vis_4 = pd.DataFrame(\n",
    "             frame,\n",
    "             columns = ['Year', 'Energy', 'Average of All Other Sectors'])\n",
    "\n",
    "frame = []\n",
    "\n",
    "for i in range(10):\n",
    "    frame.append(np.array(df_vis_4.loc[i]))\n",
    "    \n",
    "    if i == 9:\n",
    "        break\n",
    "    \n",
    "    for j in range(1, 100):\n",
    "        lower_fraction = (100 - j) / 100 * np.array(df_vis_4.loc[i])\n",
    "        upper_fraction = j / 100 * np.array(df_vis_4.loc[i+1])\n",
    "        \n",
    "        frame.append(lower_fraction + upper_fraction)\n",
    "        \n",
    "df_vis_5 = pd.DataFrame(\n",
    "             frame,\n",
    "             columns = ['Year', 'Energy', 'Average of All Other Sectors'])\n",
    "\n",
    "df_5 = df_vis_5.copy()\n",
    "\n",
    "df_vis_5['label'] = np.where(df_vis_5['Energy'] > df_vis_5['Average of All Other Sectors'], 1, 0)\n",
    "\n",
    "df_vis_5['group'] = df_vis_5['label'].ne(df_vis_5['label'].shift()).cumsum()\n",
    "df_vis_5 = df_vis_5.groupby('group')\n",
    "dfs = []\n",
    "for name, data in df_vis_5:\n",
    "    dfs.append(data)\n",
    "    \n",
    "# custom function to set fill color\n",
    "def fillcol(label):\n",
    "    if label >= 1:\n",
    "        return 'rgba(250,0,0,0.23)'\n",
    "    else:\n",
    "        return 'rgba(0,250,0,0.23)'\n",
    "\n",
    "fig = go.Figure()\n",
    "\n",
    "for df in dfs:\n",
    "    fig.add_traces(go.Scatter(x=df['Year'], y = df['Energy'], showlegend=False,\n",
    "                              line = dict(color='rgba(0,0,0,0)')))\n",
    "    \n",
    "    fig.add_traces(go.Scatter(x=df['Year'], y = df['Average of All Other Sectors'], showlegend=False,\n",
    "                              line = dict(color='rgba(0,0,0,0)'),\n",
    "                              fill='tonexty', \n",
    "                              fillcolor = fillcol(df['label'].iloc[0])))\n",
    "\n",
    "fig.add_traces(go.Scatter(x=df_5['Year'], y = df_5['Average of All Other Sectors'],\n",
    "                          line = dict(color='rgba(75,75,75,1)', width=2),\n",
    "                          name='Average of All Other Sectors'))\n",
    "    \n",
    "fig.add_traces(go.Scatter(x=df_5['Year'], y = df_5['Energy'],\n",
    "                          line = dict(color='blue', width=2),\n",
    "                          name='Energy Sector'))\n",
    "\n",
    "fig.update_xaxes(title_text=\"Year\")\n",
    "fig.update_yaxes(title_text=\"Growth of CO2 Emissions\")\n",
    "fig.update_layout(height=500, width=800, showlegend=True,\n",
    "                  title='Growth of CO2 Emissions for Different Sectors in the Last 10 Years')\n",
    "\n",
    "caption_text = \"Fig.6. This line chart shows that the energy sector is \\\n",
    "already slowing it's CO2 emissions faster than other sectors.\"\n",
    "fig.add_annotation(\n",
    "    x=0.5,  # x-coordinate for the annotation (0.5 = center of x-axis)\n",
    "    y=-0.2,  # y-coordinate for the annotation (negative value to position it below the graph)\n",
    "    xref=\"paper\",\n",
    "    yref=\"paper\",\n",
    "    text=caption_text,\n",
    "    showarrow=False,\n",
    "    font=dict(\n",
    "        size=13,\n",
    "        color=\"black\"\n",
    "    )\n",
    ")\n",
    "\n",
    "#fig.write_image('figure6.png')\n",
    "fig.show()"
   ]
  },
  {
   "attachments": {},
   "cell_type": "markdown",
   "id": "3f5817fb",
   "metadata": {},
   "source": [
    "<a id=\"argument-21\"></a>\n",
    "\n",
    "### Argument 1\n",
    "Figure 4 displays an area chart that gives us a good look at how the energy sector is already improng on using renewable energy sources, in the last 10 years almost 10% of energy produced has gotten renewable. This may not seem like a lot, but when you see that the trend is also rising, meaning that the growth is getting larger and larger each year, one can be positive-minded about the future of humanity. This shows that the energy sector is already working hard at finding greener sources, so to really make all the difference we might need to look elsewhere in sectors where this kind of development is not yet in full motion."
   ]
  },
  {
   "attachments": {},
   "cell_type": "markdown",
   "id": "22bfd459",
   "metadata": {},
   "source": [
    "<a id=\"argument-22\"></a>\n",
    "\n",
    "### Argument 2\n",
    "There is a reason that the energy sector is so big: we need energy for a lot of things and we can't so easily use less energy, which means that we should be careful about setting limitations for how much energy we can produce. The only CO2 emissions from energy that we should try to decrease are the emissions that result from unneccessary energy production. However, there is only a small amount of energy that we produce but don't use, as seen in figure 5. This means that there is only a small amount of unneccessary CO2 emissions that is caused by the energy sector: much less than one would initially expect."
   ]
  },
  {
   "attachments": {},
   "cell_type": "markdown",
   "id": "1dba7bb0",
   "metadata": {},
   "source": [
    "<a id=\"argument-23\"></a>\n",
    "\n",
    "### Argument 3\n",
    "The energy sector may be responsible for most CO2 emissions because of the sheer size of the sector, but the energy sector is already making big steps in reducing it's CO2 emissions. In fact, the energy sector is reducing it's CO2 emissions faster than most other sectors, as seen in figure 6. In the last ten years, it has been rare for the energy sector to have faster growing CO2 emissions than the average of all other sectors. The energy sector even shows a downward trend in it's CO2 emission growth, whereas the average of all other sectors shows an upward trend. It seems that the energy sector is already making great progress in it's CO2 emissions, and that we should in fact focus on the other sectors to stimulate a reduction in their CO2 emission growth."
   ]
  },
  {
   "attachments": {},
   "cell_type": "markdown",
   "id": "7a31cab2",
   "metadata": {},
   "source": [
    "<a id=\"use-of-generative-ai\"></a>\n",
    "\n",
    "## Use of Generative AI\n",
    "We used ChatGPT for the following things:\n",
    "\n",
    "Generate code that produced figure 4 when given a self-made figure made with matplotlib.pyplot.\n",
    "\n",
    "Generate code that produced figure 3 when given the relevant data from our datasets.\n",
    "\n",
    "Solve an issue with Github that prevented us from displaying figures."
   ]
  },
  {
   "cell_type": "markdown",
   "id": "18a2986d",
   "metadata": {},
   "source": []
  }
 ],
 "metadata": {
  "celltoolbar": "Tags",
  "kernelspec": {
   "display_name": "Python 3 (ipykernel)",
   "language": "python",
   "name": "python3"
  },
  "language_info": {
   "codemirror_mode": {
    "name": "ipython",
    "version": 3
   },
   "file_extension": ".py",
   "mimetype": "text/x-python",
   "name": "python",
   "nbconvert_exporter": "python",
   "pygments_lexer": "ipython3",
   "version": "3.8.10"
  }
 },
 "nbformat": 4,
 "nbformat_minor": 5
}

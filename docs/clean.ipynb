{
 "cells": [
  {
   "cell_type": "markdown",
   "id": "807d4110",
   "metadata": {},
   "source": [
    "## Dataset and Preprocessing\n",
    "The dataset \"Energy data 1990 - 2020.csv\" contains information about different aspects of the energy production and consumption for different countries from 1990 to 2020, such as the share of wind/solar energy in the total energy production of a country in a certain year.\n",
    "\n",
    "The dataset \"historical_emissions.csv\" contains information about the CO2 emissions of different industry sectors from different countries from 1990 to 2019, such as the CO2 emissions of the energy sector of a country in a certain year.\n",
    "\n",
    "We did not preprocess the dataset \"Energy data 1990 - 2020.csv\" in any way.\n",
    "\n",
    "We did preprocess the dataset \"historical_emissions.csv\" and saved the result as \"historical_emissions (cleanest).csv\". The preprocessing of this dataset went as follows:\n",
    "\n",
    "We removed all columns that only had one unique value. We also merged all rows that contained data about the same year but about different countries by summing up the CO2 emissions, so that we now had data about the global CO2 emissions instead of emissions of individual countries. Furthermore, we reorganised the data in a way that resembles a transposition: The original data had a unique column for every year, and had one column for all sectors with the value of that column for any row being the name of the sector about which that row contained data. But after our transformation, the dataset had one unique column for every sector, and had one column for all years with the value of that column for any row being the year about which that row contained data. Lastly, We merged the sectors \"Energy\" and \"Electricity/Heat\" by summing up their CO2 emission, because those sectors both belong to the energy production sector, which is the sector that we are interested in.\n",
    "\n",
    "We did all this preprocessing with the code below:"
   ]
  },
  {
   "cell_type": "code",
   "execution_count": 1,
   "id": "342daf41",
   "metadata": {},
   "outputs": [],
   "source": [
    "import pandas as pd\n",
    "\n",
    "df2 = pd.read_csv('historical_emissions.csv')\n",
    "\n",
    "X = range(1990, 2020)\n",
    "sectors = list(df2['Sector'].unique())\n",
    "\n",
    "sector_dict = {}\n",
    "\n",
    "for sector in sectors:\n",
    "    if sector != 'Electricity/Heat':\n",
    "        sector_dict[sector] = []\n",
    "\n",
    "        for i in X:\n",
    "            if sector != 'Energy':\n",
    "                total_sector_emission = df2[df2['Sector'] == sector][f\"{i}\"].sum()\n",
    "                sector_dict[sector].append(total_sector_emission)\n",
    "            else:\n",
    "                total_energy_emission = df2[df2['Sector'] == sector][f\"{i}\"].sum()\n",
    "                total_elec_heat_emission = df2[df2['Sector'] == 'Electricity/Heat'][f\"{i}\"].sum()\n",
    "\n",
    "                total_sector_emission = total_energy_emission + total_elec_heat_emission\n",
    "                sector_dict[sector].append(total_sector_emission)\n",
    "\n",
    "frame = []\n",
    "\n",
    "for i in range(len(X)):\n",
    "    temp_lst = [X[i]]\n",
    "    \n",
    "    for key in sector_dict:\n",
    "        temp_lst.append(sector_dict[key][i])\n",
    "    \n",
    "    frame.append(temp_lst)\n",
    "    \n",
    "sectors.remove('Electricity/Heat')\n",
    "    \n",
    "df_vis_2 = pd.DataFrame(\n",
    "             frame,\n",
    "             columns = ['Year'] + sectors)\n",
    "             \n",
    "df_vis_2.to_csv('historical_emissions (cleanest).csv')"
   ]
  },
  {
   "cell_type": "code",
   "execution_count": null,
   "id": "379265d8",
   "metadata": {},
   "outputs": [],
   "source": []
  }
 ],
 "metadata": {
  "kernelspec": {
   "display_name": "Python 3 (ipykernel)",
   "language": "python",
   "name": "python3"
  },
  "language_info": {
   "codemirror_mode": {
    "name": "ipython",
    "version": 3
   },
   "file_extension": ".py",
   "mimetype": "text/x-python",
   "name": "python",
   "nbconvert_exporter": "python",
   "pygments_lexer": "ipython3",
   "version": "3.8.10"
  }
 },
 "nbformat": 4,
 "nbformat_minor": 5
}
